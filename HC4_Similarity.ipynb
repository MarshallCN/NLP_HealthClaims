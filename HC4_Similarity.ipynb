{
 "cells": [
  {
   "cell_type": "code",
   "execution_count": 10,
   "metadata": {},
   "outputs": [],
   "source": [
    "import numpy as np \n",
    "import pandas as pd \n",
    "import matplotlib.pyplot as plt  \n",
    "import nltk\n",
    "from nltk.tokenize import sent_tokenize, word_tokenize\n",
    "import pickle\n",
    "from nltk.corpus import stopwords\n",
    "stopwordEn = stopwords.words('english')\n",
    "\n",
    "def drawTree(tagged):\n",
    "    grammar = r\"\"\"\n",
    "      NP: {<DT|JJ|NN.*>+}          # Chunk sequences of DT, JJ, NN\n",
    "      PP: {<IN><NP>}               # Chunk prepositions followed by NP\n",
    "      VP: {<VB.*><NP|PP|CLAUSE>+$} # Chunk verbs and their arguments\n",
    "      CLAUSE: {<NP><VP>}           # Chunk NP, VP\n",
    "      \"\"\"\n",
    "    cp = nltk.RegexpParser(grammar)\n",
    "    chunked = cp.parse(tagged)\n",
    "    chunked.draw() \n",
    "\n",
    "with open('df_hc_res.pickle', 'rb') as handle:\n",
    "    df_hc_res = pickle.load(handle)\n",
    "with open('df_hc_manu.pickle', 'rb') as handle:\n",
    "    df_hc_manu = pickle.load(handle)\n",
    "with open('cat_hc.pickle', 'rb') as handle:\n",
    "    cat_hc = pickle.load(handle)"
   ]
  },
  {
   "cell_type": "markdown",
   "metadata": {},
   "source": [
    "# Find HCs having identical nutrients "
   ]
  },
  {
   "cell_type": "code",
   "execution_count": 2,
   "metadata": {},
   "outputs": [
    {
     "data": {
      "text/html": [
       "<div>\n",
       "<style scoped>\n",
       "    .dataframe tbody tr th:only-of-type {\n",
       "        vertical-align: middle;\n",
       "    }\n",
       "\n",
       "    .dataframe tbody tr th {\n",
       "        vertical-align: top;\n",
       "    }\n",
       "\n",
       "    .dataframe thead th {\n",
       "        text-align: right;\n",
       "    }\n",
       "</style>\n",
       "<table border=\"1\" class=\"dataframe\">\n",
       "  <thead>\n",
       "    <tr style=\"text-align: right;\">\n",
       "      <th></th>\n",
       "      <th>hc</th>\n",
       "      <th>nutrient</th>\n",
       "      <th>nutrient_num</th>\n",
       "    </tr>\n",
       "  </thead>\n",
       "  <tbody>\n",
       "    <tr>\n",
       "      <th>0</th>\n",
       "      <td>bones: vitamin d supports normal bones.</td>\n",
       "      <td>[vitamin d]</td>\n",
       "      <td>1</td>\n",
       "    </tr>\n",
       "    <tr>\n",
       "      <th>1</th>\n",
       "      <td>bones: vitamin d supports the maintenance of n...</td>\n",
       "      <td>[vitamin d]</td>\n",
       "      <td>1</td>\n",
       "    </tr>\n",
       "    <tr>\n",
       "      <th>2</th>\n",
       "      <td>brain: dha supports normal brain function.</td>\n",
       "      <td>[]</td>\n",
       "      <td>0</td>\n",
       "    </tr>\n",
       "    <tr>\n",
       "      <th>3</th>\n",
       "      <td>calcium &amp; vitamin d support normal bones.</td>\n",
       "      <td>[calcium, vitamin d]</td>\n",
       "      <td>2</td>\n",
       "    </tr>\n",
       "    <tr>\n",
       "      <th>4</th>\n",
       "      <td>dha supports normal brain function.</td>\n",
       "      <td>[]</td>\n",
       "      <td>0</td>\n",
       "    </tr>\n",
       "  </tbody>\n",
       "</table>\n",
       "</div>"
      ],
      "text/plain": [
       "                                                  hc              nutrient  \\\n",
       "0            bones: vitamin d supports normal bones.           [vitamin d]   \n",
       "1  bones: vitamin d supports the maintenance of n...           [vitamin d]   \n",
       "2         brain: dha supports normal brain function.                    []   \n",
       "3          calcium & vitamin d support normal bones.  [calcium, vitamin d]   \n",
       "4                dha supports normal brain function.                    []   \n",
       "\n",
       "   nutrient_num  \n",
       "0             1  \n",
       "1             1  \n",
       "2             0  \n",
       "3             2  \n",
       "4             0  "
      ]
     },
     "execution_count": 2,
     "metadata": {},
     "output_type": "execute_result"
    }
   ],
   "source": [
    "df_hc_manu.head()"
   ]
  },
  {
   "cell_type": "code",
   "execution_count": 3,
   "metadata": {},
   "outputs": [
    {
     "data": {
      "text/plain": [
       "'bones: vitamin d supports normal bones.'"
      ]
     },
     "execution_count": 3,
     "metadata": {},
     "output_type": "execute_result"
    }
   ],
   "source": [
    "hc = df_hc_manu.iloc[0,0]\n",
    "hc"
   ]
  },
  {
   "cell_type": "code",
   "execution_count": 4,
   "metadata": {},
   "outputs": [
    {
     "data": {
      "text/plain": [
       "['NNS', ':', 'NN', 'NN', 'VBZ', 'JJ', 'NNS', '.']"
      ]
     },
     "execution_count": 4,
     "metadata": {},
     "output_type": "execute_result"
    }
   ],
   "source": [
    "hc_tag = [i[1] for i in nltk.pos_tag(word_tokenize(hc))]\n",
    "hc_tag"
   ]
  },
  {
   "cell_type": "code",
   "execution_count": 5,
   "metadata": {},
   "outputs": [
    {
     "data": {
      "text/html": [
       "<div>\n",
       "<style scoped>\n",
       "    .dataframe tbody tr th:only-of-type {\n",
       "        vertical-align: middle;\n",
       "    }\n",
       "\n",
       "    .dataframe tbody tr th {\n",
       "        vertical-align: top;\n",
       "    }\n",
       "\n",
       "    .dataframe thead th {\n",
       "        text-align: right;\n",
       "    }\n",
       "</style>\n",
       "<table border=\"1\" class=\"dataframe\">\n",
       "  <thead>\n",
       "    <tr style=\"text-align: right;\">\n",
       "      <th></th>\n",
       "      <th>approved_hc_ID</th>\n",
       "      <th>approved_count</th>\n",
       "      <th>manu_hc_ID</th>\n",
       "      <th>manu_count</th>\n",
       "    </tr>\n",
       "    <tr>\n",
       "      <th>nutrient</th>\n",
       "      <th></th>\n",
       "      <th></th>\n",
       "      <th></th>\n",
       "      <th></th>\n",
       "    </tr>\n",
       "  </thead>\n",
       "  <tbody>\n",
       "    <tr>\n",
       "      <th>vitamin d</th>\n",
       "      <td>[197, 198, 199, 200, 201, 202, 203, 238, 259, ...</td>\n",
       "      <td>10</td>\n",
       "      <td>[0, 1, 3, 12, 13, 14, 19, 20, 21, 22, 24, 25, ...</td>\n",
       "      <td>483</td>\n",
       "    </tr>\n",
       "  </tbody>\n",
       "</table>\n",
       "</div>"
      ],
      "text/plain": [
       "                                              approved_hc_ID  approved_count  \\\n",
       "nutrient                                                                       \n",
       "vitamin d  [197, 198, 199, 200, 201, 202, 203, 238, 259, ...              10   \n",
       "\n",
       "                                                  manu_hc_ID  manu_count  \n",
       "nutrient                                                                  \n",
       "vitamin d  [0, 1, 3, 12, 13, 14, 19, 20, 21, 22, 24, 25, ...         483  "
      ]
     },
     "execution_count": 5,
     "metadata": {},
     "output_type": "execute_result"
    }
   ],
   "source": [
    "neu = cat_hc.loc[df_hc_manu.iloc[0,1]]\n",
    "neu"
   ]
  },
  {
   "cell_type": "code",
   "execution_count": 6,
   "metadata": {},
   "outputs": [
    {
     "data": {
      "text/plain": [
       "[197, 198, 199, 200, 201, 202, 203, 238, 259, 260]"
      ]
     },
     "execution_count": 6,
     "metadata": {},
     "output_type": "execute_result"
    }
   ],
   "source": [
    "neu.iloc[0,0]"
   ]
  },
  {
   "cell_type": "code",
   "execution_count": 7,
   "metadata": {},
   "outputs": [
    {
     "data": {
      "text/html": [
       "<div>\n",
       "<style scoped>\n",
       "    .dataframe tbody tr th:only-of-type {\n",
       "        vertical-align: middle;\n",
       "    }\n",
       "\n",
       "    .dataframe tbody tr th {\n",
       "        vertical-align: top;\n",
       "    }\n",
       "\n",
       "    .dataframe thead th {\n",
       "        text-align: right;\n",
       "    }\n",
       "</style>\n",
       "<table border=\"1\" class=\"dataframe\">\n",
       "  <thead>\n",
       "    <tr style=\"text-align: right;\">\n",
       "      <th></th>\n",
       "      <th>hc_ID</th>\n",
       "      <th>hc</th>\n",
       "      <th>nutrient</th>\n",
       "      <th>condition</th>\n",
       "      <th>keywords</th>\n",
       "      <th>pos</th>\n",
       "      <th>hc_tagged</th>\n",
       "    </tr>\n",
       "  </thead>\n",
       "  <tbody>\n",
       "    <tr>\n",
       "      <th>197</th>\n",
       "      <td>197</td>\n",
       "      <td>vitamin d contributes to normal absorption/uti...</td>\n",
       "      <td>vitamin d</td>\n",
       "      <td>The claim may be used only for food which is a...</td>\n",
       "      <td>vitamin D, absoption, utilisation, utilization...</td>\n",
       "      <td>[NN, NN, VBZ, TO, JJ, NN, IN, NN, CC, NN, .]</td>\n",
       "      <td>[(vitamin, NN), (d, NN), (contributes, VBZ), (...</td>\n",
       "    </tr>\n",
       "    <tr>\n",
       "      <th>198</th>\n",
       "      <td>198</td>\n",
       "      <td>vitamin d contributes to normal blood calcium ...</td>\n",
       "      <td>vitamin d</td>\n",
       "      <td>The claim may be used only for food which is a...</td>\n",
       "      <td>vitamin D, blood, calcium</td>\n",
       "      <td>[NN, NN, VBZ, TO, JJ, NN, NN, NNS, .]</td>\n",
       "      <td>[(vitamin, NN), (d, NN), (contributes, VBZ), (...</td>\n",
       "    </tr>\n",
       "    <tr>\n",
       "      <th>199</th>\n",
       "      <td>199</td>\n",
       "      <td>vitamin d contributes to the maintenance of no...</td>\n",
       "      <td>vitamin d</td>\n",
       "      <td>The claim may be used only for food which is a...</td>\n",
       "      <td>vitamin D, bones</td>\n",
       "      <td>[NN, NN, VBZ, TO, DT, NN, IN, JJ, NNS, .]</td>\n",
       "      <td>[(vitamin, NN), (d, NN), (contributes, VBZ), (...</td>\n",
       "    </tr>\n",
       "    <tr>\n",
       "      <th>200</th>\n",
       "      <td>200</td>\n",
       "      <td>vitamin d contributes to the maintenance of no...</td>\n",
       "      <td>vitamin d</td>\n",
       "      <td>The claim may be used only for food which is a...</td>\n",
       "      <td>vitamin D, muscle</td>\n",
       "      <td>[NN, NN, VBZ, TO, DT, NN, IN, JJ, NN, NN, .]</td>\n",
       "      <td>[(vitamin, NN), (d, NN), (contributes, VBZ), (...</td>\n",
       "    </tr>\n",
       "    <tr>\n",
       "      <th>201</th>\n",
       "      <td>201</td>\n",
       "      <td>vitamin d contributes to the maintenance of no...</td>\n",
       "      <td>vitamin d</td>\n",
       "      <td>The claim may be used only for food which is a...</td>\n",
       "      <td>vitamin D, teeth</td>\n",
       "      <td>[NN, NN, VBZ, TO, DT, NN, IN, JJ, NNS, .]</td>\n",
       "      <td>[(vitamin, NN), (d, NN), (contributes, VBZ), (...</td>\n",
       "    </tr>\n",
       "    <tr>\n",
       "      <th>202</th>\n",
       "      <td>202</td>\n",
       "      <td>vitamin d contributes to the normal function o...</td>\n",
       "      <td>vitamin d</td>\n",
       "      <td>The claim may be used only for food which is a...</td>\n",
       "      <td>vitamin D, immune system</td>\n",
       "      <td>[NN, NN, VBZ, TO, DT, JJ, NN, IN, DT, NN, NN, .]</td>\n",
       "      <td>[(vitamin, NN), (d, NN), (contributes, VBZ), (...</td>\n",
       "    </tr>\n",
       "    <tr>\n",
       "      <th>203</th>\n",
       "      <td>203</td>\n",
       "      <td>vitamin d has a role in the process of cell di...</td>\n",
       "      <td>vitamin d</td>\n",
       "      <td>The claim may be used only for food which is a...</td>\n",
       "      <td>vitamin D, cell division</td>\n",
       "      <td>[NN, NN, VBZ, DT, NN, IN, DT, NN, IN, NN, NN, .]</td>\n",
       "      <td>[(vitamin, NN), (d, NN), (has, VBZ), (a, DT), ...</td>\n",
       "    </tr>\n",
       "    <tr>\n",
       "      <th>238</th>\n",
       "      <td>238</td>\n",
       "      <td>vitamin d helps to reduce the risk of falling ...</td>\n",
       "      <td>vitamin d</td>\n",
       "      <td>The claim may be used only for food supplement...</td>\n",
       "      <td>NaN</td>\n",
       "      <td>[NN, NN, VBZ, TO, VB, DT, NN, IN, VBG, VBN, IN...</td>\n",
       "      <td>[(vitamin, NN), (d, NN), (helps, VBZ), (to, TO...</td>\n",
       "    </tr>\n",
       "    <tr>\n",
       "      <th>259</th>\n",
       "      <td>259</td>\n",
       "      <td>vitamin d contributes to the normal function o...</td>\n",
       "      <td>vitamin d</td>\n",
       "      <td>The claim may be used only for food which is a...</td>\n",
       "      <td>NaN</td>\n",
       "      <td>[NN, NN, VBZ, TO, DT, JJ, NN, IN, DT, NN, NN, ...</td>\n",
       "      <td>[(vitamin, NN), (d, NN), (contributes, VBZ), (...</td>\n",
       "    </tr>\n",
       "    <tr>\n",
       "      <th>260</th>\n",
       "      <td>260</td>\n",
       "      <td>vitamin d is needed for normal growth and deve...</td>\n",
       "      <td>vitamin d</td>\n",
       "      <td>The claim can be used only for food which is a...</td>\n",
       "      <td>NaN</td>\n",
       "      <td>[NN, NN, VBZ, VBN, IN, JJ, NN, CC, NN, IN, NN,...</td>\n",
       "      <td>[(vitamin, NN), (d, NN), (is, VBZ), (needed, V...</td>\n",
       "    </tr>\n",
       "  </tbody>\n",
       "</table>\n",
       "</div>"
      ],
      "text/plain": [
       "     hc_ID                                                 hc   nutrient  \\\n",
       "197    197  vitamin d contributes to normal absorption/uti...  vitamin d   \n",
       "198    198  vitamin d contributes to normal blood calcium ...  vitamin d   \n",
       "199    199  vitamin d contributes to the maintenance of no...  vitamin d   \n",
       "200    200  vitamin d contributes to the maintenance of no...  vitamin d   \n",
       "201    201  vitamin d contributes to the maintenance of no...  vitamin d   \n",
       "202    202  vitamin d contributes to the normal function o...  vitamin d   \n",
       "203    203  vitamin d has a role in the process of cell di...  vitamin d   \n",
       "238    238  vitamin d helps to reduce the risk of falling ...  vitamin d   \n",
       "259    259  vitamin d contributes to the normal function o...  vitamin d   \n",
       "260    260  vitamin d is needed for normal growth and deve...  vitamin d   \n",
       "\n",
       "                                             condition  \\\n",
       "197  The claim may be used only for food which is a...   \n",
       "198  The claim may be used only for food which is a...   \n",
       "199  The claim may be used only for food which is a...   \n",
       "200  The claim may be used only for food which is a...   \n",
       "201  The claim may be used only for food which is a...   \n",
       "202  The claim may be used only for food which is a...   \n",
       "203  The claim may be used only for food which is a...   \n",
       "238  The claim may be used only for food supplement...   \n",
       "259  The claim may be used only for food which is a...   \n",
       "260  The claim can be used only for food which is a...   \n",
       "\n",
       "                                              keywords  \\\n",
       "197  vitamin D, absoption, utilisation, utilization...   \n",
       "198                          vitamin D, blood, calcium   \n",
       "199                                   vitamin D, bones   \n",
       "200                                  vitamin D, muscle   \n",
       "201                                   vitamin D, teeth   \n",
       "202                           vitamin D, immune system   \n",
       "203                           vitamin D, cell division   \n",
       "238                                                NaN   \n",
       "259                                                NaN   \n",
       "260                                                NaN   \n",
       "\n",
       "                                                   pos  \\\n",
       "197       [NN, NN, VBZ, TO, JJ, NN, IN, NN, CC, NN, .]   \n",
       "198              [NN, NN, VBZ, TO, JJ, NN, NN, NNS, .]   \n",
       "199          [NN, NN, VBZ, TO, DT, NN, IN, JJ, NNS, .]   \n",
       "200       [NN, NN, VBZ, TO, DT, NN, IN, JJ, NN, NN, .]   \n",
       "201          [NN, NN, VBZ, TO, DT, NN, IN, JJ, NNS, .]   \n",
       "202   [NN, NN, VBZ, TO, DT, JJ, NN, IN, DT, NN, NN, .]   \n",
       "203   [NN, NN, VBZ, DT, NN, IN, DT, NN, IN, NN, NN, .]   \n",
       "238  [NN, NN, VBZ, TO, VB, DT, NN, IN, VBG, VBN, IN...   \n",
       "259  [NN, NN, VBZ, TO, DT, JJ, NN, IN, DT, NN, NN, ...   \n",
       "260  [NN, NN, VBZ, VBN, IN, JJ, NN, CC, NN, IN, NN,...   \n",
       "\n",
       "                                             hc_tagged  \n",
       "197  [(vitamin, NN), (d, NN), (contributes, VBZ), (...  \n",
       "198  [(vitamin, NN), (d, NN), (contributes, VBZ), (...  \n",
       "199  [(vitamin, NN), (d, NN), (contributes, VBZ), (...  \n",
       "200  [(vitamin, NN), (d, NN), (contributes, VBZ), (...  \n",
       "201  [(vitamin, NN), (d, NN), (contributes, VBZ), (...  \n",
       "202  [(vitamin, NN), (d, NN), (contributes, VBZ), (...  \n",
       "203  [(vitamin, NN), (d, NN), (has, VBZ), (a, DT), ...  \n",
       "238  [(vitamin, NN), (d, NN), (helps, VBZ), (to, TO...  \n",
       "259  [(vitamin, NN), (d, NN), (contributes, VBZ), (...  \n",
       "260  [(vitamin, NN), (d, NN), (is, VBZ), (needed, V...  "
      ]
     },
     "execution_count": 7,
     "metadata": {},
     "output_type": "execute_result"
    }
   ],
   "source": [
    "df_hc_res.iloc[neu.iloc[0,0]]"
   ]
  },
  {
   "cell_type": "code",
   "execution_count": 8,
   "metadata": {},
   "outputs": [
    {
     "name": "stdout",
     "output_type": "stream",
     "text": [
      "bones: vitamin d supports normal bones.\n",
      "vitamin d contributes to the maintenance of normal bones.\n",
      "vitamin d contributes to the maintenance of normal teeth.\n",
      "vitamin d contributes to normal absorption/utilisation of calcium and phosphorus.\n",
      "docosahexaenoic acid (dha) maternal intake contributes to the normal brain development of the foetus and breastfed infants..\n"
     ]
    }
   ],
   "source": [
    "print(hc)\n",
    "print(df_hc_res['hc'][199])\n",
    "print(df_hc_res['hc'][201])\n",
    "print(df_hc_res['hc'][197])\n",
    "print(df_hc_res['hc'][252])"
   ]
  },
  {
   "cell_type": "markdown",
   "metadata": {},
   "source": [
    "# Calculate Words Similarity"
   ]
  },
  {
   "cell_type": "code",
   "execution_count": 20,
   "metadata": {},
   "outputs": [
    {
     "data": {
      "text/plain": [
       "((5, 1.0), (4, 0.8), (2, 0.4), (2, 0.4), (1, 0.125))"
      ]
     },
     "execution_count": 20,
     "metadata": {},
     "output_type": "execute_result"
    }
   ],
   "source": [
    "# the fraction of the same words out of the whole words of two compared hc\n",
    "from nltk.corpus import wordnet\n",
    "def get_lemma(word):\n",
    "    lemma = wordnet.morphy(word)\n",
    "    if lemma is None:\n",
    "        return word\n",
    "    else:\n",
    "        return lemma\n",
    "\n",
    "def getTokens(hc):\n",
    "    tokens = word_tokenize(hc)\n",
    "    tokens = [get_lemma(w).lower() for w in tokens if w not in stopwordEn and w.isalpha()]\n",
    "    return tokens\n",
    "\n",
    "def wordSim(hc, ahc): # input raw health claims text\n",
    "    hc, ahc =  getTokens(hc), getTokens(ahc)\n",
    "    hit = 0\n",
    "    for w in hc: # 不忽略hc中的重复\n",
    "        for aw in ahc:\n",
    "            if w==aw:\n",
    "                hit += 1\n",
    "                break #不用break，max sim != 1，会加强重复的word, 用了break，忽略ahc中重复的word\n",
    "#     return hit,len(hc),len(ahc)\n",
    "    return hit,hit/((len(hc)+len(ahc))/2)\n",
    "\n",
    "wordSim(hc,hc),wordSim(hc, df_hc_res['hc'][199]),wordSim(hc, df_hc_res['hc'][201]),wordSim(hc, df_hc_res['hc'][197]),wordSim(hc, df_hc_res['hc'][252]),"
   ]
  },
  {
   "cell_type": "markdown",
   "metadata": {},
   "source": [
    "# Calculate Pos-tags Similarity "
   ]
  },
  {
   "cell_type": "code",
   "execution_count": 21,
   "metadata": {},
   "outputs": [
    {
     "name": "stdout",
     "output_type": "stream",
     "text": [
      "['NNS', ':', 'NN', 'NN', 'VBZ', 'JJ', 'NNS', '.']\n",
      "['NN', 'NN', 'VBZ', 'TO', 'DT', 'NN', 'IN', 'JJ', 'NNS', '.']\n",
      "['NN', 'NN', 'VBZ', 'TO', 'DT', 'NN', 'IN', 'JJ', 'NNS', '.']\n",
      "['NN', 'NN', 'VBZ', 'TO', 'JJ', 'NN', 'IN', 'NN', 'CC', 'NN', '.']\n",
      "['NN', 'NN', '(', 'NN', ')', 'JJ', 'NN', 'NNS', 'TO', 'DT', 'JJ', 'NN', 'NN', 'IN', 'DT', 'NN', 'CC', 'NN', 'NN']\n"
     ]
    }
   ],
   "source": [
    "print(hc_tag)\n",
    "print(df_hc_res['pos'][199])\n",
    "print(df_hc_res['pos'][201])\n",
    "print(df_hc_res['pos'][197])\n",
    "print(df_hc_res['pos'][252])"
   ]
  },
  {
   "cell_type": "code",
   "execution_count": 22,
   "metadata": {},
   "outputs": [],
   "source": [
    "#transform raw hc into postagging(for tree) or pos-tags-sequence (for similarity)\n",
    "def getPos(hc, seq=True):\n",
    "    postagging = nltk.pos_tag(word_tokenize(hc))\n",
    "    hc_tag = [i[1] for i in postagging] if seq else [i for i in postagging]\n",
    "    return hc_tag"
   ]
  },
  {
   "cell_type": "code",
   "execution_count": 23,
   "metadata": {},
   "outputs": [
    {
     "data": {
      "text/plain": [
       "((8, 1.0),\n",
       " (7, 0.7777777777777778),\n",
       " (7, 0.7777777777777778),\n",
       " (5, 0.5263157894736842),\n",
       " (5, 0.37037037037037035))"
      ]
     },
     "execution_count": 23,
     "metadata": {},
     "output_type": "execute_result"
    }
   ],
   "source": [
    "# the number of the same two-gram pos tagging \n",
    "def posSim(hc_tag, ahc_tag): #input pos tag sequence\n",
    "    # 1-gram\n",
    "    hit = 0\n",
    "    for t in hc_tag:\n",
    "        for at in ahc_tag:\n",
    "            if t==at:\n",
    "                hit += 1\n",
    "                break\n",
    "    return hit, hit/((len(hc_tag)+len(ahc_tag))/2)\n",
    "\n",
    "posSim(hc_tag,hc_tag),posSim(hc_tag, df_hc_res['pos'][199]),posSim(hc_tag, df_hc_res['pos'][201]),posSim(hc_tag, df_hc_res['pos'][197]),posSim(hc_tag, df_hc_res['pos'][252])"
   ]
  },
  {
   "cell_type": "code",
   "execution_count": 24,
   "metadata": {},
   "outputs": [
    {
     "data": {
      "text/plain": [
       "((7, 1.0), (4, 0.5), (4, 0.5), (2, 0.23529411764705882), (1, 0.08))"
      ]
     },
     "execution_count": 24,
     "metadata": {},
     "output_type": "execute_result"
    }
   ],
   "source": [
    "# the number of the same two-gram pos tagging \n",
    "def pos2Sim(hc_tag, ahc_tag): #input pos tag sequence\n",
    "    # 2-gram\n",
    "    hit = 0\n",
    "    dic_at2={}\n",
    "    for i in range(len(hc_tag)-1):\n",
    "        t2 = (hc_tag[i], hc_tag[i+1])\n",
    "        for p in range(len(ahc_tag)-1):\n",
    "            at2 = (ahc_tag[p], ahc_tag[p+1])\n",
    "            # del duplicate t2 in ahc\n",
    "            if t2 == at2 and at2 not in dic_at2:\n",
    "                dic_at2[at2] = True\n",
    "                hit += 1\n",
    "                break\n",
    "    return hit, hit/((len(hc_tag)+len(ahc_tag)-2)/2)\n",
    "pos2Sim(hc_tag,hc_tag),pos2Sim(hc_tag, df_hc_res['pos'][199]),pos2Sim(hc_tag, df_hc_res['pos'][201]),pos2Sim(hc_tag, df_hc_res['pos'][197]),pos2Sim(hc_tag, df_hc_res['pos'][252])"
   ]
  },
  {
   "cell_type": "code",
   "execution_count": 25,
   "metadata": {},
   "outputs": [
    {
     "data": {
      "text/plain": [
       "((33, 0.868421052631579),\n",
       " (23, 0.48936170212765956),\n",
       " (19, 0.40425531914893614),\n",
       " (20, 0.3389830508474576),\n",
       " (18, 0.2236024844720497))"
      ]
     },
     "execution_count": 25,
     "metadata": {},
     "output_type": "execute_result"
    }
   ],
   "source": [
    "def pos2Sim_hc(hc, ahc): #input hc raw text\n",
    "    hc_tag, ahc_tag = getPos(hc), getPos(ahc)\n",
    "    # 2-gram\n",
    "    hit = 0\n",
    "    dic_at2={}\n",
    "    for i in range(len(hc_tag)-1):\n",
    "        t2 = (hc_tag[i], hc_tag[i+1])\n",
    "        for p in range(len(ahc_tag)-1):\n",
    "            at2 = (ahc_tag[p], ahc_tag[p+1])\n",
    "            # del duplicate t2 in ahc\n",
    "            if t2 == at2 and at2 not in dic_at2:\n",
    "                dic_at2[at2] = True\n",
    "                hit += 1\n",
    "                break\n",
    "    return hit, hit/((len(hc_tag)+len(ahc_tag)-2)/2)\n",
    "pos2Sim(hc,hc),pos2Sim(hc, df_hc_res['hc'][199]),pos2Sim(hc, df_hc_res['hc'][201]),pos2Sim(hc, df_hc_res['hc'][197]),pos2Sim(hc, df_hc_res['hc'][252]),"
   ]
  },
  {
   "cell_type": "code",
   "execution_count": 26,
   "metadata": {},
   "outputs": [
    {
     "data": {
      "text/plain": [
       "0.3666666666666667"
      ]
     },
     "execution_count": 26,
     "metadata": {},
     "output_type": "execute_result"
    }
   ],
   "source": [
    "def avgSim_hc(hc, ahc): #不适用df_hc_res中的pos列，直接从hc文本计算\n",
    "    return np.mean([wordSim(hc, ahc)[1],pos2Sim_hc(hc, ahc)[1]])\n",
    "\n",
    "avgSim_hc('calcium & vitamin d support normal bones.','vitamin d is needed for normal growth and development of bone in children.')"
   ]
  },
  {
   "cell_type": "markdown",
   "metadata": {},
   "source": [
    "# Calculate Average Similarity"
   ]
  },
  {
   "cell_type": "code",
   "execution_count": 27,
   "metadata": {},
   "outputs": [
    {
     "data": {
      "text/html": [
       "<div>\n",
       "<style scoped>\n",
       "    .dataframe tbody tr th:only-of-type {\n",
       "        vertical-align: middle;\n",
       "    }\n",
       "\n",
       "    .dataframe tbody tr th {\n",
       "        vertical-align: top;\n",
       "    }\n",
       "\n",
       "    .dataframe thead th {\n",
       "        text-align: right;\n",
       "    }\n",
       "</style>\n",
       "<table border=\"1\" class=\"dataframe\">\n",
       "  <thead>\n",
       "    <tr style=\"text-align: right;\">\n",
       "      <th></th>\n",
       "      <th>hc_ID</th>\n",
       "      <th>hc</th>\n",
       "      <th>nutrient</th>\n",
       "      <th>condition</th>\n",
       "      <th>keywords</th>\n",
       "      <th>pos</th>\n",
       "      <th>hc_tagged</th>\n",
       "    </tr>\n",
       "  </thead>\n",
       "  <tbody>\n",
       "    <tr>\n",
       "      <th>0</th>\n",
       "      <td>0</td>\n",
       "      <td>ala contributes to the maintenance of normal b...</td>\n",
       "      <td>alpha-linolenic acid (ala)</td>\n",
       "      <td>The claim may be used only for food which is a...</td>\n",
       "      <td>ALA, alpha-linolenic acid, omega 3, blood, cho...</td>\n",
       "      <td>[NN, NNS, TO, DT, NN, IN, JJ, NN, NN, NNS, .]</td>\n",
       "      <td>[(ala, NN), (contributes, NNS), (to, TO), (the...</td>\n",
       "    </tr>\n",
       "    <tr>\n",
       "      <th>1</th>\n",
       "      <td>1</td>\n",
       "      <td>activated charcoal contributes to reducing exc...</td>\n",
       "      <td>activated charcoal</td>\n",
       "      <td>NaN</td>\n",
       "      <td>charcoal, flatulence</td>\n",
       "      <td>[VBN, NN, NNS, TO, VBG, JJ, NN, IN, VBG, .]</td>\n",
       "      <td>[(activated, VBN), (charcoal, NN), (contribute...</td>\n",
       "    </tr>\n",
       "    <tr>\n",
       "      <th>2</th>\n",
       "      <td>2</td>\n",
       "      <td>barley grain fibre contributes to an increase ...</td>\n",
       "      <td>barley grain fibre</td>\n",
       "      <td>The claim may be used only for food which is h...</td>\n",
       "      <td>barley, grain, fibre, fiber, faecal bulk, faeces</td>\n",
       "      <td>[NN, NN, NN, VBZ, TO, DT, NN, IN, JJ, NN, .]</td>\n",
       "      <td>[(barley, NN), (grain, NN), (fibre, NN), (cont...</td>\n",
       "    </tr>\n",
       "    <tr>\n",
       "      <th>3</th>\n",
       "      <td>3</td>\n",
       "      <td>beta-glucans contribute to the maintenance of ...</td>\n",
       "      <td>beta-glucans</td>\n",
       "      <td>The claim may be used only for food which cont...</td>\n",
       "      <td>beta-glucans, blood, cholesterol</td>\n",
       "      <td>[NNS, NN, TO, DT, NN, IN, JJ, NN, NN, NNS, .]</td>\n",
       "      <td>[(beta-glucans, NNS), (contribute, NN), (to, T...</td>\n",
       "    </tr>\n",
       "    <tr>\n",
       "      <th>4</th>\n",
       "      <td>4</td>\n",
       "      <td>betaine contributes to normal homocysteine met...</td>\n",
       "      <td>betaine</td>\n",
       "      <td>The claim may be used only for food which cont...</td>\n",
       "      <td>betaine, homocysteine, metabolism</td>\n",
       "      <td>[NN, VBZ, TO, JJ, JJ, NN, .]</td>\n",
       "      <td>[(betaine, NN), (contributes, VBZ), (to, TO), ...</td>\n",
       "    </tr>\n",
       "  </tbody>\n",
       "</table>\n",
       "</div>"
      ],
      "text/plain": [
       "   hc_ID                                                 hc  \\\n",
       "0      0  ala contributes to the maintenance of normal b...   \n",
       "1      1  activated charcoal contributes to reducing exc...   \n",
       "2      2  barley grain fibre contributes to an increase ...   \n",
       "3      3  beta-glucans contribute to the maintenance of ...   \n",
       "4      4  betaine contributes to normal homocysteine met...   \n",
       "\n",
       "                     nutrient  \\\n",
       "0  alpha-linolenic acid (ala)   \n",
       "1          activated charcoal   \n",
       "2          barley grain fibre   \n",
       "3                beta-glucans   \n",
       "4                     betaine   \n",
       "\n",
       "                                           condition  \\\n",
       "0  The claim may be used only for food which is a...   \n",
       "1                                                NaN   \n",
       "2  The claim may be used only for food which is h...   \n",
       "3  The claim may be used only for food which cont...   \n",
       "4  The claim may be used only for food which cont...   \n",
       "\n",
       "                                            keywords  \\\n",
       "0  ALA, alpha-linolenic acid, omega 3, blood, cho...   \n",
       "1                               charcoal, flatulence   \n",
       "2   barley, grain, fibre, fiber, faecal bulk, faeces   \n",
       "3                   beta-glucans, blood, cholesterol   \n",
       "4                  betaine, homocysteine, metabolism   \n",
       "\n",
       "                                             pos  \\\n",
       "0  [NN, NNS, TO, DT, NN, IN, JJ, NN, NN, NNS, .]   \n",
       "1    [VBN, NN, NNS, TO, VBG, JJ, NN, IN, VBG, .]   \n",
       "2   [NN, NN, NN, VBZ, TO, DT, NN, IN, JJ, NN, .]   \n",
       "3  [NNS, NN, TO, DT, NN, IN, JJ, NN, NN, NNS, .]   \n",
       "4                   [NN, VBZ, TO, JJ, JJ, NN, .]   \n",
       "\n",
       "                                           hc_tagged  \n",
       "0  [(ala, NN), (contributes, NNS), (to, TO), (the...  \n",
       "1  [(activated, VBN), (charcoal, NN), (contribute...  \n",
       "2  [(barley, NN), (grain, NN), (fibre, NN), (cont...  \n",
       "3  [(beta-glucans, NNS), (contribute, NN), (to, T...  \n",
       "4  [(betaine, NN), (contributes, VBZ), (to, TO), ...  "
      ]
     },
     "execution_count": 27,
     "metadata": {},
     "output_type": "execute_result"
    }
   ],
   "source": [
    "df_hc_res.head()"
   ]
  },
  {
   "cell_type": "code",
   "execution_count": 28,
   "metadata": {},
   "outputs": [],
   "source": [
    "def avgSim(hc_ID):  #find hc having same nutrient, calculate avg sim, using pos tags in the df\n",
    "    res_wordSim, res_pos2Sim = [],[]\n",
    "    hc = df_hc_manu.iloc[hc_ID,0]\n",
    "    nutrients = cat_hc.loc[df_hc_manu.iloc[hc_ID,1]]\n",
    "        \n",
    "    if len(nutrients>0):\n",
    "        hc_tag = [i[1] for i in nltk.pos_tag(word_tokenize(hc))]\n",
    "        candidates_ahc = {}\n",
    "        for i in nutrients['approved_hc_ID']:\n",
    "            for e in i:\n",
    "                candidates_ahc[e] = True #通过dict快速去重ID\n",
    "        for ahc in candidates_ahc.keys():\n",
    "            ahc_hc = df_hc_res['hc'][ahc]\n",
    "            ahc_tag = df_hc_res['pos'][ahc] \n",
    "            res_wordSim.append(wordSim(hc, ahc_hc)[1])\n",
    "            res_pos2Sim.append(pos2Sim(hc_tag, ahc_tag)[1])\n",
    "        res = pd.DataFrame({'wordSim':res_wordSim,'pos2Sim':res_pos2Sim,'avgSim':None}, index=candidates_ahc)\n",
    "        res['avgSim'] = res.iloc[:,:2].mean(axis=1)\n",
    "        return res.sort_values(by=['avgSim'], ascending=False)\n",
    "    else:\n",
    "        print('Nutrient Not Found!')\n",
    "        return False"
   ]
  },
  {
   "cell_type": "code",
   "execution_count": 29,
   "metadata": {},
   "outputs": [
    {
     "data": {
      "text/html": [
       "<div>\n",
       "<style scoped>\n",
       "    .dataframe tbody tr th:only-of-type {\n",
       "        vertical-align: middle;\n",
       "    }\n",
       "\n",
       "    .dataframe tbody tr th {\n",
       "        vertical-align: top;\n",
       "    }\n",
       "\n",
       "    .dataframe thead th {\n",
       "        text-align: right;\n",
       "    }\n",
       "</style>\n",
       "<table border=\"1\" class=\"dataframe\">\n",
       "  <thead>\n",
       "    <tr style=\"text-align: right;\">\n",
       "      <th></th>\n",
       "      <th>hc</th>\n",
       "      <th>nutrient</th>\n",
       "      <th>nutrient_num</th>\n",
       "    </tr>\n",
       "  </thead>\n",
       "  <tbody>\n",
       "    <tr>\n",
       "      <th>0</th>\n",
       "      <td>bones: vitamin d supports normal bones.</td>\n",
       "      <td>[vitamin d]</td>\n",
       "      <td>1</td>\n",
       "    </tr>\n",
       "    <tr>\n",
       "      <th>1</th>\n",
       "      <td>bones: vitamin d supports the maintenance of n...</td>\n",
       "      <td>[vitamin d]</td>\n",
       "      <td>1</td>\n",
       "    </tr>\n",
       "    <tr>\n",
       "      <th>3</th>\n",
       "      <td>calcium &amp; vitamin d support normal bones.</td>\n",
       "      <td>[calcium, vitamin d]</td>\n",
       "      <td>2</td>\n",
       "    </tr>\n",
       "    <tr>\n",
       "      <th>12</th>\n",
       "      <td>immunity: vitamin d contributes to the normal ...</td>\n",
       "      <td>[vitamin d]</td>\n",
       "      <td>1</td>\n",
       "    </tr>\n",
       "    <tr>\n",
       "      <th>13</th>\n",
       "      <td>muscles: vitamin d contributes to the maintena...</td>\n",
       "      <td>[vitamin d]</td>\n",
       "      <td>1</td>\n",
       "    </tr>\n",
       "  </tbody>\n",
       "</table>\n",
       "</div>"
      ],
      "text/plain": [
       "                                                   hc              nutrient  \\\n",
       "0             bones: vitamin d supports normal bones.           [vitamin d]   \n",
       "1   bones: vitamin d supports the maintenance of n...           [vitamin d]   \n",
       "3           calcium & vitamin d support normal bones.  [calcium, vitamin d]   \n",
       "12  immunity: vitamin d contributes to the normal ...           [vitamin d]   \n",
       "13  muscles: vitamin d contributes to the maintena...           [vitamin d]   \n",
       "\n",
       "    nutrient_num  \n",
       "0              1  \n",
       "1              1  \n",
       "3              2  \n",
       "12             1  \n",
       "13             1  "
      ]
     },
     "execution_count": 29,
     "metadata": {},
     "output_type": "execute_result"
    }
   ],
   "source": [
    "df_hc_manu[df_hc_manu['nutrient'].str.len()>0].head()"
   ]
  },
  {
   "cell_type": "code",
   "execution_count": 30,
   "metadata": {},
   "outputs": [
    {
     "data": {
      "text/html": [
       "<div>\n",
       "<style scoped>\n",
       "    .dataframe tbody tr th:only-of-type {\n",
       "        vertical-align: middle;\n",
       "    }\n",
       "\n",
       "    .dataframe tbody tr th {\n",
       "        vertical-align: top;\n",
       "    }\n",
       "\n",
       "    .dataframe thead th {\n",
       "        text-align: right;\n",
       "    }\n",
       "</style>\n",
       "<table border=\"1\" class=\"dataframe\">\n",
       "  <thead>\n",
       "    <tr style=\"text-align: right;\">\n",
       "      <th></th>\n",
       "      <th>wordSim</th>\n",
       "      <th>pos2Sim</th>\n",
       "      <th>avgSim</th>\n",
       "    </tr>\n",
       "  </thead>\n",
       "  <tbody>\n",
       "    <tr>\n",
       "      <th>97</th>\n",
       "      <td>0.857143</td>\n",
       "      <td>0.640000</td>\n",
       "      <td>0.748571</td>\n",
       "    </tr>\n",
       "    <tr>\n",
       "      <th>228</th>\n",
       "      <td>0.857143</td>\n",
       "      <td>0.640000</td>\n",
       "      <td>0.748571</td>\n",
       "    </tr>\n",
       "    <tr>\n",
       "      <th>147</th>\n",
       "      <td>0.857143</td>\n",
       "      <td>0.640000</td>\n",
       "      <td>0.748571</td>\n",
       "    </tr>\n",
       "    <tr>\n",
       "      <th>222</th>\n",
       "      <td>0.307692</td>\n",
       "      <td>0.521739</td>\n",
       "      <td>0.414716</td>\n",
       "    </tr>\n",
       "    <tr>\n",
       "      <th>143</th>\n",
       "      <td>0.307692</td>\n",
       "      <td>0.521739</td>\n",
       "      <td>0.414716</td>\n",
       "    </tr>\n",
       "  </tbody>\n",
       "</table>\n",
       "</div>"
      ],
      "text/plain": [
       "      wordSim   pos2Sim    avgSim\n",
       "97   0.857143  0.640000  0.748571\n",
       "228  0.857143  0.640000  0.748571\n",
       "147  0.857143  0.640000  0.748571\n",
       "222  0.307692  0.521739  0.414716\n",
       "143  0.307692  0.521739  0.414716"
      ]
     },
     "execution_count": 30,
     "metadata": {},
     "output_type": "execute_result"
    }
   ],
   "source": [
    "avgSim(4193).head(5)"
   ]
  },
  {
   "cell_type": "code",
   "execution_count": 31,
   "metadata": {},
   "outputs": [
    {
     "name": "stdout",
     "output_type": "stream",
     "text": [
      "Query: zinc, manganese and selenium which contribute to the protection of cells from oxidative stress.\n",
      "97 manganese contributes to the protection of cells from oxidative stress.\n",
      "228 zinc contributes to the protection of cells from oxidative stress.\n",
      "147 selenium contributes to the protection of cells from oxidative stress.\n",
      "222 zinc contributes to the maintenance of normal hair.\n",
      "143 selenium contributes to the maintenance of normal hair.\n"
     ]
    }
   ],
   "source": [
    "QUERY_ID = 4193\n",
    "res = avgSim(QUERY_ID)\n",
    "print('Query:',df_hc_manu['hc'][QUERY_ID])\n",
    "for i in res.index[:5]:\n",
    "    print(i, df_hc_res['hc'][i])"
   ]
  },
  {
   "cell_type": "code",
   "execution_count": 32,
   "metadata": {},
   "outputs": [
    {
     "name": "stdout",
     "output_type": "stream",
     "text": [
      "Query: zinc, iron, vitamins a & c   key minerals and vitamins that participate in the good functioning of your baby's immune system.\n"
     ]
    }
   ],
   "source": [
    "print('Query:',df_hc_manu['hc'][4192])"
   ]
  },
  {
   "cell_type": "code",
   "execution_count": 151,
   "metadata": {},
   "outputs": [
    {
     "data": {
      "text/html": [
       "<div>\n",
       "<style scoped>\n",
       "    .dataframe tbody tr th:only-of-type {\n",
       "        vertical-align: middle;\n",
       "    }\n",
       "\n",
       "    .dataframe tbody tr th {\n",
       "        vertical-align: top;\n",
       "    }\n",
       "\n",
       "    .dataframe thead th {\n",
       "        text-align: right;\n",
       "    }\n",
       "</style>\n",
       "<table border=\"1\" class=\"dataframe\">\n",
       "  <thead>\n",
       "    <tr style=\"text-align: right;\">\n",
       "      <th></th>\n",
       "      <th>approved_hc_ID</th>\n",
       "      <th>approved_count</th>\n",
       "      <th>manu_hc_ID</th>\n",
       "      <th>manu_count</th>\n",
       "    </tr>\n",
       "    <tr>\n",
       "      <th>nutrient</th>\n",
       "      <th></th>\n",
       "      <th></th>\n",
       "      <th></th>\n",
       "      <th></th>\n",
       "    </tr>\n",
       "  </thead>\n",
       "  <tbody>\n",
       "    <tr>\n",
       "      <th>calcium and vitamin d</th>\n",
       "      <td>[236, 249]</td>\n",
       "      <td>2</td>\n",
       "      <td>[331, 332, 333, 334, 335, 336, 337, 338, 339, ...</td>\n",
       "      <td>52</td>\n",
       "    </tr>\n",
       "    <tr>\n",
       "      <th>riboflavin (vitamin b2)</th>\n",
       "      <td>[132, 133, 134, 135, 136, 137, 138, 139, 140]</td>\n",
       "      <td>9</td>\n",
       "      <td>[]</td>\n",
       "      <td>0</td>\n",
       "    </tr>\n",
       "    <tr>\n",
       "      <th>vitamin a</th>\n",
       "      <td>[158, 159, 160, 161, 162, 163]</td>\n",
       "      <td>6</td>\n",
       "      <td>[23, 102, 103, 118, 601, 602, 690, 848, 1159, ...</td>\n",
       "      <td>141</td>\n",
       "    </tr>\n",
       "    <tr>\n",
       "      <th>vitamin b12</th>\n",
       "      <td>[164, 165, 166, 167, 168, 169, 170, 171]</td>\n",
       "      <td>8</td>\n",
       "      <td>[40, 50, 51, 109, 118, 529, 587, 588, 589, 769...</td>\n",
       "      <td>129</td>\n",
       "    </tr>\n",
       "    <tr>\n",
       "      <th>vitamin b6</th>\n",
       "      <td>[172, 173, 174, 175, 176, 177, 178, 179, 180, ...</td>\n",
       "      <td>10</td>\n",
       "      <td>[18, 39, 41, 44, 49, 54, 118, 195, 254, 255, 2...</td>\n",
       "      <td>174</td>\n",
       "    </tr>\n",
       "    <tr>\n",
       "      <th>vitamin c</th>\n",
       "      <td>[182, 183, 184, 185, 186, 187, 188, 189, 190, ...</td>\n",
       "      <td>15</td>\n",
       "      <td>[54, 92, 101, 104, 105, 106, 111, 118, 136, 14...</td>\n",
       "      <td>513</td>\n",
       "    </tr>\n",
       "    <tr>\n",
       "      <th>vitamin d</th>\n",
       "      <td>[197, 198, 199, 200, 201, 202, 203, 238, 259, ...</td>\n",
       "      <td>10</td>\n",
       "      <td>[0, 1, 3, 12, 13, 14, 19, 20, 21, 22, 24, 25, ...</td>\n",
       "      <td>483</td>\n",
       "    </tr>\n",
       "    <tr>\n",
       "      <th>vitamin e</th>\n",
       "      <td>[204]</td>\n",
       "      <td>1</td>\n",
       "      <td>[72, 78, 107, 134, 138, 200, 599, 644, 645, 66...</td>\n",
       "      <td>112</td>\n",
       "    </tr>\n",
       "    <tr>\n",
       "      <th>vitamin k</th>\n",
       "      <td>[205, 206]</td>\n",
       "      <td>2</td>\n",
       "      <td>[79, 113, 367, 556, 628, 646, 647, 993, 1224, ...</td>\n",
       "      <td>19</td>\n",
       "    </tr>\n",
       "  </tbody>\n",
       "</table>\n",
       "</div>"
      ],
      "text/plain": [
       "                                                            approved_hc_ID  \\\n",
       "nutrient                                                                     \n",
       "calcium and vitamin d                                           [236, 249]   \n",
       "riboflavin (vitamin b2)      [132, 133, 134, 135, 136, 137, 138, 139, 140]   \n",
       "vitamin a                                   [158, 159, 160, 161, 162, 163]   \n",
       "vitamin b12                       [164, 165, 166, 167, 168, 169, 170, 171]   \n",
       "vitamin b6               [172, 173, 174, 175, 176, 177, 178, 179, 180, ...   \n",
       "vitamin c                [182, 183, 184, 185, 186, 187, 188, 189, 190, ...   \n",
       "vitamin d                [197, 198, 199, 200, 201, 202, 203, 238, 259, ...   \n",
       "vitamin e                                                            [204]   \n",
       "vitamin k                                                       [205, 206]   \n",
       "\n",
       "                         approved_count  \\\n",
       "nutrient                                  \n",
       "calcium and vitamin d                 2   \n",
       "riboflavin (vitamin b2)               9   \n",
       "vitamin a                             6   \n",
       "vitamin b12                           8   \n",
       "vitamin b6                           10   \n",
       "vitamin c                            15   \n",
       "vitamin d                            10   \n",
       "vitamin e                             1   \n",
       "vitamin k                             2   \n",
       "\n",
       "                                                                manu_hc_ID  \\\n",
       "nutrient                                                                     \n",
       "calcium and vitamin d    [331, 332, 333, 334, 335, 336, 337, 338, 339, ...   \n",
       "riboflavin (vitamin b2)                                                 []   \n",
       "vitamin a                [23, 102, 103, 118, 601, 602, 690, 848, 1159, ...   \n",
       "vitamin b12              [40, 50, 51, 109, 118, 529, 587, 588, 589, 769...   \n",
       "vitamin b6               [18, 39, 41, 44, 49, 54, 118, 195, 254, 255, 2...   \n",
       "vitamin c                [54, 92, 101, 104, 105, 106, 111, 118, 136, 14...   \n",
       "vitamin d                [0, 1, 3, 12, 13, 14, 19, 20, 21, 22, 24, 25, ...   \n",
       "vitamin e                [72, 78, 107, 134, 138, 200, 599, 644, 645, 66...   \n",
       "vitamin k                [79, 113, 367, 556, 628, 646, 647, 993, 1224, ...   \n",
       "\n",
       "                         manu_count  \n",
       "nutrient                             \n",
       "calcium and vitamin d            52  \n",
       "riboflavin (vitamin b2)           0  \n",
       "vitamin a                       141  \n",
       "vitamin b12                     129  \n",
       "vitamin b6                      174  \n",
       "vitamin c                       513  \n",
       "vitamin d                       483  \n",
       "vitamin e                       112  \n",
       "vitamin k                        19  "
      ]
     },
     "execution_count": 151,
     "metadata": {},
     "output_type": "execute_result"
    }
   ],
   "source": [
    "cat_hc[cat_hc.index.str.contains('vitamin ')]"
   ]
  },
  {
   "cell_type": "markdown",
   "metadata": {},
   "source": [
    "* 多个nutrient同时存在时如何对应，nutrient DB不足无法很好mapping customer hc"
   ]
  },
  {
   "cell_type": "code",
   "execution_count": 115,
   "metadata": {},
   "outputs": [
    {
     "data": {
      "text/plain": [
       "hc              zinc to contribute to protein synthesis.\n",
       "nutrient                                 [protein, zinc]\n",
       "nutrient_num                                           2\n",
       "Name: 4172, dtype: object"
      ]
     },
     "execution_count": 115,
     "metadata": {},
     "output_type": "execute_result"
    }
   ],
   "source": [
    "df_hc_manu.iloc[4172,:]"
   ]
  },
  {
   "cell_type": "code",
   "execution_count": 466,
   "metadata": {},
   "outputs": [],
   "source": [
    "drawTree(df_hc_res['hc_tagged'][259])"
   ]
  },
  {
   "cell_type": "code",
   "execution_count": 394,
   "metadata": {},
   "outputs": [],
   "source": [
    "drawTree(df_hc_res['hc_tagged'][202])"
   ]
  },
  {
   "cell_type": "code",
   "execution_count": 467,
   "metadata": {},
   "outputs": [],
   "source": [
    "tagged=[i for i in nltk.pos_tag(word_tokenize(df_hc_manu.iloc[12,0]))]\n",
    "drawTree(tagged)"
   ]
  },
  {
   "cell_type": "code",
   "execution_count": 110,
   "metadata": {},
   "outputs": [
    {
     "name": "stdout",
     "output_type": "stream",
     "text": [
      "Query: immunity: vitamin d contributes to the normal function of the immune system.\n",
      "202 vitamin d contributes to the normal function of the immune system.\n",
      "259 vitamin d contributes to the normal function of the immune system in children..\n",
      "200 vitamin d contributes to the maintenance of normal muscle function.\n",
      "199 vitamin d contributes to the maintenance of normal bones.\n",
      "201 vitamin d contributes to the maintenance of normal teeth.\n",
      "197 vitamin d contributes to normal absorption/utilisation of calcium and phosphorus.\n",
      "203 vitamin d has a role in the process of cell division.\n",
      "198 vitamin d contributes to normal blood calcium levels.\n",
      "260 vitamin d is needed for normal growth and development of bone in children..\n",
      "238 vitamin d helps to reduce the risk of falling associated with postural instability and muscle weakness. falling is a risk factor for bone fractures among men and women 60 years of age and older..\n"
     ]
    }
   ],
   "source": [
    "res = avgSim(12)\n",
    "print('Query:',df_hc_manu['hc'][12])\n",
    "for i in res.index:\n",
    "    print(i, df_hc_res['hc'][i])"
   ]
  },
  {
   "cell_type": "code",
   "execution_count": 420,
   "metadata": {},
   "outputs": [
    {
     "name": "stdout",
     "output_type": "stream",
     "text": [
      "['NN', ':', 'NN', 'NN', 'VBZ', 'TO', 'DT', 'JJ', 'NN', 'IN', 'DT', 'NN', 'NN', '.']\n"
     ]
    }
   ],
   "source": [
    "print([i[1] for i in nltk.pos_tag(word_tokenize(df_hc_manu.iloc[12,0]))])"
   ]
  },
  {
   "cell_type": "code",
   "execution_count": 469,
   "metadata": {},
   "outputs": [
    {
     "data": {
      "text/plain": [
       "203    [NN, NN, VBZ, DT, NN, IN, DT, NN, IN, NN, NN, .]\n",
       "198               [NN, NN, VBZ, TO, JJ, NN, NN, NNS, .]\n",
       "Name: pos, dtype: object"
      ]
     },
     "execution_count": 469,
     "metadata": {},
     "output_type": "execute_result"
    }
   ],
   "source": [
    "df_hc_res['pos'][[203,198]]"
   ]
  },
  {
   "cell_type": "code",
   "execution_count": 479,
   "metadata": {},
   "outputs": [
    {
     "data": {
      "text/plain": [
       "(4, 0.38095238095238093)"
      ]
     },
     "execution_count": 479,
     "metadata": {},
     "output_type": "execute_result"
    }
   ],
   "source": [
    "pos2Sim([i[1] for i in nltk.pos_tag(word_tokenize(df_hc_manu.iloc[12,0]))], df_hc_res['pos'][198])"
   ]
  },
  {
   "cell_type": "code",
   "execution_count": 480,
   "metadata": {},
   "outputs": [
    {
     "data": {
      "text/plain": [
       "(6, 0.5)"
      ]
     },
     "execution_count": 480,
     "metadata": {},
     "output_type": "execute_result"
    }
   ],
   "source": [
    "pos2Sim([i[1] for i in nltk.pos_tag(word_tokenize(df_hc_manu.iloc[12,0]))], df_hc_res['pos'][203])"
   ]
  },
  {
   "cell_type": "code",
   "execution_count": 481,
   "metadata": {},
   "outputs": [
    {
     "data": {
      "text/plain": [
       "(10, 0.8695652173913043)"
      ]
     },
     "execution_count": 481,
     "metadata": {},
     "output_type": "execute_result"
    }
   ],
   "source": [
    "posSim([i[1] for i in nltk.pos_tag(word_tokenize(df_hc_manu.iloc[12,0]))], df_hc_res['pos'][198])"
   ]
  },
  {
   "cell_type": "code",
   "execution_count": 482,
   "metadata": {},
   "outputs": [
    {
     "data": {
      "text/plain": [
       "(11, 0.8461538461538461)"
      ]
     },
     "execution_count": 482,
     "metadata": {},
     "output_type": "execute_result"
    }
   ],
   "source": [
    "posSim([i[1] for i in nltk.pos_tag(word_tokenize(df_hc_manu.iloc[12,0]))], df_hc_res['pos'][203])"
   ]
  },
  {
   "cell_type": "code",
   "execution_count": null,
   "metadata": {},
   "outputs": [],
   "source": []
  }
 ],
 "metadata": {
  "kernelspec": {
   "display_name": "Python 3",
   "language": "python",
   "name": "python3"
  },
  "language_info": {
   "codemirror_mode": {
    "name": "ipython",
    "version": 3
   },
   "file_extension": ".py",
   "mimetype": "text/x-python",
   "name": "python",
   "nbconvert_exporter": "python",
   "pygments_lexer": "ipython3",
   "version": "3.6.7"
  }
 },
 "nbformat": 4,
 "nbformat_minor": 2
}
