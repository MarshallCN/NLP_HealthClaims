{
 "cells": [
  {
   "cell_type": "code",
   "execution_count": 1,
   "metadata": {},
   "outputs": [],
   "source": [
    "import numpy as np \n",
    "import pandas as pd \n",
    "import matplotlib.pyplot as plt  \n",
    "import nltk\n",
    "from nltk.tokenize import sent_tokenize, word_tokenize\n",
    "import pickle\n",
    "from nltk.corpus import wordnet\n",
    "from nltk.corpus import stopwords\n",
    "stopwordEn = stopwords.words('english')\n",
    "\n",
    "def drawTree(tagged):\n",
    "    grammar = r\"\"\"\n",
    "      NP: {<DT|JJ|NN.*>+}          # Chunk sequences of DT, JJ, NN\n",
    "      PP: {<IN><NP>}               # Chunk prepositions followed by NP\n",
    "      VP: {<VB.*><NP|PP|CLAUSE>+$} # Chunk verbs and their arguments\n",
    "      CLAUSE: {<NP><VP>}           # Chunk NP, VP\n",
    "      \"\"\"\n",
    "    cp = nltk.RegexpParser(grammar)\n",
    "    chunked = cp.parse(tagged)\n",
    "    chunked.draw() \n",
    "    \n",
    "with open('df_hc_res.pickle', 'rb') as handle:\n",
    "    df_hc_res = pickle.load(handle)"
   ]
  },
  {
   "cell_type": "markdown",
   "metadata": {},
   "source": [
    "# Text Features"
   ]
  },
  {
   "cell_type": "code",
   "execution_count": 9,
   "metadata": {},
   "outputs": [
    {
     "data": {
      "text/html": [
       "<div>\n",
       "<style scoped>\n",
       "    .dataframe tbody tr th:only-of-type {\n",
       "        vertical-align: middle;\n",
       "    }\n",
       "\n",
       "    .dataframe tbody tr th {\n",
       "        vertical-align: top;\n",
       "    }\n",
       "\n",
       "    .dataframe thead th {\n",
       "        text-align: right;\n",
       "    }\n",
       "</style>\n",
       "<table border=\"1\" class=\"dataframe\">\n",
       "  <thead>\n",
       "    <tr style=\"text-align: right;\">\n",
       "      <th></th>\n",
       "      <th>User ID</th>\n",
       "      <th>Product</th>\n",
       "      <th>hc</th>\n",
       "      <th>Claim Code</th>\n",
       "      <th>Icon</th>\n",
       "      <th>Position</th>\n",
       "      <th>Colour</th>\n",
       "    </tr>\n",
       "  </thead>\n",
       "  <tbody>\n",
       "    <tr>\n",
       "      <th>0</th>\n",
       "      <td>9</td>\n",
       "      <td>Cereal</td>\n",
       "      <td>vitamin b7 contributes to healthy energy metab...</td>\n",
       "      <td>211230</td>\n",
       "      <td>Bolt</td>\n",
       "      <td>C</td>\n",
       "      <td>Beige</td>\n",
       "    </tr>\n",
       "    <tr>\n",
       "      <th>1</th>\n",
       "      <td>11</td>\n",
       "      <td>Cereal</td>\n",
       "      <td>vitamin b7 contributes to healthy energy levels.</td>\n",
       "      <td>211220</td>\n",
       "      <td>Bolt</td>\n",
       "      <td>C</td>\n",
       "      <td>Beige</td>\n",
       "    </tr>\n",
       "    <tr>\n",
       "      <th>2</th>\n",
       "      <td>13</td>\n",
       "      <td>Cereal</td>\n",
       "      <td>vitamin b7 gets your metabolism going.</td>\n",
       "      <td>212300</td>\n",
       "      <td>Bolt</td>\n",
       "      <td>A</td>\n",
       "      <td>Beige</td>\n",
       "    </tr>\n",
       "    <tr>\n",
       "      <th>3</th>\n",
       "      <td>15</td>\n",
       "      <td>Cereal</td>\n",
       "      <td>vitamin b7 helps turn your food into energy.</td>\n",
       "      <td>213400</td>\n",
       "      <td>Bolt</td>\n",
       "      <td>A</td>\n",
       "      <td>Beige</td>\n",
       "    </tr>\n",
       "    <tr>\n",
       "      <th>4</th>\n",
       "      <td>16</td>\n",
       "      <td>Cereal</td>\n",
       "      <td>vitamin b7 gets your metabolism going.</td>\n",
       "      <td>212300</td>\n",
       "      <td>Bolt</td>\n",
       "      <td>B</td>\n",
       "      <td>Beige</td>\n",
       "    </tr>\n",
       "  </tbody>\n",
       "</table>\n",
       "</div>"
      ],
      "text/plain": [
       "   User ID Product                                                 hc  \\\n",
       "0        9  Cereal  vitamin b7 contributes to healthy energy metab...   \n",
       "1       11  Cereal   vitamin b7 contributes to healthy energy levels.   \n",
       "2       13  Cereal             vitamin b7 gets your metabolism going.   \n",
       "3       15  Cereal       vitamin b7 helps turn your food into energy.   \n",
       "4       16  Cereal             vitamin b7 gets your metabolism going.   \n",
       "\n",
       "   Claim Code  Icon Position Colour  \n",
       "0      211230  Bolt        C  Beige  \n",
       "1      211220  Bolt        C  Beige  \n",
       "2      212300  Bolt        A  Beige  \n",
       "3      213400  Bolt        A  Beige  \n",
       "4      212300  Bolt        B  Beige  "
      ]
     },
     "execution_count": 9,
     "metadata": {},
     "output_type": "execute_result"
    }
   ],
   "source": [
    "# Consumer data\n",
    "PATH = \"F:/colla/Documents/work/实习/RA/dataset\"\n",
    "FILE = \"User Health Claims Dec-2019.xlsx\"\n",
    "# data quality issue, has more NaN than EU Register file\n",
    "df_hc_cus = pd.read_excel('{}/{}'.format(PATH,FILE)) #,skiprows=[1])\n",
    "# df_hc_cus = df_hc_cus.iloc[:,1:]\n",
    "df_hc_cus=df_hc_cus.rename(columns={'Claim':'hc'})\n",
    "df_hc_cus['hc'] = [e.lower().strip()+'.' for e in df_hc_cus['hc']]\n",
    "# df_hc_cus.loc[:,'pos'] = df_hc_cus.hc.map(getPos) #先去重，再解析pos\n",
    "df_hc_cus.head()"
   ]
  },
  {
   "cell_type": "code",
   "execution_count": 10,
   "metadata": {},
   "outputs": [
    {
     "data": {
      "text/plain": [
       "4    124\n",
       "1     11\n",
       "2      5\n",
       "3      3\n",
       "Name: hc, dtype: int64"
      ]
     },
     "execution_count": 10,
     "metadata": {},
     "output_type": "execute_result"
    }
   ],
   "source": [
    "df_hc_cus.groupby('User ID')['hc'].count().value_counts() #.plot.pie() # most users create 4 HC"
   ]
  },
  {
   "cell_type": "code",
   "execution_count": 11,
   "metadata": {},
   "outputs": [
    {
     "data": {
      "text/plain": [
       "(4646, 71)"
      ]
     },
     "execution_count": 11,
     "metadata": {},
     "output_type": "execute_result"
    }
   ],
   "source": [
    "all_hc_words = []\n",
    "for s in df_hc_cus.hc:\n",
    "    all_hc_words.extend(nltk.word_tokenize(s))\n",
    "all_words = nltk.FreqDist(all_hc_words)\n",
    "len(all_hc_words),len(all_words)"
   ]
  },
  {
   "cell_type": "code",
   "execution_count": 12,
   "metadata": {},
   "outputs": [
    {
     "name": "stdout",
     "output_type": "stream",
     "text": [
      "Max vocabs in health claims: 87\n",
      "Mean vocabs in health claims: 52.027\n",
      "Median vocabs in health claims: 50.0\n",
      "Min vocabs in health claims: 32\n"
     ]
    }
   ],
   "source": [
    "hc_len = [len(i) for i in df_hc_cus.hc]\n",
    "print('Max vocabs in health claims:',np.max(hc_len))\n",
    "print('Mean vocabs in health claims:',np.round(np.mean(hc_len),3))\n",
    "print('Median vocabs in health claims:',np.median(hc_len))\n",
    "print('Min vocabs in health claims:',np.min(hc_len))"
   ]
  },
  {
   "cell_type": "code",
   "execution_count": 13,
   "metadata": {},
   "outputs": [
    {
     "data": {
      "text/plain": [
       "<matplotlib.axes._subplots.AxesSubplot at 0x296f805bd30>"
      ]
     },
     "execution_count": 13,
     "metadata": {},
     "output_type": "execute_result"
    },
    {
     "data": {
      "image/png": "[encoded data removed]",
      "text/plain": [
       "<Figure size 432x288 with 1 Axes>"
      ]
     },
     "metadata": {
      "needs_background": "light"
     },
     "output_type": "display_data"
    }
   ],
   "source": [
    "pd.DataFrame(pd.Series(hc_len).sort_values().values,columns=['vocabulary count in each health claim']).plot.box()"
   ]
  },
  {
   "cell_type": "code",
   "execution_count": 163,
   "metadata": {},
   "outputs": [
    {
     "data": {
      "text/plain": [
       "<matplotlib.axes._subplots.AxesSubplot at 0x25969969fd0>"
      ]
     },
     "execution_count": 163,
     "metadata": {},
     "output_type": "execute_result"
    },
    {
     "data": {
      "image/png": "[encoded data removed]",
      "text/plain": [
       "<Figure size 432x288 with 1 Axes>"
      ]
     },
     "metadata": {
      "needs_background": "light"
     },
     "output_type": "display_data"
    }
   ],
   "source": [
    "pd.Series(pd.Series(hc_len).sort_values().values).plot()"
   ]
  },
  {
   "cell_type": "code",
   "execution_count": 166,
   "metadata": {},
   "outputs": [
    {
     "data": {
      "text/html": [
       "<div>\n",
       "<style scoped>\n",
       "    .dataframe tbody tr th:only-of-type {\n",
       "        vertical-align: middle;\n",
       "    }\n",
       "\n",
       "    .dataframe tbody tr th {\n",
       "        vertical-align: top;\n",
       "    }\n",
       "\n",
       "    .dataframe thead th {\n",
       "        text-align: right;\n",
       "    }\n",
       "</style>\n",
       "<table border=\"1\" class=\"dataframe\">\n",
       "  <thead>\n",
       "    <tr style=\"text-align: right;\">\n",
       "      <th></th>\n",
       "      <th>0</th>\n",
       "      <th>1</th>\n",
       "    </tr>\n",
       "  </thead>\n",
       "  <tbody>\n",
       "    <tr>\n",
       "      <th>0</th>\n",
       "      <td>.</td>\n",
       "      <td>526</td>\n",
       "    </tr>\n",
       "    <tr>\n",
       "      <th>1</th>\n",
       "      <td>healthy</td>\n",
       "      <td>288</td>\n",
       "    </tr>\n",
       "    <tr>\n",
       "      <th>2</th>\n",
       "      <td>of</td>\n",
       "      <td>277</td>\n",
       "    </tr>\n",
       "    <tr>\n",
       "      <th>3</th>\n",
       "      <td>the</td>\n",
       "      <td>223</td>\n",
       "    </tr>\n",
       "    <tr>\n",
       "      <th>4</th>\n",
       "      <td>maintenance</td>\n",
       "      <td>223</td>\n",
       "    </tr>\n",
       "    <tr>\n",
       "      <th>5</th>\n",
       "      <td>is</td>\n",
       "      <td>147</td>\n",
       "    </tr>\n",
       "    <tr>\n",
       "      <th>6</th>\n",
       "      <td>for</td>\n",
       "      <td>147</td>\n",
       "    </tr>\n",
       "    <tr>\n",
       "      <th>7</th>\n",
       "      <td>to</td>\n",
       "      <td>140</td>\n",
       "    </tr>\n",
       "    <tr>\n",
       "      <th>8</th>\n",
       "      <td>calcium</td>\n",
       "      <td>136</td>\n",
       "    </tr>\n",
       "    <tr>\n",
       "      <th>9</th>\n",
       "      <td>bones</td>\n",
       "      <td>136</td>\n",
       "    </tr>\n",
       "  </tbody>\n",
       "</table>\n",
       "</div>"
      ],
      "text/plain": [
       "             0    1\n",
       "0            .  526\n",
       "1      healthy  288\n",
       "2           of  277\n",
       "3          the  223\n",
       "4  maintenance  223\n",
       "5           is  147\n",
       "6          for  147\n",
       "7           to  140\n",
       "8      calcium  136\n",
       "9        bones  136"
      ]
     },
     "execution_count": 166,
     "metadata": {},
     "output_type": "execute_result"
    }
   ],
   "source": [
    "pd.DataFrame(all_words.most_common(10))"
   ]
  },
  {
   "cell_type": "code",
   "execution_count": 14,
   "metadata": {},
   "outputs": [],
   "source": [
    "# Remove stop words and punctuations for word cloud text \n",
    "wordCloudText = {}\n",
    "for i in all_words.items():\n",
    "    if i[0] not in stopwordEn and i[0].isalpha():\n",
    "        wordCloudText[i[0]] = i[1]"
   ]
  },
  {
   "cell_type": "code",
   "execution_count": 15,
   "metadata": {},
   "outputs": [
    {
     "data": {
      "image/png": "[encoded data removed]",
      "text/plain": [
       "<Figure size 1080x576 with 1 Axes>"
      ]
     },
     "metadata": {
      "needs_background": "light"
     },
     "output_type": "display_data"
    }
   ],
   "source": [
    "# word cloud\n",
    "# https://www.datacamp.com/community/tutorials/wordcloud-python\n",
    "from PIL import Image\n",
    "from wordcloud import WordCloud, STOPWORDS, ImageColorGenerator\n",
    "\n",
    "import matplotlib.pyplot as plt\n",
    "# % matplotlib inline\n",
    "\n",
    "wordcloud = WordCloud(max_font_size=100, min_font_size=8, max_words=100, background_color=\"white\").generate(' '.join(all_hc_words))\n",
    "plt.figure(figsize=(15,8))\n",
    "plt.imshow(wordcloud, interpolation=\"bilinear\")\n",
    "plt.axis(\"off\")\n",
    "plt.show()"
   ]
  },
  {
   "cell_type": "code",
   "execution_count": 190,
   "metadata": {},
   "outputs": [
    {
     "data": {
      "image/png": "[encoded data removed]",
      "text/plain": [
       "<Figure size 1080x576 with 1 Axes>"
      ]
     },
     "metadata": {
      "needs_background": "light"
     },
     "output_type": "display_data"
    }
   ],
   "source": [
    "wordCloudText# word cloud\n",
    "# https://www.datacamp.com/community/tutorials/wordcloud-python\n",
    "from PIL import Image\n",
    "from wordcloud import WordCloud, STOPWORDS, ImageColorGenerator\n",
    "\n",
    "import matplotlib.pyplot as plt\n",
    "# % matplotlib inline\n",
    "\n",
    "wordcloud = WordCloud(max_font_size=300, min_font_size=10, max_words=100, background_color=\"white\").generate_from_frequencies(wordCloudText)\n",
    "plt.figure(figsize=(15,8))\n",
    "plt.imshow(wordcloud, interpolation=\"bilinear\")\n",
    "plt.axis(\"off\")\n",
    "plt.show()"
   ]
  },
  {
   "cell_type": "markdown",
   "metadata": {},
   "source": [
    "# De-duplicate HC"
   ]
  },
  {
   "cell_type": "code",
   "execution_count": 16,
   "metadata": {},
   "outputs": [
    {
     "data": {
      "text/plain": [
       "((97, 1),                                                     counts\n",
       " hc                                                        \n",
       " vitamin b7 helps turn your food into energy.            52\n",
       " calcium is essential for the maintenance of hea...      37\n",
       " potassium contributes to the maintenance of hea...      27\n",
       " potassium aids in healthy muscle function.              21\n",
       " potassium helps support healthy muscle function.        20)"
      ]
     },
     "execution_count": 16,
     "metadata": {},
     "output_type": "execute_result"
    }
   ],
   "source": [
    "# Unique HC\n",
    "hc_cus_count = pd.DataFrame({'counts':df_hc_cus.groupby('hc')['hc'].count().sort_values(ascending=False)})\n",
    "hc_cus_count.shape,hc_cus_count.head()"
   ]
  },
  {
   "cell_type": "code",
   "execution_count": 13,
   "metadata": {},
   "outputs": [
    {
     "data": {
      "text/plain": [
       "Text(0, 0.5, 'HC')"
      ]
     },
     "execution_count": 13,
     "metadata": {},
     "output_type": "execute_result"
    },
    {
     "data": {
      "image/png": "[encoded data removed]",
      "text/plain": [
       "<Figure size 432x288 with 1 Axes>"
      ]
     },
     "metadata": {
      "needs_background": "light"
     },
     "output_type": "display_data"
    }
   ],
   "source": [
    "hc_cus_count.counts.value_counts().plot.bar()\n",
    "plt.xlabel('Repeat times')\n",
    "plt.ylabel('HC')"
   ]
  },
  {
   "cell_type": "code",
   "execution_count": 17,
   "metadata": {},
   "outputs": [],
   "source": [
    "def getPos(hc, seq=True):\n",
    "    postagging = nltk.pos_tag(word_tokenize(hc))\n",
    "    hc_tag = [i[1] for i in postagging] if seq else [i for i in postagging]\n",
    "    return hc_tag"
   ]
  },
  {
   "cell_type": "code",
   "execution_count": 18,
   "metadata": {},
   "outputs": [],
   "source": [
    "hc_cus_count.loc[:,'pos'] = hc_cus_count.index.map(getPos)\n",
    "hc_cus_count.loc[:,'hc_tagged'] = [getPos(i, False) for i in hc_cus_count.index]\n",
    "hc_cus_count['hc'] = hc_cus_count.index\n",
    "hc_cus_count.index = pd.Index(range(len(hc_cus_count)))"
   ]
  },
  {
   "cell_type": "code",
   "execution_count": 19,
   "metadata": {},
   "outputs": [
    {
     "data": {
      "text/html": [
       "<div>\n",
       "<style scoped>\n",
       "    .dataframe tbody tr th:only-of-type {\n",
       "        vertical-align: middle;\n",
       "    }\n",
       "\n",
       "    .dataframe tbody tr th {\n",
       "        vertical-align: top;\n",
       "    }\n",
       "\n",
       "    .dataframe thead th {\n",
       "        text-align: right;\n",
       "    }\n",
       "</style>\n",
       "<table border=\"1\" class=\"dataframe\">\n",
       "  <thead>\n",
       "    <tr style=\"text-align: right;\">\n",
       "      <th></th>\n",
       "      <th>counts</th>\n",
       "      <th>pos</th>\n",
       "      <th>hc_tagged</th>\n",
       "      <th>hc</th>\n",
       "    </tr>\n",
       "  </thead>\n",
       "  <tbody>\n",
       "    <tr>\n",
       "      <th>0</th>\n",
       "      <td>52</td>\n",
       "      <td>[NN, NN, VBZ, VB, PRP$, NN, IN, NN, .]</td>\n",
       "      <td>[(vitamin, NN), (b7, NN), (helps, VBZ), (turn,...</td>\n",
       "      <td>vitamin b7 helps turn your food into energy.</td>\n",
       "    </tr>\n",
       "    <tr>\n",
       "      <th>1</th>\n",
       "      <td>37</td>\n",
       "      <td>[NN, VBZ, JJ, IN, DT, NN, IN, JJ, NNS, .]</td>\n",
       "      <td>[(calcium, NN), (is, VBZ), (essential, JJ), (f...</td>\n",
       "      <td>calcium is essential for the maintenance of he...</td>\n",
       "    </tr>\n",
       "    <tr>\n",
       "      <th>2</th>\n",
       "      <td>27</td>\n",
       "      <td>[NN, VBZ, TO, DT, NN, IN, JJ, NN, NN, .]</td>\n",
       "      <td>[(potassium, NN), (contributes, VBZ), (to, TO)...</td>\n",
       "      <td>potassium contributes to the maintenance of he...</td>\n",
       "    </tr>\n",
       "    <tr>\n",
       "      <th>3</th>\n",
       "      <td>21</td>\n",
       "      <td>[NN, NNS, IN, JJ, NN, NN, .]</td>\n",
       "      <td>[(potassium, NN), (aids, NNS), (in, IN), (heal...</td>\n",
       "      <td>potassium aids in healthy muscle function.</td>\n",
       "    </tr>\n",
       "    <tr>\n",
       "      <th>4</th>\n",
       "      <td>20</td>\n",
       "      <td>[NN, VBZ, VB, JJ, NN, NN, .]</td>\n",
       "      <td>[(potassium, NN), (helps, VBZ), (support, VB),...</td>\n",
       "      <td>potassium helps support healthy muscle function.</td>\n",
       "    </tr>\n",
       "  </tbody>\n",
       "</table>\n",
       "</div>"
      ],
      "text/plain": [
       "   counts                                        pos  \\\n",
       "0      52     [NN, NN, VBZ, VB, PRP$, NN, IN, NN, .]   \n",
       "1      37  [NN, VBZ, JJ, IN, DT, NN, IN, JJ, NNS, .]   \n",
       "2      27   [NN, VBZ, TO, DT, NN, IN, JJ, NN, NN, .]   \n",
       "3      21               [NN, NNS, IN, JJ, NN, NN, .]   \n",
       "4      20               [NN, VBZ, VB, JJ, NN, NN, .]   \n",
       "\n",
       "                                           hc_tagged  \\\n",
       "0  [(vitamin, NN), (b7, NN), (helps, VBZ), (turn,...   \n",
       "1  [(calcium, NN), (is, VBZ), (essential, JJ), (f...   \n",
       "2  [(potassium, NN), (contributes, VBZ), (to, TO)...   \n",
       "3  [(potassium, NN), (aids, NNS), (in, IN), (heal...   \n",
       "4  [(potassium, NN), (helps, VBZ), (support, VB),...   \n",
       "\n",
       "                                                  hc  \n",
       "0       vitamin b7 helps turn your food into energy.  \n",
       "1  calcium is essential for the maintenance of he...  \n",
       "2  potassium contributes to the maintenance of he...  \n",
       "3         potassium aids in healthy muscle function.  \n",
       "4   potassium helps support healthy muscle function.  "
      ]
     },
     "execution_count": 19,
     "metadata": {},
     "output_type": "execute_result"
    }
   ],
   "source": [
    "hc_cus_count.head()"
   ]
  },
  {
   "cell_type": "code",
   "execution_count": 20,
   "metadata": {},
   "outputs": [],
   "source": [
    "with open('df_hc_cus.pickle', 'wb') as handle:\n",
    "    pickle.dump(hc_cus_count, handle, protocol=pickle.HIGHEST_PROTOCOL)"
   ]
  },
  {
   "cell_type": "code",
   "execution_count": 208,
   "metadata": {},
   "outputs": [],
   "source": [
    "drawTree(hc_cus_count.hc_tagged[88])"
   ]
  },
  {
   "cell_type": "code",
   "execution_count": 17,
   "metadata": {},
   "outputs": [],
   "source": [
    "# Graph-based FP mining edges即为共现序列\n",
    "def buildEdges(df, k=2, minS=10, raw=False, unique=False):  \n",
    "# l为输入的序列集合， k是序列中行为的个数 默认为2，minS是最小支持度 默认为10, 若raw为真返回原始全部dict数据\n",
    "  edges = {}\n",
    "  for r in range(len(df)):\n",
    "    s = df.pos[r]\n",
    "    counts = df.counts[r] if unique==False else 1\n",
    "    s=s[:] # make a copy of s\n",
    "    s.insert(0,'s') # start notation\n",
    "    for i in range(len(s)):\n",
    "      if i+ k <= len(s):\n",
    "        edge = '-'.join(s[i:i+k])\n",
    "        if edge in edges:\n",
    "          edges[edge] += counts\n",
    "        else:\n",
    "          edges[edge] = counts\n",
    "  \n",
    "  df_edges = pd.DataFrame(edges,index=['Support']).T.sort_values(by=['Support'],ascending=False)\n",
    "  stat = {'TotalCombinations':len(df_edges),'min':df_edges['Support'].min(),\n",
    "          'median':df_edges['Support'].median(),'mean':df_edges['Support'].mean(),\n",
    "          'max':df_edges['Support'].max()\n",
    "         }\n",
    "  return (df_edges[df_edges['Support']>minS],pd.DataFrame([stat])) if raw==False else edges\n",
    "# 输出为tuple, [0]项为dataframe结果，[1]为全部组合的统计数据"
   ]
  },
  {
   "cell_type": "code",
   "execution_count": 149,
   "metadata": {},
   "outputs": [
    {
     "data": {
      "text/html": [
       "<div>\n",
       "<style scoped>\n",
       "    .dataframe tbody tr th:only-of-type {\n",
       "        vertical-align: middle;\n",
       "    }\n",
       "\n",
       "    .dataframe tbody tr th {\n",
       "        vertical-align: top;\n",
       "    }\n",
       "\n",
       "    .dataframe thead th {\n",
       "        text-align: right;\n",
       "    }\n",
       "</style>\n",
       "<table border=\"1\" class=\"dataframe\">\n",
       "  <thead>\n",
       "    <tr style=\"text-align: right;\">\n",
       "      <th></th>\n",
       "      <th>Support</th>\n",
       "    </tr>\n",
       "  </thead>\n",
       "  <tbody>\n",
       "    <tr>\n",
       "      <th>s-NN</th>\n",
       "      <td>438</td>\n",
       "    </tr>\n",
       "    <tr>\n",
       "      <th>NN-VBZ</th>\n",
       "      <td>404</td>\n",
       "    </tr>\n",
       "    <tr>\n",
       "      <th>NN-IN</th>\n",
       "      <td>300</td>\n",
       "    </tr>\n",
       "    <tr>\n",
       "      <th>NN-.</th>\n",
       "      <td>272</td>\n",
       "    </tr>\n",
       "    <tr>\n",
       "      <th>NN-NN</th>\n",
       "      <td>257</td>\n",
       "    </tr>\n",
       "    <tr>\n",
       "      <th>IN-JJ</th>\n",
       "      <td>252</td>\n",
       "    </tr>\n",
       "    <tr>\n",
       "      <th>DT-NN</th>\n",
       "      <td>229</td>\n",
       "    </tr>\n",
       "    <tr>\n",
       "      <th>JJ-NNS</th>\n",
       "      <td>228</td>\n",
       "    </tr>\n",
       "    <tr>\n",
       "      <th>NNS-.</th>\n",
       "      <td>193</td>\n",
       "    </tr>\n",
       "    <tr>\n",
       "      <th>JJ-NN</th>\n",
       "      <td>190</td>\n",
       "    </tr>\n",
       "    <tr>\n",
       "      <th>IN-DT</th>\n",
       "      <td>153</td>\n",
       "    </tr>\n",
       "    <tr>\n",
       "      <th>IN-NN</th>\n",
       "      <td>116</td>\n",
       "    </tr>\n",
       "    <tr>\n",
       "      <th>VBZ-TO</th>\n",
       "      <td>111</td>\n",
       "    </tr>\n",
       "    <tr>\n",
       "      <th>VBZ-VB</th>\n",
       "      <td>111</td>\n",
       "    </tr>\n",
       "    <tr>\n",
       "      <th>PRP$-NN</th>\n",
       "      <td>109</td>\n",
       "    </tr>\n",
       "    <tr>\n",
       "      <th>JJ-IN</th>\n",
       "      <td>108</td>\n",
       "    </tr>\n",
       "    <tr>\n",
       "      <th>VBZ-JJ</th>\n",
       "      <td>108</td>\n",
       "    </tr>\n",
       "  </tbody>\n",
       "</table>\n",
       "</div>"
      ],
      "text/plain": [
       "         Support\n",
       "s-NN         438\n",
       "NN-VBZ       404\n",
       "NN-IN        300\n",
       "NN-.         272\n",
       "NN-NN        257\n",
       "IN-JJ        252\n",
       "DT-NN        229\n",
       "JJ-NNS       228\n",
       "NNS-.        193\n",
       "JJ-NN        190\n",
       "IN-DT        153\n",
       "IN-NN        116\n",
       "VBZ-TO       111\n",
       "VBZ-VB       111\n",
       "PRP$-NN      109\n",
       "JJ-IN        108\n",
       "VBZ-JJ       108"
      ]
     },
     "execution_count": 149,
     "metadata": {},
     "output_type": "execute_result"
    }
   ],
   "source": [
    "buildEdges(hc_cus_count, 2, 100, unique=False)[0]"
   ]
  },
  {
   "cell_type": "code",
   "execution_count": 150,
   "metadata": {},
   "outputs": [
    {
     "data": {
      "text/html": [
       "<div>\n",
       "<style scoped>\n",
       "    .dataframe tbody tr th:only-of-type {\n",
       "        vertical-align: middle;\n",
       "    }\n",
       "\n",
       "    .dataframe tbody tr th {\n",
       "        vertical-align: top;\n",
       "    }\n",
       "\n",
       "    .dataframe thead th {\n",
       "        text-align: right;\n",
       "    }\n",
       "</style>\n",
       "<table border=\"1\" class=\"dataframe\">\n",
       "  <thead>\n",
       "    <tr style=\"text-align: right;\">\n",
       "      <th></th>\n",
       "      <th>Support</th>\n",
       "    </tr>\n",
       "  </thead>\n",
       "  <tbody>\n",
       "    <tr>\n",
       "      <th>s-NN-VBZ</th>\n",
       "      <td>282</td>\n",
       "    </tr>\n",
       "    <tr>\n",
       "      <th>DT-NN-IN</th>\n",
       "      <td>229</td>\n",
       "    </tr>\n",
       "    <tr>\n",
       "      <th>NN-IN-JJ</th>\n",
       "      <td>223</td>\n",
       "    </tr>\n",
       "    <tr>\n",
       "      <th>IN-JJ-NNS</th>\n",
       "      <td>167</td>\n",
       "    </tr>\n",
       "    <tr>\n",
       "      <th>JJ-NNS-.</th>\n",
       "      <td>155</td>\n",
       "    </tr>\n",
       "    <tr>\n",
       "      <th>IN-DT-NN</th>\n",
       "      <td>137</td>\n",
       "    </tr>\n",
       "    <tr>\n",
       "      <th>JJ-NN-NN</th>\n",
       "      <td>124</td>\n",
       "    </tr>\n",
       "    <tr>\n",
       "      <th>s-NN-NN</th>\n",
       "      <td>120</td>\n",
       "    </tr>\n",
       "    <tr>\n",
       "      <th>NN-NN-VBZ</th>\n",
       "      <td>120</td>\n",
       "    </tr>\n",
       "    <tr>\n",
       "      <th>NN-NN-.</th>\n",
       "      <td>114</td>\n",
       "    </tr>\n",
       "    <tr>\n",
       "      <th>VBZ-JJ-IN</th>\n",
       "      <td>108</td>\n",
       "    </tr>\n",
       "    <tr>\n",
       "      <th>JJ-IN-DT</th>\n",
       "      <td>108</td>\n",
       "    </tr>\n",
       "    <tr>\n",
       "      <th>IN-NN-.</th>\n",
       "      <td>107</td>\n",
       "    </tr>\n",
       "    <tr>\n",
       "      <th>NN-VBZ-TO</th>\n",
       "      <td>107</td>\n",
       "    </tr>\n",
       "    <tr>\n",
       "      <th>NN-VBZ-JJ</th>\n",
       "      <td>102</td>\n",
       "    </tr>\n",
       "  </tbody>\n",
       "</table>\n",
       "</div>"
      ],
      "text/plain": [
       "           Support\n",
       "s-NN-VBZ       282\n",
       "DT-NN-IN       229\n",
       "NN-IN-JJ       223\n",
       "IN-JJ-NNS      167\n",
       "JJ-NNS-.       155\n",
       "IN-DT-NN       137\n",
       "JJ-NN-NN       124\n",
       "s-NN-NN        120\n",
       "NN-NN-VBZ      120\n",
       "NN-NN-.        114\n",
       "VBZ-JJ-IN      108\n",
       "JJ-IN-DT       108\n",
       "IN-NN-.        107\n",
       "NN-VBZ-TO      107\n",
       "NN-VBZ-JJ      102"
      ]
     },
     "execution_count": 150,
     "metadata": {},
     "output_type": "execute_result"
    }
   ],
   "source": [
    "buildEdges(hc_cus_count, 3, 100, unique=False)[0]"
   ]
  },
  {
   "cell_type": "code",
   "execution_count": 151,
   "metadata": {},
   "outputs": [
    {
     "data": {
      "text/html": [
       "<div>\n",
       "<style scoped>\n",
       "    .dataframe tbody tr th:only-of-type {\n",
       "        vertical-align: middle;\n",
       "    }\n",
       "\n",
       "    .dataframe tbody tr th {\n",
       "        vertical-align: top;\n",
       "    }\n",
       "\n",
       "    .dataframe thead th {\n",
       "        text-align: right;\n",
       "    }\n",
       "</style>\n",
       "<table border=\"1\" class=\"dataframe\">\n",
       "  <thead>\n",
       "    <tr style=\"text-align: right;\">\n",
       "      <th></th>\n",
       "      <th>Support</th>\n",
       "    </tr>\n",
       "  </thead>\n",
       "  <tbody>\n",
       "    <tr>\n",
       "      <th>DT-NN-IN-JJ</th>\n",
       "      <td>223</td>\n",
       "    </tr>\n",
       "    <tr>\n",
       "      <th>NN-IN-JJ-NNS</th>\n",
       "      <td>167</td>\n",
       "    </tr>\n",
       "    <tr>\n",
       "      <th>IN-DT-NN-IN</th>\n",
       "      <td>137</td>\n",
       "    </tr>\n",
       "    <tr>\n",
       "      <th>IN-JJ-NNS-.</th>\n",
       "      <td>132</td>\n",
       "    </tr>\n",
       "    <tr>\n",
       "      <th>s-NN-NN-VBZ</th>\n",
       "      <td>120</td>\n",
       "    </tr>\n",
       "    <tr>\n",
       "      <th>VBZ-JJ-IN-DT</th>\n",
       "      <td>108</td>\n",
       "    </tr>\n",
       "    <tr>\n",
       "      <th>JJ-NN-NN-.</th>\n",
       "      <td>107</td>\n",
       "    </tr>\n",
       "    <tr>\n",
       "      <th>NN-VBZ-JJ-IN</th>\n",
       "      <td>102</td>\n",
       "    </tr>\n",
       "    <tr>\n",
       "      <th>s-NN-VBZ-JJ</th>\n",
       "      <td>101</td>\n",
       "    </tr>\n",
       "  </tbody>\n",
       "</table>\n",
       "</div>"
      ],
      "text/plain": [
       "              Support\n",
       "DT-NN-IN-JJ       223\n",
       "NN-IN-JJ-NNS      167\n",
       "IN-DT-NN-IN       137\n",
       "IN-JJ-NNS-.       132\n",
       "s-NN-NN-VBZ       120\n",
       "VBZ-JJ-IN-DT      108\n",
       "JJ-NN-NN-.        107\n",
       "NN-VBZ-JJ-IN      102\n",
       "s-NN-VBZ-JJ       101"
      ]
     },
     "execution_count": 151,
     "metadata": {},
     "output_type": "execute_result"
    }
   ],
   "source": [
    "buildEdges(hc_cus_count, 4, 100, unique=False)[0]"
   ]
  },
  {
   "cell_type": "code",
   "execution_count": 152,
   "metadata": {},
   "outputs": [
    {
     "data": {
      "text/html": [
       "<div>\n",
       "<style scoped>\n",
       "    .dataframe tbody tr th:only-of-type {\n",
       "        vertical-align: middle;\n",
       "    }\n",
       "\n",
       "    .dataframe tbody tr th {\n",
       "        vertical-align: top;\n",
       "    }\n",
       "\n",
       "    .dataframe thead th {\n",
       "        text-align: right;\n",
       "    }\n",
       "</style>\n",
       "<table border=\"1\" class=\"dataframe\">\n",
       "  <thead>\n",
       "    <tr style=\"text-align: right;\">\n",
       "      <th></th>\n",
       "      <th>Support</th>\n",
       "    </tr>\n",
       "  </thead>\n",
       "  <tbody>\n",
       "    <tr>\n",
       "      <th>DT-NN-IN-JJ-NNS</th>\n",
       "      <td>167</td>\n",
       "    </tr>\n",
       "    <tr>\n",
       "      <th>IN-DT-NN-IN-JJ</th>\n",
       "      <td>137</td>\n",
       "    </tr>\n",
       "    <tr>\n",
       "      <th>NN-IN-JJ-NNS-.</th>\n",
       "      <td>132</td>\n",
       "    </tr>\n",
       "    <tr>\n",
       "      <th>NN-VBZ-JJ-IN-DT</th>\n",
       "      <td>102</td>\n",
       "    </tr>\n",
       "    <tr>\n",
       "      <th>s-NN-VBZ-JJ-IN</th>\n",
       "      <td>101</td>\n",
       "    </tr>\n",
       "  </tbody>\n",
       "</table>\n",
       "</div>"
      ],
      "text/plain": [
       "                 Support\n",
       "DT-NN-IN-JJ-NNS      167\n",
       "IN-DT-NN-IN-JJ       137\n",
       "NN-IN-JJ-NNS-.       132\n",
       "NN-VBZ-JJ-IN-DT      102\n",
       "s-NN-VBZ-JJ-IN       101"
      ]
     },
     "execution_count": 152,
     "metadata": {},
     "output_type": "execute_result"
    }
   ],
   "source": [
    "buildEdges(hc_cus_count, 5, 100, unique=False)[0]"
   ]
  },
  {
   "cell_type": "code",
   "execution_count": 154,
   "metadata": {},
   "outputs": [
    {
     "data": {
      "text/html": [
       "<div>\n",
       "<style scoped>\n",
       "    .dataframe tbody tr th:only-of-type {\n",
       "        vertical-align: middle;\n",
       "    }\n",
       "\n",
       "    .dataframe tbody tr th {\n",
       "        vertical-align: top;\n",
       "    }\n",
       "\n",
       "    .dataframe thead th {\n",
       "        text-align: right;\n",
       "    }\n",
       "</style>\n",
       "<table border=\"1\" class=\"dataframe\">\n",
       "  <thead>\n",
       "    <tr style=\"text-align: right;\">\n",
       "      <th></th>\n",
       "      <th>Support</th>\n",
       "    </tr>\n",
       "  </thead>\n",
       "  <tbody>\n",
       "    <tr>\n",
       "      <th>DT-NN-IN-JJ-NNS-.</th>\n",
       "      <td>132</td>\n",
       "    </tr>\n",
       "    <tr>\n",
       "      <th>IN-DT-NN-IN-JJ-NNS</th>\n",
       "      <td>123</td>\n",
       "    </tr>\n",
       "    <tr>\n",
       "      <th>s-NN-VBZ-JJ-IN-DT</th>\n",
       "      <td>101</td>\n",
       "    </tr>\n",
       "    <tr>\n",
       "      <th>VBZ-JJ-IN-DT-NN-IN</th>\n",
       "      <td>92</td>\n",
       "    </tr>\n",
       "    <tr>\n",
       "      <th>JJ-IN-DT-NN-IN-JJ</th>\n",
       "      <td>92</td>\n",
       "    </tr>\n",
       "    <tr>\n",
       "      <th>NN-VBZ-JJ-IN-DT-NN</th>\n",
       "      <td>89</td>\n",
       "    </tr>\n",
       "  </tbody>\n",
       "</table>\n",
       "</div>"
      ],
      "text/plain": [
       "                    Support\n",
       "DT-NN-IN-JJ-NNS-.       132\n",
       "IN-DT-NN-IN-JJ-NNS      123\n",
       "s-NN-VBZ-JJ-IN-DT       101\n",
       "VBZ-JJ-IN-DT-NN-IN       92\n",
       "JJ-IN-DT-NN-IN-JJ        92\n",
       "NN-VBZ-JJ-IN-DT-NN       89"
      ]
     },
     "execution_count": 154,
     "metadata": {},
     "output_type": "execute_result"
    }
   ],
   "source": [
    "buildEdges(hc_cus_count, 6, 80, unique=False)[0]"
   ]
  },
  {
   "cell_type": "code",
   "execution_count": 155,
   "metadata": {},
   "outputs": [
    {
     "data": {
      "text/html": [
       "<div>\n",
       "<style scoped>\n",
       "    .dataframe tbody tr th:only-of-type {\n",
       "        vertical-align: middle;\n",
       "    }\n",
       "\n",
       "    .dataframe tbody tr th {\n",
       "        vertical-align: top;\n",
       "    }\n",
       "\n",
       "    .dataframe thead th {\n",
       "        text-align: right;\n",
       "    }\n",
       "</style>\n",
       "<table border=\"1\" class=\"dataframe\">\n",
       "  <thead>\n",
       "    <tr style=\"text-align: right;\">\n",
       "      <th></th>\n",
       "      <th>Support</th>\n",
       "    </tr>\n",
       "  </thead>\n",
       "  <tbody>\n",
       "    <tr>\n",
       "      <th>IN-DT-NN-IN-JJ-NNS-.</th>\n",
       "      <td>97</td>\n",
       "    </tr>\n",
       "    <tr>\n",
       "      <th>VBZ-JJ-IN-DT-NN-IN-JJ</th>\n",
       "      <td>92</td>\n",
       "    </tr>\n",
       "    <tr>\n",
       "      <th>s-NN-VBZ-JJ-IN-DT-NN</th>\n",
       "      <td>89</td>\n",
       "    </tr>\n",
       "    <tr>\n",
       "      <th>NN-VBZ-JJ-IN-DT-NN-IN</th>\n",
       "      <td>89</td>\n",
       "    </tr>\n",
       "    <tr>\n",
       "      <th>JJ-IN-DT-NN-IN-JJ-NNS</th>\n",
       "      <td>88</td>\n",
       "    </tr>\n",
       "  </tbody>\n",
       "</table>\n",
       "</div>"
      ],
      "text/plain": [
       "                       Support\n",
       "IN-DT-NN-IN-JJ-NNS-.        97\n",
       "VBZ-JJ-IN-DT-NN-IN-JJ       92\n",
       "s-NN-VBZ-JJ-IN-DT-NN        89\n",
       "NN-VBZ-JJ-IN-DT-NN-IN       89\n",
       "JJ-IN-DT-NN-IN-JJ-NNS       88"
      ]
     },
     "execution_count": 155,
     "metadata": {},
     "output_type": "execute_result"
    }
   ],
   "source": [
    "buildEdges(hc_cus_count, 7, 80, unique=False)[0]"
   ]
  },
  {
   "cell_type": "code",
   "execution_count": 158,
   "metadata": {},
   "outputs": [
    {
     "data": {
      "text/html": [
       "<div>\n",
       "<style scoped>\n",
       "    .dataframe tbody tr th:only-of-type {\n",
       "        vertical-align: middle;\n",
       "    }\n",
       "\n",
       "    .dataframe tbody tr th {\n",
       "        vertical-align: top;\n",
       "    }\n",
       "\n",
       "    .dataframe thead th {\n",
       "        text-align: right;\n",
       "    }\n",
       "</style>\n",
       "<table border=\"1\" class=\"dataframe\">\n",
       "  <thead>\n",
       "    <tr style=\"text-align: right;\">\n",
       "      <th></th>\n",
       "      <th>Support</th>\n",
       "    </tr>\n",
       "  </thead>\n",
       "  <tbody>\n",
       "    <tr>\n",
       "      <th>s-NN-VBZ-JJ-IN-DT-NN-IN-JJ</th>\n",
       "      <td>89</td>\n",
       "    </tr>\n",
       "    <tr>\n",
       "      <th>NN-VBZ-JJ-IN-DT-NN-IN-JJ-NNS</th>\n",
       "      <td>87</td>\n",
       "    </tr>\n",
       "    <tr>\n",
       "      <th>VBZ-JJ-IN-DT-NN-IN-JJ-NNS-.</th>\n",
       "      <td>76</td>\n",
       "    </tr>\n",
       "    <tr>\n",
       "      <th>s-NN-NN-VBZ-VB-PRP$-NN-IN-NN</th>\n",
       "      <td>52</td>\n",
       "    </tr>\n",
       "    <tr>\n",
       "      <th>NN-NN-VBZ-VB-PRP$-NN-IN-NN-.</th>\n",
       "      <td>52</td>\n",
       "    </tr>\n",
       "  </tbody>\n",
       "</table>\n",
       "</div>"
      ],
      "text/plain": [
       "                              Support\n",
       "s-NN-VBZ-JJ-IN-DT-NN-IN-JJ         89\n",
       "NN-VBZ-JJ-IN-DT-NN-IN-JJ-NNS       87\n",
       "VBZ-JJ-IN-DT-NN-IN-JJ-NNS-.        76\n",
       "s-NN-NN-VBZ-VB-PRP$-NN-IN-NN       52\n",
       "NN-NN-VBZ-VB-PRP$-NN-IN-NN-.       52"
      ]
     },
     "execution_count": 158,
     "metadata": {},
     "output_type": "execute_result"
    }
   ],
   "source": [
    "buildEdges(hc_cus_count, 9, 50, unique=False)[0]"
   ]
  },
  {
   "cell_type": "code",
   "execution_count": 11,
   "metadata": {},
   "outputs": [],
   "source": [
    "# FP mining for words 即为共现序列\n",
    "def buildEdgesWord(df, k=2, minS=10, raw=False, unique=False):  \n",
    "# l为输入的序列集合， k是序列中行为的个数 默认为2，minS是最小支持度 默认为10, 若raw为真返回原始全部dict数据\n",
    "  edges = {}\n",
    "  for r in range(len(df)):\n",
    "    s = word_tokenize(df.hc[r])\n",
    "    s = [get_lemma(w) for w in s]\n",
    "    counts = df.counts[r] if unique==False else 1\n",
    "    s.insert(0,'s') # start notation\n",
    "    for i in range(len(s)):\n",
    "      if i+ k <= len(s):\n",
    "        edge = '-'.join(s[i:i+k])\n",
    "        if edge in edges:\n",
    "          edges[edge] += counts\n",
    "        else:\n",
    "          edges[edge] = counts\n",
    "  \n",
    "  df_edges = pd.DataFrame(edges,index=['Support']).T.sort_values(by=['Support'],ascending=False)\n",
    "  stat = {'TotalCombinations':len(df_edges),'min':df_edges['Support'].min(),\n",
    "          'median':df_edges['Support'].median(),'mean':df_edges['Support'].mean(),\n",
    "          'max':df_edges['Support'].max()\n",
    "         }\n",
    "  return (df_edges[df_edges['Support']>minS],pd.DataFrame([stat])) if raw==False else edges\n",
    "# 输出为tuple, [0]项为dataframe结果，[1]为全部组合的统计数据"
   ]
  },
  {
   "cell_type": "code",
   "execution_count": 14,
   "metadata": {},
   "outputs": [
    {
     "data": {
      "text/html": [
       "<div>\n",
       "<style scoped>\n",
       "    .dataframe tbody tr th:only-of-type {\n",
       "        vertical-align: middle;\n",
       "    }\n",
       "\n",
       "    .dataframe tbody tr th {\n",
       "        vertical-align: top;\n",
       "    }\n",
       "\n",
       "    .dataframe thead th {\n",
       "        text-align: right;\n",
       "    }\n",
       "</style>\n",
       "<table border=\"1\" class=\"dataframe\">\n",
       "  <thead>\n",
       "    <tr style=\"text-align: right;\">\n",
       "      <th></th>\n",
       "      <th>Support</th>\n",
       "    </tr>\n",
       "  </thead>\n",
       "  <tbody>\n",
       "    <tr>\n",
       "      <th>maintenance-of</th>\n",
       "      <td>223</td>\n",
       "    </tr>\n",
       "    <tr>\n",
       "      <th>the-maintenance</th>\n",
       "      <td>223</td>\n",
       "    </tr>\n",
       "    <tr>\n",
       "      <th>of-healthy</th>\n",
       "      <td>144</td>\n",
       "    </tr>\n",
       "    <tr>\n",
       "      <th>s-calcium</th>\n",
       "      <td>136</td>\n",
       "    </tr>\n",
       "    <tr>\n",
       "      <th>bones-.</th>\n",
       "      <td>135</td>\n",
       "    </tr>\n",
       "    <tr>\n",
       "      <th>for-the</th>\n",
       "      <td>131</td>\n",
       "    </tr>\n",
       "    <tr>\n",
       "      <th>contribute-to</th>\n",
       "      <td>130</td>\n",
       "    </tr>\n",
       "    <tr>\n",
       "      <th>s-potassium</th>\n",
       "      <td>129</td>\n",
       "    </tr>\n",
       "    <tr>\n",
       "      <th>s-vitamin</th>\n",
       "      <td>120</td>\n",
       "    </tr>\n",
       "    <tr>\n",
       "      <th>vitamin-b7</th>\n",
       "      <td>120</td>\n",
       "    </tr>\n",
       "    <tr>\n",
       "      <th>s-omega-3</th>\n",
       "      <td>118</td>\n",
       "    </tr>\n",
       "  </tbody>\n",
       "</table>\n",
       "</div>"
      ],
      "text/plain": [
       "                 Support\n",
       "maintenance-of       223\n",
       "the-maintenance      223\n",
       "of-healthy           144\n",
       "s-calcium            136\n",
       "bones-.              135\n",
       "for-the              131\n",
       "contribute-to        130\n",
       "s-potassium          129\n",
       "s-vitamin            120\n",
       "vitamin-b7           120\n",
       "s-omega-3            118"
      ]
     },
     "execution_count": 14,
     "metadata": {},
     "output_type": "execute_result"
    }
   ],
   "source": [
    "buildEdgesWord(hc_cus_count, 2, 100, unique=False)[0]"
   ]
  },
  {
   "cell_type": "code",
   "execution_count": 16,
   "metadata": {},
   "outputs": [
    {
     "data": {
      "text/html": [
       "<div>\n",
       "<style scoped>\n",
       "    .dataframe tbody tr th:only-of-type {\n",
       "        vertical-align: middle;\n",
       "    }\n",
       "\n",
       "    .dataframe tbody tr th {\n",
       "        vertical-align: top;\n",
       "    }\n",
       "\n",
       "    .dataframe thead th {\n",
       "        text-align: right;\n",
       "    }\n",
       "</style>\n",
       "<table border=\"1\" class=\"dataframe\">\n",
       "  <thead>\n",
       "    <tr style=\"text-align: right;\">\n",
       "      <th></th>\n",
       "      <th>Support</th>\n",
       "    </tr>\n",
       "  </thead>\n",
       "  <tbody>\n",
       "    <tr>\n",
       "      <th>the-maintenance-of</th>\n",
       "      <td>223</td>\n",
       "    </tr>\n",
       "    <tr>\n",
       "      <th>maintenance-of-healthy</th>\n",
       "      <td>144</td>\n",
       "    </tr>\n",
       "    <tr>\n",
       "      <th>for-the-maintenance</th>\n",
       "      <td>131</td>\n",
       "    </tr>\n",
       "    <tr>\n",
       "      <th>s-vitamin-b7</th>\n",
       "      <td>120</td>\n",
       "    </tr>\n",
       "    <tr>\n",
       "      <th>s-calcium-be</th>\n",
       "      <td>91</td>\n",
       "    </tr>\n",
       "    <tr>\n",
       "      <th>muscle-function-.</th>\n",
       "      <td>88</td>\n",
       "    </tr>\n",
       "    <tr>\n",
       "      <th>healthy-bones-.</th>\n",
       "      <td>85</td>\n",
       "    </tr>\n",
       "    <tr>\n",
       "      <th>of-healthy-bones</th>\n",
       "      <td>82</td>\n",
       "    </tr>\n",
       "  </tbody>\n",
       "</table>\n",
       "</div>"
      ],
      "text/plain": [
       "                        Support\n",
       "the-maintenance-of          223\n",
       "maintenance-of-healthy      144\n",
       "for-the-maintenance         131\n",
       "s-vitamin-b7                120\n",
       "s-calcium-be                 91\n",
       "muscle-function-.            88\n",
       "healthy-bones-.              85\n",
       "of-healthy-bones             82"
      ]
     },
     "execution_count": 16,
     "metadata": {},
     "output_type": "execute_result"
    }
   ],
   "source": [
    "buildEdgesWord(hc_cus_count, 3, 80, unique=False)[0]"
   ]
  },
  {
   "cell_type": "code",
   "execution_count": 20,
   "metadata": {},
   "outputs": [
    {
     "data": {
      "text/html": [
       "<div>\n",
       "<style scoped>\n",
       "    .dataframe tbody tr th:only-of-type {\n",
       "        vertical-align: middle;\n",
       "    }\n",
       "\n",
       "    .dataframe tbody tr th {\n",
       "        vertical-align: top;\n",
       "    }\n",
       "\n",
       "    .dataframe thead th {\n",
       "        text-align: right;\n",
       "    }\n",
       "</style>\n",
       "<table border=\"1\" class=\"dataframe\">\n",
       "  <thead>\n",
       "    <tr style=\"text-align: right;\">\n",
       "      <th></th>\n",
       "      <th>Support</th>\n",
       "    </tr>\n",
       "  </thead>\n",
       "  <tbody>\n",
       "    <tr>\n",
       "      <th>the-maintenance-of-healthy</th>\n",
       "      <td>144</td>\n",
       "    </tr>\n",
       "    <tr>\n",
       "      <th>for-the-maintenance-of</th>\n",
       "      <td>131</td>\n",
       "    </tr>\n",
       "    <tr>\n",
       "      <th>of-healthy-bones-.</th>\n",
       "      <td>82</td>\n",
       "    </tr>\n",
       "    <tr>\n",
       "      <th>maintenance-of-healthy-bones</th>\n",
       "      <td>82</td>\n",
       "    </tr>\n",
       "    <tr>\n",
       "      <th>to-the-maintenance-of</th>\n",
       "      <td>72</td>\n",
       "    </tr>\n",
       "    <tr>\n",
       "      <th>contribute-to-the-maintenance</th>\n",
       "      <td>72</td>\n",
       "    </tr>\n",
       "    <tr>\n",
       "      <th>healthy-muscle-function-.</th>\n",
       "      <td>68</td>\n",
       "    </tr>\n",
       "  </tbody>\n",
       "</table>\n",
       "</div>"
      ],
      "text/plain": [
       "                               Support\n",
       "the-maintenance-of-healthy         144\n",
       "for-the-maintenance-of             131\n",
       "of-healthy-bones-.                  82\n",
       "maintenance-of-healthy-bones        82\n",
       "to-the-maintenance-of               72\n",
       "contribute-to-the-maintenance       72\n",
       "healthy-muscle-function-.           68"
      ]
     },
     "execution_count": 20,
     "metadata": {},
     "output_type": "execute_result"
    }
   ],
   "source": [
    "buildEdgesWord(hc_cus_count, 4, 60, unique=False)[0]"
   ]
  },
  {
   "cell_type": "code",
   "execution_count": 25,
   "metadata": {},
   "outputs": [
    {
     "data": {
      "text/html": [
       "<div>\n",
       "<style scoped>\n",
       "    .dataframe tbody tr th:only-of-type {\n",
       "        vertical-align: middle;\n",
       "    }\n",
       "\n",
       "    .dataframe tbody tr th {\n",
       "        vertical-align: top;\n",
       "    }\n",
       "\n",
       "    .dataframe thead th {\n",
       "        text-align: right;\n",
       "    }\n",
       "</style>\n",
       "<table border=\"1\" class=\"dataframe\">\n",
       "  <thead>\n",
       "    <tr style=\"text-align: right;\">\n",
       "      <th></th>\n",
       "      <th>Support</th>\n",
       "    </tr>\n",
       "  </thead>\n",
       "  <tbody>\n",
       "    <tr>\n",
       "      <th>maintenance-of-healthy-bones-.</th>\n",
       "      <td>82</td>\n",
       "    </tr>\n",
       "    <tr>\n",
       "      <th>the-maintenance-of-healthy-bones</th>\n",
       "      <td>82</td>\n",
       "    </tr>\n",
       "    <tr>\n",
       "      <th>for-the-maintenance-of-healthy</th>\n",
       "      <td>80</td>\n",
       "    </tr>\n",
       "    <tr>\n",
       "      <th>contribute-to-the-maintenance-of</th>\n",
       "      <td>72</td>\n",
       "    </tr>\n",
       "    <tr>\n",
       "      <th>s-calcium-be-essential-for</th>\n",
       "      <td>57</td>\n",
       "    </tr>\n",
       "    <tr>\n",
       "      <th>calcium-be-essential-for-the</th>\n",
       "      <td>57</td>\n",
       "    </tr>\n",
       "    <tr>\n",
       "      <th>be-essential-for-the-maintenance</th>\n",
       "      <td>57</td>\n",
       "    </tr>\n",
       "    <tr>\n",
       "      <th>essential-for-the-maintenance-of</th>\n",
       "      <td>57</td>\n",
       "    </tr>\n",
       "    <tr>\n",
       "      <th>help-turn-your-food-into</th>\n",
       "      <td>53</td>\n",
       "    </tr>\n",
       "    <tr>\n",
       "      <th>turn-your-food-into-energy</th>\n",
       "      <td>53</td>\n",
       "    </tr>\n",
       "    <tr>\n",
       "      <th>your-food-into-energy-.</th>\n",
       "      <td>53</td>\n",
       "    </tr>\n",
       "    <tr>\n",
       "      <th>to-the-maintenance-of-healthy</th>\n",
       "      <td>53</td>\n",
       "    </tr>\n",
       "    <tr>\n",
       "      <th>vitamin-b7-help-turn-your</th>\n",
       "      <td>52</td>\n",
       "    </tr>\n",
       "    <tr>\n",
       "      <th>s-vitamin-b7-help-turn</th>\n",
       "      <td>52</td>\n",
       "    </tr>\n",
       "    <tr>\n",
       "      <th>b7-help-turn-your-food</th>\n",
       "      <td>52</td>\n",
       "    </tr>\n",
       "    <tr>\n",
       "      <th>s-vitamin-b7-contribute-to</th>\n",
       "      <td>51</td>\n",
       "    </tr>\n",
       "  </tbody>\n",
       "</table>\n",
       "</div>"
      ],
      "text/plain": [
       "                                  Support\n",
       "maintenance-of-healthy-bones-.         82\n",
       "the-maintenance-of-healthy-bones       82\n",
       "for-the-maintenance-of-healthy         80\n",
       "contribute-to-the-maintenance-of       72\n",
       "s-calcium-be-essential-for             57\n",
       "calcium-be-essential-for-the           57\n",
       "be-essential-for-the-maintenance       57\n",
       "essential-for-the-maintenance-of       57\n",
       "help-turn-your-food-into               53\n",
       "turn-your-food-into-energy             53\n",
       "your-food-into-energy-.                53\n",
       "to-the-maintenance-of-healthy          53\n",
       "vitamin-b7-help-turn-your              52\n",
       "s-vitamin-b7-help-turn                 52\n",
       "b7-help-turn-your-food                 52\n",
       "s-vitamin-b7-contribute-to             51"
      ]
     },
     "execution_count": 25,
     "metadata": {},
     "output_type": "execute_result"
    }
   ],
   "source": [
    "buildEdgesWord(hc_cus_count, 5, 50, unique=False)[0]"
   ]
  },
  {
   "cell_type": "code",
   "execution_count": 24,
   "metadata": {},
   "outputs": [
    {
     "data": {
      "text/html": [
       "<div>\n",
       "<style scoped>\n",
       "    .dataframe tbody tr th:only-of-type {\n",
       "        vertical-align: middle;\n",
       "    }\n",
       "\n",
       "    .dataframe tbody tr th {\n",
       "        vertical-align: top;\n",
       "    }\n",
       "\n",
       "    .dataframe thead th {\n",
       "        text-align: right;\n",
       "    }\n",
       "</style>\n",
       "<table border=\"1\" class=\"dataframe\">\n",
       "  <thead>\n",
       "    <tr style=\"text-align: right;\">\n",
       "      <th></th>\n",
       "      <th>Support</th>\n",
       "    </tr>\n",
       "  </thead>\n",
       "  <tbody>\n",
       "    <tr>\n",
       "      <th>the-maintenance-of-healthy-bones-.</th>\n",
       "      <td>82</td>\n",
       "    </tr>\n",
       "    <tr>\n",
       "      <th>s-calcium-be-essential-for-the</th>\n",
       "      <td>57</td>\n",
       "    </tr>\n",
       "    <tr>\n",
       "      <th>calcium-be-essential-for-the-maintenance</th>\n",
       "      <td>57</td>\n",
       "    </tr>\n",
       "    <tr>\n",
       "      <th>be-essential-for-the-maintenance-of</th>\n",
       "      <td>57</td>\n",
       "    </tr>\n",
       "    <tr>\n",
       "      <th>for-the-maintenance-of-healthy-bones</th>\n",
       "      <td>54</td>\n",
       "    </tr>\n",
       "    <tr>\n",
       "      <th>contribute-to-the-maintenance-of-healthy</th>\n",
       "      <td>53</td>\n",
       "    </tr>\n",
       "    <tr>\n",
       "      <th>help-turn-your-food-into-energy</th>\n",
       "      <td>53</td>\n",
       "    </tr>\n",
       "    <tr>\n",
       "      <th>turn-your-food-into-energy-.</th>\n",
       "      <td>53</td>\n",
       "    </tr>\n",
       "    <tr>\n",
       "      <th>s-vitamin-b7-help-turn-your</th>\n",
       "      <td>52</td>\n",
       "    </tr>\n",
       "    <tr>\n",
       "      <th>b7-help-turn-your-food-into</th>\n",
       "      <td>52</td>\n",
       "    </tr>\n",
       "    <tr>\n",
       "      <th>vitamin-b7-help-turn-your-food</th>\n",
       "      <td>52</td>\n",
       "    </tr>\n",
       "  </tbody>\n",
       "</table>\n",
       "</div>"
      ],
      "text/plain": [
       "                                          Support\n",
       "the-maintenance-of-healthy-bones-.             82\n",
       "s-calcium-be-essential-for-the                 57\n",
       "calcium-be-essential-for-the-maintenance       57\n",
       "be-essential-for-the-maintenance-of            57\n",
       "for-the-maintenance-of-healthy-bones           54\n",
       "contribute-to-the-maintenance-of-healthy       53\n",
       "help-turn-your-food-into-energy                53\n",
       "turn-your-food-into-energy-.                   53\n",
       "s-vitamin-b7-help-turn-your                    52\n",
       "b7-help-turn-your-food-into                    52\n",
       "vitamin-b7-help-turn-your-food                 52"
      ]
     },
     "execution_count": 24,
     "metadata": {},
     "output_type": "execute_result"
    }
   ],
   "source": [
    "buildEdgesWord(hc_cus_count, 6, 50, unique=False)[0]"
   ]
  },
  {
   "cell_type": "code",
   "execution_count": 26,
   "metadata": {},
   "outputs": [
    {
     "data": {
      "text/html": [
       "<div>\n",
       "<style scoped>\n",
       "    .dataframe tbody tr th:only-of-type {\n",
       "        vertical-align: middle;\n",
       "    }\n",
       "\n",
       "    .dataframe tbody tr th {\n",
       "        vertical-align: top;\n",
       "    }\n",
       "\n",
       "    .dataframe thead th {\n",
       "        text-align: right;\n",
       "    }\n",
       "</style>\n",
       "<table border=\"1\" class=\"dataframe\">\n",
       "  <thead>\n",
       "    <tr style=\"text-align: right;\">\n",
       "      <th></th>\n",
       "      <th>Support</th>\n",
       "    </tr>\n",
       "  </thead>\n",
       "  <tbody>\n",
       "    <tr>\n",
       "      <th>s-calcium-be-essential-for-the-maintenance</th>\n",
       "      <td>57</td>\n",
       "    </tr>\n",
       "    <tr>\n",
       "      <th>calcium-be-essential-for-the-maintenance-of</th>\n",
       "      <td>57</td>\n",
       "    </tr>\n",
       "    <tr>\n",
       "      <th>for-the-maintenance-of-healthy-bones-.</th>\n",
       "      <td>54</td>\n",
       "    </tr>\n",
       "    <tr>\n",
       "      <th>help-turn-your-food-into-energy-.</th>\n",
       "      <td>53</td>\n",
       "    </tr>\n",
       "    <tr>\n",
       "      <th>s-vitamin-b7-help-turn-your-food</th>\n",
       "      <td>52</td>\n",
       "    </tr>\n",
       "    <tr>\n",
       "      <th>b7-help-turn-your-food-into-energy</th>\n",
       "      <td>52</td>\n",
       "    </tr>\n",
       "    <tr>\n",
       "      <th>vitamin-b7-help-turn-your-food-into</th>\n",
       "      <td>52</td>\n",
       "    </tr>\n",
       "  </tbody>\n",
       "</table>\n",
       "</div>"
      ],
      "text/plain": [
       "                                             Support\n",
       "s-calcium-be-essential-for-the-maintenance        57\n",
       "calcium-be-essential-for-the-maintenance-of       57\n",
       "for-the-maintenance-of-healthy-bones-.            54\n",
       "help-turn-your-food-into-energy-.                 53\n",
       "s-vitamin-b7-help-turn-your-food                  52\n",
       "b7-help-turn-your-food-into-energy                52\n",
       "vitamin-b7-help-turn-your-food-into               52"
      ]
     },
     "execution_count": 26,
     "metadata": {},
     "output_type": "execute_result"
    }
   ],
   "source": [
    "buildEdgesWord(hc_cus_count, 7, 50, unique=False)[0]"
   ]
  },
  {
   "cell_type": "code",
   "execution_count": 27,
   "metadata": {},
   "outputs": [
    {
     "data": {
      "text/html": [
       "<div>\n",
       "<style scoped>\n",
       "    .dataframe tbody tr th:only-of-type {\n",
       "        vertical-align: middle;\n",
       "    }\n",
       "\n",
       "    .dataframe tbody tr th {\n",
       "        vertical-align: top;\n",
       "    }\n",
       "\n",
       "    .dataframe thead th {\n",
       "        text-align: right;\n",
       "    }\n",
       "</style>\n",
       "<table border=\"1\" class=\"dataframe\">\n",
       "  <thead>\n",
       "    <tr style=\"text-align: right;\">\n",
       "      <th></th>\n",
       "      <th>Support</th>\n",
       "    </tr>\n",
       "  </thead>\n",
       "  <tbody>\n",
       "    <tr>\n",
       "      <th>s-calcium-be-essential-for-the-maintenance-of</th>\n",
       "      <td>57</td>\n",
       "    </tr>\n",
       "    <tr>\n",
       "      <th>s-vitamin-b7-help-turn-your-food-into</th>\n",
       "      <td>52</td>\n",
       "    </tr>\n",
       "    <tr>\n",
       "      <th>vitamin-b7-help-turn-your-food-into-energy</th>\n",
       "      <td>52</td>\n",
       "    </tr>\n",
       "    <tr>\n",
       "      <th>b7-help-turn-your-food-into-energy-.</th>\n",
       "      <td>52</td>\n",
       "    </tr>\n",
       "  </tbody>\n",
       "</table>\n",
       "</div>"
      ],
      "text/plain": [
       "                                               Support\n",
       "s-calcium-be-essential-for-the-maintenance-of       57\n",
       "s-vitamin-b7-help-turn-your-food-into               52\n",
       "vitamin-b7-help-turn-your-food-into-energy          52\n",
       "b7-help-turn-your-food-into-energy-.                52"
      ]
     },
     "execution_count": 27,
     "metadata": {},
     "output_type": "execute_result"
    }
   ],
   "source": [
    "buildEdgesWord(hc_cus_count, 8, 50, unique=False)[0]"
   ]
  },
  {
   "cell_type": "markdown",
   "metadata": {},
   "source": [
    "# Mapping"
   ]
  },
  {
   "cell_type": "code",
   "execution_count": 29,
   "metadata": {},
   "outputs": [],
   "source": [
    "with open('df_hc_manu.pickle', 'rb') as handle:\n",
    "    df_hc_manu = pickle.load(handle)\n",
    "df_hc_manu.loc[:,'pos'] = df_hc_manu.hc.map(getPos)\n",
    "\n",
    "with open('cat_hc.pickle', 'rb') as handle:\n",
    "    cat_hc = pickle.load(handle)\n",
    "    "
   ]
  },
  {
   "cell_type": "code",
   "execution_count": 232,
   "metadata": {},
   "outputs": [
    {
     "data": {
      "text/html": [
       "<div>\n",
       "<style scoped>\n",
       "    .dataframe tbody tr th:only-of-type {\n",
       "        vertical-align: middle;\n",
       "    }\n",
       "\n",
       "    .dataframe tbody tr th {\n",
       "        vertical-align: top;\n",
       "    }\n",
       "\n",
       "    .dataframe thead th {\n",
       "        text-align: right;\n",
       "    }\n",
       "</style>\n",
       "<table border=\"1\" class=\"dataframe\">\n",
       "  <thead>\n",
       "    <tr style=\"text-align: right;\">\n",
       "      <th></th>\n",
       "      <th>hc</th>\n",
       "      <th>nutrient</th>\n",
       "      <th>nutrient_num</th>\n",
       "      <th>pos</th>\n",
       "    </tr>\n",
       "  </thead>\n",
       "  <tbody>\n",
       "    <tr>\n",
       "      <th>0</th>\n",
       "      <td>bones: vitamin d supports normal bones.</td>\n",
       "      <td>[vitamin d]</td>\n",
       "      <td>1</td>\n",
       "      <td>[NNS, :, NN, NN, VBZ, JJ, NNS, .]</td>\n",
       "    </tr>\n",
       "    <tr>\n",
       "      <th>1</th>\n",
       "      <td>bones: vitamin d supports the maintenance of n...</td>\n",
       "      <td>[vitamin d]</td>\n",
       "      <td>1</td>\n",
       "      <td>[NNS, :, NN, NN, VBZ, DT, NN, IN, JJ, NNS, .]</td>\n",
       "    </tr>\n",
       "    <tr>\n",
       "      <th>2</th>\n",
       "      <td>brain: dha supports normal brain function.</td>\n",
       "      <td>[]</td>\n",
       "      <td>0</td>\n",
       "      <td>[NN, :, JJ, NNS, JJ, NN, NN, .]</td>\n",
       "    </tr>\n",
       "    <tr>\n",
       "      <th>3</th>\n",
       "      <td>calcium &amp; vitamin d support normal bones.</td>\n",
       "      <td>[calcium, vitamin d]</td>\n",
       "      <td>2</td>\n",
       "      <td>[NN, CC, NN, JJ, NN, JJ, NNS, .]</td>\n",
       "    </tr>\n",
       "    <tr>\n",
       "      <th>4</th>\n",
       "      <td>dha supports normal brain function.</td>\n",
       "      <td>[]</td>\n",
       "      <td>0</td>\n",
       "      <td>[NN, NNS, JJ, NN, NN, .]</td>\n",
       "    </tr>\n",
       "  </tbody>\n",
       "</table>\n",
       "</div>"
      ],
      "text/plain": [
       "                                                  hc              nutrient  \\\n",
       "0            bones: vitamin d supports normal bones.           [vitamin d]   \n",
       "1  bones: vitamin d supports the maintenance of n...           [vitamin d]   \n",
       "2         brain: dha supports normal brain function.                    []   \n",
       "3          calcium & vitamin d support normal bones.  [calcium, vitamin d]   \n",
       "4                dha supports normal brain function.                    []   \n",
       "\n",
       "   nutrient_num                                            pos  \n",
       "0             1              [NNS, :, NN, NN, VBZ, JJ, NNS, .]  \n",
       "1             1  [NNS, :, NN, NN, VBZ, DT, NN, IN, JJ, NNS, .]  \n",
       "2             0                [NN, :, JJ, NNS, JJ, NN, NN, .]  \n",
       "3             2               [NN, CC, NN, JJ, NN, JJ, NNS, .]  \n",
       "4             0                       [NN, NNS, JJ, NN, NN, .]  "
      ]
     },
     "execution_count": 232,
     "metadata": {},
     "output_type": "execute_result"
    }
   ],
   "source": [
    "df_hc_manu.head()"
   ]
  },
  {
   "cell_type": "code",
   "execution_count": 6,
   "metadata": {},
   "outputs": [
    {
     "data": {
      "text/html": [
       "<div>\n",
       "<style scoped>\n",
       "    .dataframe tbody tr th:only-of-type {\n",
       "        vertical-align: middle;\n",
       "    }\n",
       "\n",
       "    .dataframe tbody tr th {\n",
       "        vertical-align: top;\n",
       "    }\n",
       "\n",
       "    .dataframe thead th {\n",
       "        text-align: right;\n",
       "    }\n",
       "</style>\n",
       "<table border=\"1\" class=\"dataframe\">\n",
       "  <thead>\n",
       "    <tr style=\"text-align: right;\">\n",
       "      <th></th>\n",
       "      <th>approved_hc_ID</th>\n",
       "      <th>approved_count</th>\n",
       "      <th>manu_hc_ID</th>\n",
       "      <th>manu_count</th>\n",
       "    </tr>\n",
       "    <tr>\n",
       "      <th>nutrient</th>\n",
       "      <th></th>\n",
       "      <th></th>\n",
       "      <th></th>\n",
       "      <th></th>\n",
       "    </tr>\n",
       "  </thead>\n",
       "  <tbody>\n",
       "    <tr>\n",
       "      <th>activated charcoal</th>\n",
       "      <td>[1]</td>\n",
       "      <td>1</td>\n",
       "      <td>[]</td>\n",
       "      <td>0</td>\n",
       "    </tr>\n",
       "    <tr>\n",
       "      <th>alpha-cyclodextrin</th>\n",
       "      <td>[31]</td>\n",
       "      <td>1</td>\n",
       "      <td>[]</td>\n",
       "      <td>0</td>\n",
       "    </tr>\n",
       "    <tr>\n",
       "      <th>alpha-linolenic acid (ala)</th>\n",
       "      <td>[0]</td>\n",
       "      <td>1</td>\n",
       "      <td>[]</td>\n",
       "      <td>0</td>\n",
       "    </tr>\n",
       "    <tr>\n",
       "      <th>alpha-linolenic acid (ala) &amp; linoleic acid (la), essential fatty acids</th>\n",
       "      <td>[254]</td>\n",
       "      <td>1</td>\n",
       "      <td>[]</td>\n",
       "      <td>0</td>\n",
       "    </tr>\n",
       "    <tr>\n",
       "      <th>arabinoxylan produced from wheat endosperm</th>\n",
       "      <td>[32]</td>\n",
       "      <td>1</td>\n",
       "      <td>[]</td>\n",
       "      <td>0</td>\n",
       "    </tr>\n",
       "  </tbody>\n",
       "</table>\n",
       "</div>"
      ],
      "text/plain": [
       "                                                   approved_hc_ID  \\\n",
       "nutrient                                                            \n",
       "activated charcoal                                            [1]   \n",
       "alpha-cyclodextrin                                           [31]   \n",
       "alpha-linolenic acid (ala)                                    [0]   \n",
       "alpha-linolenic acid (ala) & linoleic acid (la)...          [254]   \n",
       "arabinoxylan produced from wheat endosperm                   [32]   \n",
       "\n",
       "                                                    approved_count manu_hc_ID  \\\n",
       "nutrient                                                                        \n",
       "activated charcoal                                               1         []   \n",
       "alpha-cyclodextrin                                               1         []   \n",
       "alpha-linolenic acid (ala)                                       1         []   \n",
       "alpha-linolenic acid (ala) & linoleic acid (la)...               1         []   \n",
       "arabinoxylan produced from wheat endosperm                       1         []   \n",
       "\n",
       "                                                    manu_count  \n",
       "nutrient                                                        \n",
       "activated charcoal                                           0  \n",
       "alpha-cyclodextrin                                           0  \n",
       "alpha-linolenic acid (ala)                                   0  \n",
       "alpha-linolenic acid (ala) & linoleic acid (la)...           0  \n",
       "arabinoxylan produced from wheat endosperm                   0  "
      ]
     },
     "execution_count": 6,
     "metadata": {},
     "output_type": "execute_result"
    }
   ],
   "source": [
    "cat_hc.head()"
   ]
  },
  {
   "cell_type": "markdown",
   "metadata": {},
   "source": [
    "## Map to approved nutrient (failed)\n",
    "ONLY 3 nutrients have been matched"
   ]
  },
  {
   "cell_type": "code",
   "execution_count": 203,
   "metadata": {},
   "outputs": [
    {
     "name": "stderr",
     "output_type": "stream",
     "text": [
      "E:\\Anaconda\\envs\\tensorflow\\lib\\site-packages\\ipykernel_launcher.py:1: UserWarning: This pattern has match groups. To actually get the groups, use str.extract.\n",
      "  \"\"\"Entry point for launching an IPython kernel.\n"
     ]
    },
    {
     "data": {
      "text/html": [
       "<div>\n",
       "<style scoped>\n",
       "    .dataframe tbody tr th:only-of-type {\n",
       "        vertical-align: middle;\n",
       "    }\n",
       "\n",
       "    .dataframe tbody tr th {\n",
       "        vertical-align: top;\n",
       "    }\n",
       "\n",
       "    .dataframe thead th {\n",
       "        text-align: right;\n",
       "    }\n",
       "</style>\n",
       "<table border=\"1\" class=\"dataframe\">\n",
       "  <thead>\n",
       "    <tr style=\"text-align: right;\">\n",
       "      <th></th>\n",
       "      <th>approved_hc_ID</th>\n",
       "      <th>approved_count</th>\n",
       "      <th>manu_hc_ID</th>\n",
       "      <th>manu_count</th>\n",
       "      <th>cus_hc_ID</th>\n",
       "      <th>cus_hc_count</th>\n",
       "    </tr>\n",
       "    <tr>\n",
       "      <th>nutrient</th>\n",
       "      <th></th>\n",
       "      <th></th>\n",
       "      <th></th>\n",
       "      <th></th>\n",
       "      <th></th>\n",
       "      <th></th>\n",
       "    </tr>\n",
       "  </thead>\n",
       "  <tbody>\n",
       "    <tr>\n",
       "      <th>activated charcoal</th>\n",
       "      <td>[1]</td>\n",
       "      <td>1</td>\n",
       "      <td>[]</td>\n",
       "      <td>0</td>\n",
       "      <td>[]</td>\n",
       "      <td>0</td>\n",
       "    </tr>\n",
       "    <tr>\n",
       "      <th>alpha-cyclodextrin</th>\n",
       "      <td>[31]</td>\n",
       "      <td>1</td>\n",
       "      <td>[]</td>\n",
       "      <td>0</td>\n",
       "      <td>[]</td>\n",
       "      <td>0</td>\n",
       "    </tr>\n",
       "    <tr>\n",
       "      <th>alpha-linolenic acid (ala)</th>\n",
       "      <td>[0]</td>\n",
       "      <td>1</td>\n",
       "      <td>[]</td>\n",
       "      <td>0</td>\n",
       "      <td>[]</td>\n",
       "      <td>0</td>\n",
       "    </tr>\n",
       "    <tr>\n",
       "      <th>alpha-linolenic acid (ala) &amp; linoleic acid (la), essential fatty acids</th>\n",
       "      <td>[254]</td>\n",
       "      <td>1</td>\n",
       "      <td>[]</td>\n",
       "      <td>0</td>\n",
       "      <td>[]</td>\n",
       "      <td>0</td>\n",
       "    </tr>\n",
       "    <tr>\n",
       "      <th>arabinoxylan produced from wheat endosperm</th>\n",
       "      <td>[32]</td>\n",
       "      <td>1</td>\n",
       "      <td>[]</td>\n",
       "      <td>0</td>\n",
       "      <td>[]</td>\n",
       "      <td>0</td>\n",
       "    </tr>\n",
       "  </tbody>\n",
       "</table>\n",
       "</div>"
      ],
      "text/plain": [
       "                                                   approved_hc_ID  \\\n",
       "nutrient                                                            \n",
       "activated charcoal                                            [1]   \n",
       "alpha-cyclodextrin                                           [31]   \n",
       "alpha-linolenic acid (ala)                                    [0]   \n",
       "alpha-linolenic acid (ala) & linoleic acid (la)...          [254]   \n",
       "arabinoxylan produced from wheat endosperm                   [32]   \n",
       "\n",
       "                                                    approved_count manu_hc_ID  \\\n",
       "nutrient                                                                        \n",
       "activated charcoal                                               1         []   \n",
       "alpha-cyclodextrin                                               1         []   \n",
       "alpha-linolenic acid (ala)                                       1         []   \n",
       "alpha-linolenic acid (ala) & linoleic acid (la)...               1         []   \n",
       "arabinoxylan produced from wheat endosperm                       1         []   \n",
       "\n",
       "                                                    manu_count cus_hc_ID  \\\n",
       "nutrient                                                                   \n",
       "activated charcoal                                           0        []   \n",
       "alpha-cyclodextrin                                           0        []   \n",
       "alpha-linolenic acid (ala)                                   0        []   \n",
       "alpha-linolenic acid (ala) & linoleic acid (la)...           0        []   \n",
       "arabinoxylan produced from wheat endosperm                   0        []   \n",
       "\n",
       "                                                    cus_hc_count  \n",
       "nutrient                                                          \n",
       "activated charcoal                                             0  \n",
       "alpha-cyclodextrin                                             0  \n",
       "alpha-linolenic acid (ala)                                     0  \n",
       "alpha-linolenic acid (ala) & linoleic acid (la)...             0  \n",
       "arabinoxylan produced from wheat endosperm                     0  "
      ]
     },
     "execution_count": 203,
     "metadata": {},
     "output_type": "execute_result"
    }
   ],
   "source": [
    "#Mapping\n",
    "cat_hc.loc[:,'cus_hc_ID'] = [list(hc_cus_count.index[hc_cus_count['hc'].str.contains(n)]) for n in cat_hc.index]\n",
    "cat_hc.loc[:,'cus_hc_count'] = [len(i) for i in cat_hc['cus_hc_ID']]\n",
    "cat_hc.head(5)"
   ]
  },
  {
   "cell_type": "code",
   "execution_count": 207,
   "metadata": {},
   "outputs": [
    {
     "data": {
      "text/plain": [
       "0     84\n",
       "20     1\n",
       "14     1\n",
       "7      1\n",
       "Name: cus_hc_count, dtype: int64"
      ]
     },
     "execution_count": 207,
     "metadata": {},
     "output_type": "execute_result"
    }
   ],
   "source": [
    "cat_hc['cus_hc_count'].value_counts()"
   ]
  },
  {
   "cell_type": "code",
   "execution_count": 208,
   "metadata": {},
   "outputs": [
    {
     "data": {
      "text/html": [
       "<div>\n",
       "<style scoped>\n",
       "    .dataframe tbody tr th:only-of-type {\n",
       "        vertical-align: middle;\n",
       "    }\n",
       "\n",
       "    .dataframe tbody tr th {\n",
       "        vertical-align: top;\n",
       "    }\n",
       "\n",
       "    .dataframe thead th {\n",
       "        text-align: right;\n",
       "    }\n",
       "</style>\n",
       "<table border=\"1\" class=\"dataframe\">\n",
       "  <thead>\n",
       "    <tr style=\"text-align: right;\">\n",
       "      <th></th>\n",
       "      <th>approved_hc_ID</th>\n",
       "      <th>approved_count</th>\n",
       "      <th>manu_hc_ID</th>\n",
       "      <th>manu_count</th>\n",
       "      <th>cus_hc_ID</th>\n",
       "      <th>cus_hc_count</th>\n",
       "    </tr>\n",
       "    <tr>\n",
       "      <th>nutrient</th>\n",
       "      <th></th>\n",
       "      <th></th>\n",
       "      <th></th>\n",
       "      <th></th>\n",
       "      <th></th>\n",
       "      <th></th>\n",
       "    </tr>\n",
       "  </thead>\n",
       "  <tbody>\n",
       "    <tr>\n",
       "      <th>biotin</th>\n",
       "      <td>[5, 6, 7, 8, 9, 10, 11]</td>\n",
       "      <td>7</td>\n",
       "      <td>[62, 170, 204, 205, 206, 207, 208, 209, 210, 2...</td>\n",
       "      <td>101</td>\n",
       "      <td>[27, 55, 56, 72, 73, 74, 80]</td>\n",
       "      <td>7</td>\n",
       "    </tr>\n",
       "    <tr>\n",
       "      <th>calcium</th>\n",
       "      <td>[12, 13, 14, 15, 16, 17, 18, 19, 237, 250]</td>\n",
       "      <td>10</td>\n",
       "      <td>[3, 42, 61, 80, 81, 82, 83, 84, 92, 101, 113, ...</td>\n",
       "      <td>435</td>\n",
       "      <td>[1, 5, 7, 11, 16, 17, 22, 24, 33, 38, 42, 43, ...</td>\n",
       "      <td>20</td>\n",
       "    </tr>\n",
       "    <tr>\n",
       "      <th>potassium</th>\n",
       "      <td>[121, 122, 123]</td>\n",
       "      <td>3</td>\n",
       "      <td>[33, 66, 67, 110, 452, 762, 763, 1084, 1085, 1...</td>\n",
       "      <td>67</td>\n",
       "      <td>[2, 3, 4, 9, 10, 21, 26, 31, 32, 34, 47, 59, 6...</td>\n",
       "      <td>14</td>\n",
       "    </tr>\n",
       "  </tbody>\n",
       "</table>\n",
       "</div>"
      ],
      "text/plain": [
       "                                       approved_hc_ID  approved_count  \\\n",
       "nutrient                                                                \n",
       "biotin                        [5, 6, 7, 8, 9, 10, 11]               7   \n",
       "calcium    [12, 13, 14, 15, 16, 17, 18, 19, 237, 250]              10   \n",
       "potassium                             [121, 122, 123]               3   \n",
       "\n",
       "                                                  manu_hc_ID  manu_count  \\\n",
       "nutrient                                                                   \n",
       "biotin     [62, 170, 204, 205, 206, 207, 208, 209, 210, 2...         101   \n",
       "calcium    [3, 42, 61, 80, 81, 82, 83, 84, 92, 101, 113, ...         435   \n",
       "potassium  [33, 66, 67, 110, 452, 762, 763, 1084, 1085, 1...          67   \n",
       "\n",
       "                                                   cus_hc_ID  cus_hc_count  \n",
       "nutrient                                                                    \n",
       "biotin                          [27, 55, 56, 72, 73, 74, 80]             7  \n",
       "calcium    [1, 5, 7, 11, 16, 17, 22, 24, 33, 38, 42, 43, ...            20  \n",
       "potassium  [2, 3, 4, 9, 10, 21, 26, 31, 32, 34, 47, 59, 6...            14  "
      ]
     },
     "execution_count": 208,
     "metadata": {},
     "output_type": "execute_result"
    }
   ],
   "source": [
    "cat_hc[cat_hc['cus_hc_count']>0] # only 3 nutrents were matched to the consumers' HC"
   ]
  },
  {
   "cell_type": "code",
   "execution_count": 213,
   "metadata": {},
   "outputs": [
    {
     "data": {
      "text/html": [
       "<div>\n",
       "<style scoped>\n",
       "    .dataframe tbody tr th:only-of-type {\n",
       "        vertical-align: middle;\n",
       "    }\n",
       "\n",
       "    .dataframe tbody tr th {\n",
       "        vertical-align: top;\n",
       "    }\n",
       "\n",
       "    .dataframe thead th {\n",
       "        text-align: right;\n",
       "    }\n",
       "</style>\n",
       "<table border=\"1\" class=\"dataframe\">\n",
       "  <thead>\n",
       "    <tr style=\"text-align: right;\">\n",
       "      <th></th>\n",
       "      <th>count</th>\n",
       "      <th>pos</th>\n",
       "      <th>hc_tagged</th>\n",
       "      <th>hc</th>\n",
       "    </tr>\n",
       "  </thead>\n",
       "  <tbody>\n",
       "    <tr>\n",
       "      <th>0</th>\n",
       "      <td>52</td>\n",
       "      <td>[NN, NN, VBZ, VB, PRP$, NN, IN, NN, .]</td>\n",
       "      <td>[(vitamin, NN), (b7, NN), (helps, VBZ), (turn,...</td>\n",
       "      <td>vitamin b7 helps turn your food into energy.</td>\n",
       "    </tr>\n",
       "    <tr>\n",
       "      <th>6</th>\n",
       "      <td>17</td>\n",
       "      <td>[NN, NN, VBZ, PRP$, NN, VBG, .]</td>\n",
       "      <td>[(vitamin, NN), (b7, NN), (gets, VBZ), (your, ...</td>\n",
       "      <td>vitamin b7 gets your metabolism going.</td>\n",
       "    </tr>\n",
       "    <tr>\n",
       "      <th>8</th>\n",
       "      <td>17</td>\n",
       "      <td>[NN, NN, VBZ, TO, JJ, NN, NNS, .]</td>\n",
       "      <td>[(vitamin, NN), (b7, NN), (contributes, VBZ), ...</td>\n",
       "      <td>vitamin b7 contributes to healthy energy levels.</td>\n",
       "    </tr>\n",
       "    <tr>\n",
       "      <th>15</th>\n",
       "      <td>10</td>\n",
       "      <td>[NN, NN, VBZ, TO, JJ, NN, NN, .]</td>\n",
       "      <td>[(vitamin, NN), (b7, NN), (contributes, VBZ), ...</td>\n",
       "      <td>vitamin b7 contributes to healthy energy metab...</td>\n",
       "    </tr>\n",
       "    <tr>\n",
       "      <th>28</th>\n",
       "      <td>5</td>\n",
       "      <td>[NN, NN, VBZ, TO, JJ, JJ, NN, .]</td>\n",
       "      <td>[(vitamin, NN), (b7, NN), (contributes, VBZ), ...</td>\n",
       "      <td>vitamin b7 contributes to healthy energy-yield...</td>\n",
       "    </tr>\n",
       "    <tr>\n",
       "      <th>30</th>\n",
       "      <td>4</td>\n",
       "      <td>[NN, NN, VBZ, TO, JJ, NN, IN, NN, IN, NN, .]</td>\n",
       "      <td>[(vitamin, NN), (b7, NN), (contributes, VBZ), ...</td>\n",
       "      <td>vitamin b7 contributes to normal release of en...</td>\n",
       "    </tr>\n",
       "    <tr>\n",
       "      <th>35</th>\n",
       "      <td>4</td>\n",
       "      <td>[NN, NN, VBZ, TO, JJ, NN, NN, .]</td>\n",
       "      <td>[(vitamin, NN), (b7, NN), (contributes, VBZ), ...</td>\n",
       "      <td>vitamin b7 contributes to healthy energy release.</td>\n",
       "    </tr>\n",
       "    <tr>\n",
       "      <th>36</th>\n",
       "      <td>4</td>\n",
       "      <td>[NN, NN, VBZ, TO, JJ, NN, IN, NN, IN, NN, .]</td>\n",
       "      <td>[(vitamin, NN), (b7, NN), (contributes, VBZ), ...</td>\n",
       "      <td>vitamin b7 contributes to healthy release of e...</td>\n",
       "    </tr>\n",
       "    <tr>\n",
       "      <th>48</th>\n",
       "      <td>3</td>\n",
       "      <td>[NN, NN, VBZ, TO, JJ, NN, NNS, .]</td>\n",
       "      <td>[(vitamin, NN), (b7, NN), (contributes, VBZ), ...</td>\n",
       "      <td>vitamin b7 contributes to normal energy levels.</td>\n",
       "    </tr>\n",
       "    <tr>\n",
       "      <th>64</th>\n",
       "      <td>2</td>\n",
       "      <td>[NN, NN, VBZ, TO, JJ, JJ, NN, .]</td>\n",
       "      <td>[(vitamin, NN), (b7, NN), (contributes, VBZ), ...</td>\n",
       "      <td>vitamin b7 contributes to normal energy-yieldi...</td>\n",
       "    </tr>\n",
       "    <tr>\n",
       "      <th>71</th>\n",
       "      <td>2</td>\n",
       "      <td>[NN, NN, VBZ, TO, JJ, NN, NN, .]</td>\n",
       "      <td>[(vitamin, NN), (b7, NN), (contributes, VBZ), ...</td>\n",
       "      <td>vitamin b7 contributes to normal energy metabo...</td>\n",
       "    </tr>\n",
       "  </tbody>\n",
       "</table>\n",
       "</div>"
      ],
      "text/plain": [
       "    count                                           pos  \\\n",
       "0      52        [NN, NN, VBZ, VB, PRP$, NN, IN, NN, .]   \n",
       "6      17               [NN, NN, VBZ, PRP$, NN, VBG, .]   \n",
       "8      17             [NN, NN, VBZ, TO, JJ, NN, NNS, .]   \n",
       "15     10              [NN, NN, VBZ, TO, JJ, NN, NN, .]   \n",
       "28      5              [NN, NN, VBZ, TO, JJ, JJ, NN, .]   \n",
       "30      4  [NN, NN, VBZ, TO, JJ, NN, IN, NN, IN, NN, .]   \n",
       "35      4              [NN, NN, VBZ, TO, JJ, NN, NN, .]   \n",
       "36      4  [NN, NN, VBZ, TO, JJ, NN, IN, NN, IN, NN, .]   \n",
       "48      3             [NN, NN, VBZ, TO, JJ, NN, NNS, .]   \n",
       "64      2              [NN, NN, VBZ, TO, JJ, JJ, NN, .]   \n",
       "71      2              [NN, NN, VBZ, TO, JJ, NN, NN, .]   \n",
       "\n",
       "                                            hc_tagged  \\\n",
       "0   [(vitamin, NN), (b7, NN), (helps, VBZ), (turn,...   \n",
       "6   [(vitamin, NN), (b7, NN), (gets, VBZ), (your, ...   \n",
       "8   [(vitamin, NN), (b7, NN), (contributes, VBZ), ...   \n",
       "15  [(vitamin, NN), (b7, NN), (contributes, VBZ), ...   \n",
       "28  [(vitamin, NN), (b7, NN), (contributes, VBZ), ...   \n",
       "30  [(vitamin, NN), (b7, NN), (contributes, VBZ), ...   \n",
       "35  [(vitamin, NN), (b7, NN), (contributes, VBZ), ...   \n",
       "36  [(vitamin, NN), (b7, NN), (contributes, VBZ), ...   \n",
       "48  [(vitamin, NN), (b7, NN), (contributes, VBZ), ...   \n",
       "64  [(vitamin, NN), (b7, NN), (contributes, VBZ), ...   \n",
       "71  [(vitamin, NN), (b7, NN), (contributes, VBZ), ...   \n",
       "\n",
       "                                                   hc  \n",
       "0        vitamin b7 helps turn your food into energy.  \n",
       "6              vitamin b7 gets your metabolism going.  \n",
       "8    vitamin b7 contributes to healthy energy levels.  \n",
       "15  vitamin b7 contributes to healthy energy metab...  \n",
       "28  vitamin b7 contributes to healthy energy-yield...  \n",
       "30  vitamin b7 contributes to normal release of en...  \n",
       "35  vitamin b7 contributes to healthy energy release.  \n",
       "36  vitamin b7 contributes to healthy release of e...  \n",
       "48    vitamin b7 contributes to normal energy levels.  \n",
       "64  vitamin b7 contributes to normal energy-yieldi...  \n",
       "71  vitamin b7 contributes to normal energy metabo...  "
      ]
     },
     "execution_count": 213,
     "metadata": {},
     "output_type": "execute_result"
    }
   ],
   "source": [
    "hc_cus_count[hc_cus_count['hc'].str.contains('vitamin')]"
   ]
  },
  {
   "cell_type": "markdown",
   "metadata": {},
   "source": [
    "## Map to US nutrients databse"
   ]
  },
  {
   "cell_type": "code",
   "execution_count": 84,
   "metadata": {},
   "outputs": [
    {
     "data": {
      "text/html": [
       "<div>\n",
       "<style scoped>\n",
       "    .dataframe tbody tr th:only-of-type {\n",
       "        vertical-align: middle;\n",
       "    }\n",
       "\n",
       "    .dataframe tbody tr th {\n",
       "        vertical-align: top;\n",
       "    }\n",
       "\n",
       "    .dataframe thead th {\n",
       "        text-align: right;\n",
       "    }\n",
       "</style>\n",
       "<table border=\"1\" class=\"dataframe\">\n",
       "  <thead>\n",
       "    <tr style=\"text-align: right;\">\n",
       "      <th></th>\n",
       "      <th>id</th>\n",
       "      <th>name</th>\n",
       "      <th>unit_name</th>\n",
       "      <th>nutrient_nbr</th>\n",
       "      <th>rank</th>\n",
       "      <th>nutrients</th>\n",
       "      <th>alias_count</th>\n",
       "    </tr>\n",
       "  </thead>\n",
       "  <tbody>\n",
       "    <tr>\n",
       "      <th>0</th>\n",
       "      <td>1002</td>\n",
       "      <td>Nitrogen</td>\n",
       "      <td>G</td>\n",
       "      <td>202.0</td>\n",
       "      <td>500.0</td>\n",
       "      <td>[nitrogen]</td>\n",
       "      <td>1</td>\n",
       "    </tr>\n",
       "    <tr>\n",
       "      <th>1</th>\n",
       "      <td>1003</td>\n",
       "      <td>Protein</td>\n",
       "      <td>G</td>\n",
       "      <td>203.0</td>\n",
       "      <td>600.0</td>\n",
       "      <td>[protein]</td>\n",
       "      <td>1</td>\n",
       "    </tr>\n",
       "    <tr>\n",
       "      <th>2</th>\n",
       "      <td>1004</td>\n",
       "      <td>Total lipid (fat)</td>\n",
       "      <td>G</td>\n",
       "      <td>204.0</td>\n",
       "      <td>800.0</td>\n",
       "      <td>[fat, total lipid]</td>\n",
       "      <td>2</td>\n",
       "    </tr>\n",
       "    <tr>\n",
       "      <th>3</th>\n",
       "      <td>1005</td>\n",
       "      <td>Carbohydrate, by difference</td>\n",
       "      <td>G</td>\n",
       "      <td>205.0</td>\n",
       "      <td>1110.0</td>\n",
       "      <td>[carbohydrate]</td>\n",
       "      <td>1</td>\n",
       "    </tr>\n",
       "    <tr>\n",
       "      <th>4</th>\n",
       "      <td>1007</td>\n",
       "      <td>Ash</td>\n",
       "      <td>G</td>\n",
       "      <td>207.0</td>\n",
       "      <td>1000.0</td>\n",
       "      <td>[ash]</td>\n",
       "      <td>1</td>\n",
       "    </tr>\n",
       "  </tbody>\n",
       "</table>\n",
       "</div>"
      ],
      "text/plain": [
       "     id                         name unit_name  nutrient_nbr    rank  \\\n",
       "0  1002                     Nitrogen         G         202.0   500.0   \n",
       "1  1003                      Protein         G         203.0   600.0   \n",
       "2  1004            Total lipid (fat)         G         204.0   800.0   \n",
       "3  1005  Carbohydrate, by difference         G         205.0  1110.0   \n",
       "4  1007                          Ash         G         207.0  1000.0   \n",
       "\n",
       "            nutrients  alias_count  \n",
       "0          [nitrogen]            1  \n",
       "1           [protein]            1  \n",
       "2  [fat, total lipid]            2  \n",
       "3      [carbohydrate]            1  \n",
       "4               [ash]            1  "
      ]
     },
     "execution_count": 84,
     "metadata": {},
     "output_type": "execute_result"
    }
   ],
   "source": [
    "with open('df_nu.pickle', 'rb') as handle:\n",
    "    df_nu = pickle.load(handle)\n",
    "df_nu.head()"
   ]
  },
  {
   "cell_type": "code",
   "execution_count": 85,
   "metadata": {},
   "outputs": [
    {
     "data": {
      "text/plain": [
       "56                [alpha-tocopherol, vitamin e]\n",
       "57    [d2 + d3, vitamin d, international units]\n",
       "58                 [ergocalciferol, vitamin d2]\n",
       "59                [cholecalciferol, vitamin d3]\n",
       "60                  [25-hydroxycholecalciferol]\n",
       "Name: nutrients, dtype: object"
      ]
     },
     "execution_count": 85,
     "metadata": {},
     "output_type": "execute_result"
    }
   ],
   "source": [
    "df_nu.nutrients[56:61]"
   ]
  },
  {
   "cell_type": "code",
   "execution_count": 86,
   "metadata": {},
   "outputs": [
    {
     "data": {
      "text/plain": [
       "(235, 7)"
      ]
     },
     "execution_count": 86,
     "metadata": {},
     "output_type": "execute_result"
    }
   ],
   "source": [
    "df_nu.shape"
   ]
  },
  {
   "cell_type": "code",
   "execution_count": 87,
   "metadata": {},
   "outputs": [
    {
     "data": {
      "text/plain": [
       "0"
      ]
     },
     "execution_count": 87,
     "metadata": {},
     "output_type": "execute_result"
    }
   ],
   "source": [
    "len(hc_cus_count.index[hc_cus_count['hc'].str.contains('dha')])"
   ]
  },
  {
   "cell_type": "code",
   "execution_count": 88,
   "metadata": {},
   "outputs": [
    {
     "data": {
      "text/plain": [
       "150    [dha, 22:6 n-3]\n",
       "151            [22:00]\n",
       "152            [14:01]\n",
       "Name: nutrients, dtype: object"
      ]
     },
     "execution_count": 88,
     "metadata": {},
     "output_type": "execute_result"
    }
   ],
   "source": [
    "df_nu.nutrients[150:153]"
   ]
  },
  {
   "cell_type": "code",
   "execution_count": 89,
   "metadata": {},
   "outputs": [
    {
     "data": {
      "text/html": [
       "<div>\n",
       "<style scoped>\n",
       "    .dataframe tbody tr th:only-of-type {\n",
       "        vertical-align: middle;\n",
       "    }\n",
       "\n",
       "    .dataframe tbody tr th {\n",
       "        vertical-align: top;\n",
       "    }\n",
       "\n",
       "    .dataframe thead th {\n",
       "        text-align: right;\n",
       "    }\n",
       "</style>\n",
       "<table border=\"1\" class=\"dataframe\">\n",
       "  <thead>\n",
       "    <tr style=\"text-align: right;\">\n",
       "      <th></th>\n",
       "      <th>id</th>\n",
       "      <th>name</th>\n",
       "      <th>unit_name</th>\n",
       "      <th>nutrient_nbr</th>\n",
       "      <th>rank</th>\n",
       "      <th>nutrients</th>\n",
       "      <th>alias_count</th>\n",
       "      <th>hc_ids</th>\n",
       "      <th>id_num</th>\n",
       "    </tr>\n",
       "  </thead>\n",
       "  <tbody>\n",
       "    <tr>\n",
       "      <th>0</th>\n",
       "      <td>1002</td>\n",
       "      <td>Nitrogen</td>\n",
       "      <td>G</td>\n",
       "      <td>202.0</td>\n",
       "      <td>500.0</td>\n",
       "      <td>[nitrogen]</td>\n",
       "      <td>1</td>\n",
       "      <td>[]</td>\n",
       "      <td>0</td>\n",
       "    </tr>\n",
       "    <tr>\n",
       "      <th>1</th>\n",
       "      <td>1003</td>\n",
       "      <td>Protein</td>\n",
       "      <td>G</td>\n",
       "      <td>203.0</td>\n",
       "      <td>600.0</td>\n",
       "      <td>[protein]</td>\n",
       "      <td>1</td>\n",
       "      <td>[]</td>\n",
       "      <td>0</td>\n",
       "    </tr>\n",
       "    <tr>\n",
       "      <th>2</th>\n",
       "      <td>1004</td>\n",
       "      <td>Total lipid (fat)</td>\n",
       "      <td>G</td>\n",
       "      <td>204.0</td>\n",
       "      <td>800.0</td>\n",
       "      <td>[fat, total lipid]</td>\n",
       "      <td>2</td>\n",
       "      <td>[]</td>\n",
       "      <td>0</td>\n",
       "    </tr>\n",
       "    <tr>\n",
       "      <th>3</th>\n",
       "      <td>1005</td>\n",
       "      <td>Carbohydrate, by difference</td>\n",
       "      <td>G</td>\n",
       "      <td>205.0</td>\n",
       "      <td>1110.0</td>\n",
       "      <td>[carbohydrate]</td>\n",
       "      <td>1</td>\n",
       "      <td>[]</td>\n",
       "      <td>0</td>\n",
       "    </tr>\n",
       "    <tr>\n",
       "      <th>4</th>\n",
       "      <td>1007</td>\n",
       "      <td>Ash</td>\n",
       "      <td>G</td>\n",
       "      <td>207.0</td>\n",
       "      <td>1000.0</td>\n",
       "      <td>[ash]</td>\n",
       "      <td>1</td>\n",
       "      <td>[]</td>\n",
       "      <td>0</td>\n",
       "    </tr>\n",
       "    <tr>\n",
       "      <th>5</th>\n",
       "      <td>1008</td>\n",
       "      <td>Energy</td>\n",
       "      <td>KCAL</td>\n",
       "      <td>208.0</td>\n",
       "      <td>300.0</td>\n",
       "      <td>[energy]</td>\n",
       "      <td>1</td>\n",
       "      <td>[0, 8, 15, 28, 30, 35, 36, 48, 55, 56, 64, 71,...</td>\n",
       "      <td>16</td>\n",
       "    </tr>\n",
       "    <tr>\n",
       "      <th>6</th>\n",
       "      <td>1009</td>\n",
       "      <td>Starch</td>\n",
       "      <td>G</td>\n",
       "      <td>209.0</td>\n",
       "      <td>2200.0</td>\n",
       "      <td>[starch]</td>\n",
       "      <td>1</td>\n",
       "      <td>[]</td>\n",
       "      <td>0</td>\n",
       "    </tr>\n",
       "    <tr>\n",
       "      <th>7</th>\n",
       "      <td>1010</td>\n",
       "      <td>Sucrose</td>\n",
       "      <td>G</td>\n",
       "      <td>210.0</td>\n",
       "      <td>1600.0</td>\n",
       "      <td>[sucrose]</td>\n",
       "      <td>1</td>\n",
       "      <td>[]</td>\n",
       "      <td>0</td>\n",
       "    </tr>\n",
       "    <tr>\n",
       "      <th>8</th>\n",
       "      <td>1011</td>\n",
       "      <td>Glucose (dextrose)</td>\n",
       "      <td>G</td>\n",
       "      <td>211.0</td>\n",
       "      <td>1700.0</td>\n",
       "      <td>[dextrose, glucose]</td>\n",
       "      <td>2</td>\n",
       "      <td>[]</td>\n",
       "      <td>0</td>\n",
       "    </tr>\n",
       "    <tr>\n",
       "      <th>9</th>\n",
       "      <td>1012</td>\n",
       "      <td>Fructose</td>\n",
       "      <td>G</td>\n",
       "      <td>212.0</td>\n",
       "      <td>1800.0</td>\n",
       "      <td>[fructose]</td>\n",
       "      <td>1</td>\n",
       "      <td>[]</td>\n",
       "      <td>0</td>\n",
       "    </tr>\n",
       "  </tbody>\n",
       "</table>\n",
       "</div>"
      ],
      "text/plain": [
       "     id                         name unit_name  nutrient_nbr    rank  \\\n",
       "0  1002                     Nitrogen         G         202.0   500.0   \n",
       "1  1003                      Protein         G         203.0   600.0   \n",
       "2  1004            Total lipid (fat)         G         204.0   800.0   \n",
       "3  1005  Carbohydrate, by difference         G         205.0  1110.0   \n",
       "4  1007                          Ash         G         207.0  1000.0   \n",
       "5  1008                       Energy      KCAL         208.0   300.0   \n",
       "6  1009                       Starch         G         209.0  2200.0   \n",
       "7  1010                      Sucrose         G         210.0  1600.0   \n",
       "8  1011           Glucose (dextrose)         G         211.0  1700.0   \n",
       "9  1012                     Fructose         G         212.0  1800.0   \n",
       "\n",
       "             nutrients  alias_count  \\\n",
       "0           [nitrogen]            1   \n",
       "1            [protein]            1   \n",
       "2   [fat, total lipid]            2   \n",
       "3       [carbohydrate]            1   \n",
       "4                [ash]            1   \n",
       "5             [energy]            1   \n",
       "6             [starch]            1   \n",
       "7            [sucrose]            1   \n",
       "8  [dextrose, glucose]            2   \n",
       "9           [fructose]            1   \n",
       "\n",
       "                                              hc_ids  id_num  \n",
       "0                                                 []       0  \n",
       "1                                                 []       0  \n",
       "2                                                 []       0  \n",
       "3                                                 []       0  \n",
       "4                                                 []       0  \n",
       "5  [0, 8, 15, 28, 30, 35, 36, 48, 55, 56, 64, 71,...      16  \n",
       "6                                                 []       0  \n",
       "7                                                 []       0  \n",
       "8                                                 []       0  \n",
       "9                                                 []       0  "
      ]
     },
     "execution_count": 89,
     "metadata": {},
     "output_type": "execute_result"
    }
   ],
   "source": [
    "hc_ids = []\n",
    "for r in df_nu.nutrients:\n",
    "    hc_id = []\n",
    "    for n in r:\n",
    "        if len(n) >= 3:\n",
    "            hc_id.extend(hc_cus_count.index[hc_cus_count['hc'].str.contains(n)])\n",
    "        else:\n",
    "            hc_id.extend([i for i in list(hc_cus_count.index) if nltk.pos_tag([n])[0] in hc_cus_count['hc_tagged'][i]])\n",
    "    hc_ids.append(list(hc_id))\n",
    "df_nu.loc[:,'hc_ids'] = list(hc_ids)\n",
    "df_nu.loc[:,'id_num'] = [len(i) for i in df_nu.hc_ids]\n",
    "df_nu.head(10)"
   ]
  },
  {
   "cell_type": "code",
   "execution_count": 90,
   "metadata": {},
   "outputs": [
    {
     "data": {
      "text/plain": [
       "0     224\n",
       "3       3\n",
       "20      2\n",
       "16      2\n",
       "37      1\n",
       "14      1\n",
       "7       1\n",
       "5       1\n",
       "Name: id_num, dtype: int64"
      ]
     },
     "execution_count": 90,
     "metadata": {},
     "output_type": "execute_result"
    }
   ],
   "source": [
    "df_nu.id_num.value_counts()"
   ]
  },
  {
   "cell_type": "code",
   "execution_count": 91,
   "metadata": {},
   "outputs": [
    {
     "data": {
      "text/html": [
       "<div>\n",
       "<style scoped>\n",
       "    .dataframe tbody tr th:only-of-type {\n",
       "        vertical-align: middle;\n",
       "    }\n",
       "\n",
       "    .dataframe tbody tr th {\n",
       "        vertical-align: top;\n",
       "    }\n",
       "\n",
       "    .dataframe thead th {\n",
       "        text-align: right;\n",
       "    }\n",
       "</style>\n",
       "<table border=\"1\" class=\"dataframe\">\n",
       "  <thead>\n",
       "    <tr style=\"text-align: right;\">\n",
       "      <th></th>\n",
       "      <th>counts</th>\n",
       "      <th>pos</th>\n",
       "      <th>hc_tagged</th>\n",
       "      <th>hc</th>\n",
       "      <th>nutrient</th>\n",
       "      <th>nutrient_num</th>\n",
       "    </tr>\n",
       "  </thead>\n",
       "  <tbody>\n",
       "    <tr>\n",
       "      <th>0</th>\n",
       "      <td>52</td>\n",
       "      <td>[NN, NN, VBZ, VB, PRP$, NN, IN, NN, .]</td>\n",
       "      <td>[(vitamin, NN), (b7, NN), (helps, VBZ), (turn,...</td>\n",
       "      <td>vitamin b7 helps turn your food into energy.</td>\n",
       "      <td>[5, 23, 98]</td>\n",
       "      <td>3</td>\n",
       "    </tr>\n",
       "    <tr>\n",
       "      <th>1</th>\n",
       "      <td>37</td>\n",
       "      <td>[NN, VBZ, JJ, IN, DT, NN, IN, JJ, NNS, .]</td>\n",
       "      <td>[(calcium, NN), (is, VBZ), (essential, JJ), (f...</td>\n",
       "      <td>calcium is essential for the maintenance of he...</td>\n",
       "      <td>[34]</td>\n",
       "      <td>1</td>\n",
       "    </tr>\n",
       "    <tr>\n",
       "      <th>2</th>\n",
       "      <td>27</td>\n",
       "      <td>[NN, VBZ, TO, DT, NN, IN, JJ, NN, NN, .]</td>\n",
       "      <td>[(potassium, NN), (contributes, VBZ), (to, TO)...</td>\n",
       "      <td>potassium contributes to the maintenance of he...</td>\n",
       "      <td>[39]</td>\n",
       "      <td>1</td>\n",
       "    </tr>\n",
       "    <tr>\n",
       "      <th>3</th>\n",
       "      <td>21</td>\n",
       "      <td>[NN, NNS, IN, JJ, NN, NN, .]</td>\n",
       "      <td>[(potassium, NN), (aids, NNS), (in, IN), (heal...</td>\n",
       "      <td>potassium aids in healthy muscle function.</td>\n",
       "      <td>[39]</td>\n",
       "      <td>1</td>\n",
       "    </tr>\n",
       "    <tr>\n",
       "      <th>4</th>\n",
       "      <td>20</td>\n",
       "      <td>[NN, VBZ, VB, JJ, NN, NN, .]</td>\n",
       "      <td>[(potassium, NN), (helps, VBZ), (support, VB),...</td>\n",
       "      <td>potassium helps support healthy muscle function.</td>\n",
       "      <td>[39]</td>\n",
       "      <td>1</td>\n",
       "    </tr>\n",
       "    <tr>\n",
       "      <th>5</th>\n",
       "      <td>17</td>\n",
       "      <td>[NN, VBZ, TO, DT, NN, IN, JJ, NNS, .]</td>\n",
       "      <td>[(calcium, NN), (contributes, VBZ), (to, TO), ...</td>\n",
       "      <td>calcium contributes to the maintenance of heal...</td>\n",
       "      <td>[34]</td>\n",
       "      <td>1</td>\n",
       "    </tr>\n",
       "    <tr>\n",
       "      <th>6</th>\n",
       "      <td>17</td>\n",
       "      <td>[NN, NN, VBZ, PRP$, NN, VBG, .]</td>\n",
       "      <td>[(vitamin, NN), (b7, NN), (gets, VBZ), (your, ...</td>\n",
       "      <td>vitamin b7 gets your metabolism going.</td>\n",
       "      <td>[]</td>\n",
       "      <td>0</td>\n",
       "    </tr>\n",
       "    <tr>\n",
       "      <th>7</th>\n",
       "      <td>17</td>\n",
       "      <td>[NN, VBZ, JJ, IN, DT, NN, IN, JJ, NNS, .]</td>\n",
       "      <td>[(calcium, NN), (is, VBZ), (essential, JJ), (f...</td>\n",
       "      <td>calcium is essential for the maintenance of st...</td>\n",
       "      <td>[34]</td>\n",
       "      <td>1</td>\n",
       "    </tr>\n",
       "    <tr>\n",
       "      <th>8</th>\n",
       "      <td>17</td>\n",
       "      <td>[NN, NN, VBZ, TO, JJ, NN, NNS, .]</td>\n",
       "      <td>[(vitamin, NN), (b7, NN), (contributes, VBZ), ...</td>\n",
       "      <td>vitamin b7 contributes to healthy energy levels.</td>\n",
       "      <td>[5, 23]</td>\n",
       "      <td>2</td>\n",
       "    </tr>\n",
       "    <tr>\n",
       "      <th>9</th>\n",
       "      <td>16</td>\n",
       "      <td>[NN, VBZ, VB, JJ, NNS, .]</td>\n",
       "      <td>[(potassium, NN), (helps, VBZ), (maintain, VB)...</td>\n",
       "      <td>potassium helps maintain healthy muscles.</td>\n",
       "      <td>[39]</td>\n",
       "      <td>1</td>\n",
       "    </tr>\n",
       "  </tbody>\n",
       "</table>\n",
       "</div>"
      ],
      "text/plain": [
       "   counts                                        pos  \\\n",
       "0      52     [NN, NN, VBZ, VB, PRP$, NN, IN, NN, .]   \n",
       "1      37  [NN, VBZ, JJ, IN, DT, NN, IN, JJ, NNS, .]   \n",
       "2      27   [NN, VBZ, TO, DT, NN, IN, JJ, NN, NN, .]   \n",
       "3      21               [NN, NNS, IN, JJ, NN, NN, .]   \n",
       "4      20               [NN, VBZ, VB, JJ, NN, NN, .]   \n",
       "5      17      [NN, VBZ, TO, DT, NN, IN, JJ, NNS, .]   \n",
       "6      17            [NN, NN, VBZ, PRP$, NN, VBG, .]   \n",
       "7      17  [NN, VBZ, JJ, IN, DT, NN, IN, JJ, NNS, .]   \n",
       "8      17          [NN, NN, VBZ, TO, JJ, NN, NNS, .]   \n",
       "9      16                  [NN, VBZ, VB, JJ, NNS, .]   \n",
       "\n",
       "                                           hc_tagged  \\\n",
       "0  [(vitamin, NN), (b7, NN), (helps, VBZ), (turn,...   \n",
       "1  [(calcium, NN), (is, VBZ), (essential, JJ), (f...   \n",
       "2  [(potassium, NN), (contributes, VBZ), (to, TO)...   \n",
       "3  [(potassium, NN), (aids, NNS), (in, IN), (heal...   \n",
       "4  [(potassium, NN), (helps, VBZ), (support, VB),...   \n",
       "5  [(calcium, NN), (contributes, VBZ), (to, TO), ...   \n",
       "6  [(vitamin, NN), (b7, NN), (gets, VBZ), (your, ...   \n",
       "7  [(calcium, NN), (is, VBZ), (essential, JJ), (f...   \n",
       "8  [(vitamin, NN), (b7, NN), (contributes, VBZ), ...   \n",
       "9  [(potassium, NN), (helps, VBZ), (maintain, VB)...   \n",
       "\n",
       "                                                  hc     nutrient  \\\n",
       "0       vitamin b7 helps turn your food into energy.  [5, 23, 98]   \n",
       "1  calcium is essential for the maintenance of he...         [34]   \n",
       "2  potassium contributes to the maintenance of he...         [39]   \n",
       "3         potassium aids in healthy muscle function.         [39]   \n",
       "4   potassium helps support healthy muscle function.         [39]   \n",
       "5  calcium contributes to the maintenance of heal...         [34]   \n",
       "6             vitamin b7 gets your metabolism going.           []   \n",
       "7  calcium is essential for the maintenance of st...         [34]   \n",
       "8   vitamin b7 contributes to healthy energy levels.      [5, 23]   \n",
       "9          potassium helps maintain healthy muscles.         [39]   \n",
       "\n",
       "   nutrient_num  \n",
       "0             3  \n",
       "1             1  \n",
       "2             1  \n",
       "3             1  \n",
       "4             1  \n",
       "5             1  \n",
       "6             0  \n",
       "7             1  \n",
       "8             2  \n",
       "9             1  "
      ]
     },
     "execution_count": 91,
     "metadata": {},
     "output_type": "execute_result"
    }
   ],
   "source": [
    "hc_cus_count.loc[:,'nutrient'] = [[cat_index for cat_index in df_nu.index if hc in df_nu['hc_ids'][cat_index]] for hc in hc_cus_count.index]\n",
    "hc_cus_count.loc[:,'nutrient_num'] = [len(i) for i in hc_cus_count['nutrient']]\n",
    "hc_cus_count.head(10)"
   ]
  },
  {
   "cell_type": "code",
   "execution_count": 92,
   "metadata": {},
   "outputs": [
    {
     "data": {
      "text/plain": [
       "1    54\n",
       "2    25\n",
       "3     8\n",
       "0     6\n",
       "4     4\n",
       "Name: nutrient_num, dtype: int64"
      ]
     },
     "execution_count": 92,
     "metadata": {},
     "output_type": "execute_result"
    }
   ],
   "source": [
    "hc_cus_count.nutrient_num.value_counts()"
   ]
  },
  {
   "cell_type": "code",
   "execution_count": 93,
   "metadata": {},
   "outputs": [
    {
     "data": {
      "text/plain": [
       "'calcium is essential for the maintenance of strong bones.'"
      ]
     },
     "execution_count": 93,
     "metadata": {},
     "output_type": "execute_result"
    }
   ],
   "source": [
    "hc_cus_count.hc[7]"
   ]
  },
  {
   "cell_type": "code",
   "execution_count": 94,
   "metadata": {},
   "outputs": [
    {
     "data": {
      "text/plain": [
       "34    [calcium, ca]\n",
       "Name: nutrients, dtype: object"
      ]
     },
     "execution_count": 94,
     "metadata": {},
     "output_type": "execute_result"
    }
   ],
   "source": [
    "df_nu.nutrients[hc_cus_count.nutrient[7]]"
   ]
  },
  {
   "cell_type": "markdown",
   "metadata": {},
   "source": [
    "## Map to UK nutrients database"
   ]
  },
  {
   "cell_type": "code",
   "execution_count": 96,
   "metadata": {},
   "outputs": [
    {
     "data": {
      "text/html": [
       "<div>\n",
       "<style scoped>\n",
       "    .dataframe tbody tr th:only-of-type {\n",
       "        vertical-align: middle;\n",
       "    }\n",
       "\n",
       "    .dataframe tbody tr th {\n",
       "        vertical-align: top;\n",
       "    }\n",
       "\n",
       "    .dataframe thead th {\n",
       "        text-align: right;\n",
       "    }\n",
       "</style>\n",
       "<table border=\"1\" class=\"dataframe\">\n",
       "  <thead>\n",
       "    <tr style=\"text-align: right;\">\n",
       "      <th></th>\n",
       "      <th>nutrients</th>\n",
       "      <th>unit</th>\n",
       "      <th>nu_num</th>\n",
       "    </tr>\n",
       "  </thead>\n",
       "  <tbody>\n",
       "    <tr>\n",
       "      <th>0</th>\n",
       "      <td>[water]</td>\n",
       "      <td>G</td>\n",
       "      <td>1</td>\n",
       "    </tr>\n",
       "    <tr>\n",
       "      <th>1</th>\n",
       "      <td>[total nitrogen, totnit]</td>\n",
       "      <td>G</td>\n",
       "      <td>2</td>\n",
       "    </tr>\n",
       "    <tr>\n",
       "      <th>2</th>\n",
       "      <td>[protein, prot]</td>\n",
       "      <td>G</td>\n",
       "      <td>2</td>\n",
       "    </tr>\n",
       "    <tr>\n",
       "      <th>3</th>\n",
       "      <td>[fat]</td>\n",
       "      <td>G</td>\n",
       "      <td>1</td>\n",
       "    </tr>\n",
       "    <tr>\n",
       "      <th>4</th>\n",
       "      <td>[carbohydrate, cho]</td>\n",
       "      <td>G</td>\n",
       "      <td>2</td>\n",
       "    </tr>\n",
       "  </tbody>\n",
       "</table>\n",
       "</div>"
      ],
      "text/plain": [
       "                  nutrients unit  nu_num\n",
       "0                   [water]    G       1\n",
       "1  [total nitrogen, totnit]    G       2\n",
       "2           [protein, prot]    G       2\n",
       "3                     [fat]    G       1\n",
       "4       [carbohydrate, cho]    G       2"
      ]
     },
     "execution_count": 96,
     "metadata": {},
     "output_type": "execute_result"
    }
   ],
   "source": [
    "with open('df_uknu.pickle', 'rb') as handle:\n",
    "    df_uknu = pickle.load(handle)\n",
    "df_uknu.head()"
   ]
  },
  {
   "cell_type": "code",
   "execution_count": 97,
   "metadata": {},
   "outputs": [
    {
     "data": {
      "text/plain": [
       "(272, 3)"
      ]
     },
     "execution_count": 97,
     "metadata": {},
     "output_type": "execute_result"
    }
   ],
   "source": [
    "df_uknu.shape"
   ]
  },
  {
   "cell_type": "code",
   "execution_count": 98,
   "metadata": {},
   "outputs": [
    {
     "data": {
      "text/html": [
       "<div>\n",
       "<style scoped>\n",
       "    .dataframe tbody tr th:only-of-type {\n",
       "        vertical-align: middle;\n",
       "    }\n",
       "\n",
       "    .dataframe tbody tr th {\n",
       "        vertical-align: top;\n",
       "    }\n",
       "\n",
       "    .dataframe thead th {\n",
       "        text-align: right;\n",
       "    }\n",
       "</style>\n",
       "<table border=\"1\" class=\"dataframe\">\n",
       "  <thead>\n",
       "    <tr style=\"text-align: right;\">\n",
       "      <th></th>\n",
       "      <th>counts</th>\n",
       "      <th>pos</th>\n",
       "      <th>hc_tagged</th>\n",
       "      <th>hc</th>\n",
       "      <th>nutrient</th>\n",
       "      <th>nutrient_num</th>\n",
       "    </tr>\n",
       "  </thead>\n",
       "  <tbody>\n",
       "    <tr>\n",
       "      <th>0</th>\n",
       "      <td>52</td>\n",
       "      <td>[NN, NN, VBZ, VB, PRP$, NN, IN, NN, .]</td>\n",
       "      <td>[(vitamin, NN), (b7, NN), (helps, VBZ), (turn,...</td>\n",
       "      <td>vitamin b7 helps turn your food into energy.</td>\n",
       "      <td>[5, 23, 98]</td>\n",
       "      <td>3</td>\n",
       "    </tr>\n",
       "    <tr>\n",
       "      <th>1</th>\n",
       "      <td>37</td>\n",
       "      <td>[NN, VBZ, JJ, IN, DT, NN, IN, JJ, NNS, .]</td>\n",
       "      <td>[(calcium, NN), (is, VBZ), (essential, JJ), (f...</td>\n",
       "      <td>calcium is essential for the maintenance of he...</td>\n",
       "      <td>[34]</td>\n",
       "      <td>1</td>\n",
       "    </tr>\n",
       "    <tr>\n",
       "      <th>2</th>\n",
       "      <td>27</td>\n",
       "      <td>[NN, VBZ, TO, DT, NN, IN, JJ, NN, NN, .]</td>\n",
       "      <td>[(potassium, NN), (contributes, VBZ), (to, TO)...</td>\n",
       "      <td>potassium contributes to the maintenance of he...</td>\n",
       "      <td>[39]</td>\n",
       "      <td>1</td>\n",
       "    </tr>\n",
       "    <tr>\n",
       "      <th>3</th>\n",
       "      <td>21</td>\n",
       "      <td>[NN, NNS, IN, JJ, NN, NN, .]</td>\n",
       "      <td>[(potassium, NN), (aids, NNS), (in, IN), (heal...</td>\n",
       "      <td>potassium aids in healthy muscle function.</td>\n",
       "      <td>[39]</td>\n",
       "      <td>1</td>\n",
       "    </tr>\n",
       "    <tr>\n",
       "      <th>4</th>\n",
       "      <td>20</td>\n",
       "      <td>[NN, VBZ, VB, JJ, NN, NN, .]</td>\n",
       "      <td>[(potassium, NN), (helps, VBZ), (support, VB),...</td>\n",
       "      <td>potassium helps support healthy muscle function.</td>\n",
       "      <td>[39]</td>\n",
       "      <td>1</td>\n",
       "    </tr>\n",
       "  </tbody>\n",
       "</table>\n",
       "</div>"
      ],
      "text/plain": [
       "   counts                                        pos  \\\n",
       "0      52     [NN, NN, VBZ, VB, PRP$, NN, IN, NN, .]   \n",
       "1      37  [NN, VBZ, JJ, IN, DT, NN, IN, JJ, NNS, .]   \n",
       "2      27   [NN, VBZ, TO, DT, NN, IN, JJ, NN, NN, .]   \n",
       "3      21               [NN, NNS, IN, JJ, NN, NN, .]   \n",
       "4      20               [NN, VBZ, VB, JJ, NN, NN, .]   \n",
       "\n",
       "                                           hc_tagged  \\\n",
       "0  [(vitamin, NN), (b7, NN), (helps, VBZ), (turn,...   \n",
       "1  [(calcium, NN), (is, VBZ), (essential, JJ), (f...   \n",
       "2  [(potassium, NN), (contributes, VBZ), (to, TO)...   \n",
       "3  [(potassium, NN), (aids, NNS), (in, IN), (heal...   \n",
       "4  [(potassium, NN), (helps, VBZ), (support, VB),...   \n",
       "\n",
       "                                                  hc     nutrient  \\\n",
       "0       vitamin b7 helps turn your food into energy.  [5, 23, 98]   \n",
       "1  calcium is essential for the maintenance of he...         [34]   \n",
       "2  potassium contributes to the maintenance of he...         [39]   \n",
       "3         potassium aids in healthy muscle function.         [39]   \n",
       "4   potassium helps support healthy muscle function.         [39]   \n",
       "\n",
       "   nutrient_num  \n",
       "0             3  \n",
       "1             1  \n",
       "2             1  \n",
       "3             1  \n",
       "4             1  "
      ]
     },
     "execution_count": 98,
     "metadata": {},
     "output_type": "execute_result"
    }
   ],
   "source": [
    "hc_cus_count.head()"
   ]
  },
  {
   "cell_type": "code",
   "execution_count": 99,
   "metadata": {},
   "outputs": [
    {
     "name": "stderr",
     "output_type": "stream",
     "text": [
      "E:\\Anaconda\\envs\\tensorflow\\lib\\site-packages\\ipykernel_launcher.py:6: UserWarning: This pattern has match groups. To actually get the groups, use str.extract.\n",
      "  \n"
     ]
    },
    {
     "data": {
      "text/html": [
       "<div>\n",
       "<style scoped>\n",
       "    .dataframe tbody tr th:only-of-type {\n",
       "        vertical-align: middle;\n",
       "    }\n",
       "\n",
       "    .dataframe tbody tr th {\n",
       "        vertical-align: top;\n",
       "    }\n",
       "\n",
       "    .dataframe thead th {\n",
       "        text-align: right;\n",
       "    }\n",
       "</style>\n",
       "<table border=\"1\" class=\"dataframe\">\n",
       "  <thead>\n",
       "    <tr style=\"text-align: right;\">\n",
       "      <th></th>\n",
       "      <th>nutrients</th>\n",
       "      <th>unit</th>\n",
       "      <th>nu_num</th>\n",
       "      <th>hc_ids</th>\n",
       "      <th>id_num</th>\n",
       "    </tr>\n",
       "  </thead>\n",
       "  <tbody>\n",
       "    <tr>\n",
       "      <th>0</th>\n",
       "      <td>[water]</td>\n",
       "      <td>G</td>\n",
       "      <td>1</td>\n",
       "      <td>[]</td>\n",
       "      <td>0</td>\n",
       "    </tr>\n",
       "    <tr>\n",
       "      <th>1</th>\n",
       "      <td>[total nitrogen, totnit]</td>\n",
       "      <td>G</td>\n",
       "      <td>2</td>\n",
       "      <td>[]</td>\n",
       "      <td>0</td>\n",
       "    </tr>\n",
       "    <tr>\n",
       "      <th>2</th>\n",
       "      <td>[protein, prot]</td>\n",
       "      <td>G</td>\n",
       "      <td>2</td>\n",
       "      <td>[]</td>\n",
       "      <td>0</td>\n",
       "    </tr>\n",
       "    <tr>\n",
       "      <th>3</th>\n",
       "      <td>[fat]</td>\n",
       "      <td>G</td>\n",
       "      <td>1</td>\n",
       "      <td>[]</td>\n",
       "      <td>0</td>\n",
       "    </tr>\n",
       "    <tr>\n",
       "      <th>4</th>\n",
       "      <td>[carbohydrate, cho]</td>\n",
       "      <td>G</td>\n",
       "      <td>2</td>\n",
       "      <td>[13, 14, 18, 19, 23, 25, 29, 37, 39, 40, 41, 4...</td>\n",
       "      <td>37</td>\n",
       "    </tr>\n",
       "  </tbody>\n",
       "</table>\n",
       "</div>"
      ],
      "text/plain": [
       "                  nutrients unit  nu_num  \\\n",
       "0                   [water]    G       1   \n",
       "1  [total nitrogen, totnit]    G       2   \n",
       "2           [protein, prot]    G       2   \n",
       "3                     [fat]    G       1   \n",
       "4       [carbohydrate, cho]    G       2   \n",
       "\n",
       "                                              hc_ids  id_num  \n",
       "0                                                 []       0  \n",
       "1                                                 []       0  \n",
       "2                                                 []       0  \n",
       "3                                                 []       0  \n",
       "4  [13, 14, 18, 19, 23, 25, 29, 37, 39, 40, 41, 4...      37  "
      ]
     },
     "execution_count": 99,
     "metadata": {},
     "output_type": "execute_result"
    }
   ],
   "source": [
    "hc_ids = []\n",
    "for r in df_uknu.nutrients:\n",
    "    hc_id = []\n",
    "    for n in r:\n",
    "        if len(n) >= 3:\n",
    "            hc_id.extend(hc_cus_count.index[hc_cus_count['hc'].str.contains(n)])\n",
    "        else:\n",
    "            hc_id.extend([i for i in list(hc_cus_count.index) if nltk.pos_tag([n])[0] in hc_cus_count['hc_tagged'][i]])\n",
    "    hc_ids.append(list(hc_id))\n",
    "df_uknu.loc[:,'hc_ids'] = list(hc_ids)\n",
    "df_uknu.loc[:,'id_num'] = [len(i) for i in df_uknu.hc_ids]\n",
    "df_uknu.head()"
   ]
  },
  {
   "cell_type": "code",
   "execution_count": 100,
   "metadata": {},
   "outputs": [
    {
     "data": {
      "text/plain": [
       "0     263\n",
       "40      3\n",
       "14      2\n",
       "74      1\n",
       "37      1\n",
       "20      1\n",
       "16      1\n",
       "Name: id_num, dtype: int64"
      ]
     },
     "execution_count": 100,
     "metadata": {},
     "output_type": "execute_result"
    }
   ],
   "source": [
    "df_uknu.id_num.value_counts()"
   ]
  },
  {
   "cell_type": "code",
   "execution_count": 102,
   "metadata": {},
   "outputs": [
    {
     "data": {
      "text/html": [
       "<div>\n",
       "<style scoped>\n",
       "    .dataframe tbody tr th:only-of-type {\n",
       "        vertical-align: middle;\n",
       "    }\n",
       "\n",
       "    .dataframe tbody tr th {\n",
       "        vertical-align: top;\n",
       "    }\n",
       "\n",
       "    .dataframe thead th {\n",
       "        text-align: right;\n",
       "    }\n",
       "</style>\n",
       "<table border=\"1\" class=\"dataframe\">\n",
       "  <thead>\n",
       "    <tr style=\"text-align: right;\">\n",
       "      <th></th>\n",
       "      <th>counts</th>\n",
       "      <th>pos</th>\n",
       "      <th>hc_tagged</th>\n",
       "      <th>hc</th>\n",
       "      <th>nutrient</th>\n",
       "      <th>nutrient_num</th>\n",
       "      <th>nutrient_uk</th>\n",
       "      <th>nutrient_num_uk</th>\n",
       "    </tr>\n",
       "  </thead>\n",
       "  <tbody>\n",
       "    <tr>\n",
       "      <th>0</th>\n",
       "      <td>52</td>\n",
       "      <td>[NN, NN, VBZ, VB, PRP$, NN, IN, NN, .]</td>\n",
       "      <td>[(vitamin, NN), (b7, NN), (helps, VBZ), (turn,...</td>\n",
       "      <td>vitamin b7 helps turn your food into energy.</td>\n",
       "      <td>[5, 23, 98]</td>\n",
       "      <td>3</td>\n",
       "      <td>[5]</td>\n",
       "      <td>1</td>\n",
       "    </tr>\n",
       "    <tr>\n",
       "      <th>1</th>\n",
       "      <td>37</td>\n",
       "      <td>[NN, VBZ, JJ, IN, DT, NN, IN, JJ, NNS, .]</td>\n",
       "      <td>[(calcium, NN), (is, VBZ), (essential, JJ), (f...</td>\n",
       "      <td>calcium is essential for the maintenance of he...</td>\n",
       "      <td>[34]</td>\n",
       "      <td>1</td>\n",
       "      <td>[39, 41, 90, 117]</td>\n",
       "      <td>4</td>\n",
       "    </tr>\n",
       "    <tr>\n",
       "      <th>2</th>\n",
       "      <td>27</td>\n",
       "      <td>[NN, VBZ, TO, DT, NN, IN, JJ, NN, NN, .]</td>\n",
       "      <td>[(potassium, NN), (contributes, VBZ), (to, TO)...</td>\n",
       "      <td>potassium contributes to the maintenance of he...</td>\n",
       "      <td>[39]</td>\n",
       "      <td>1</td>\n",
       "      <td>[39, 40, 90, 117]</td>\n",
       "      <td>4</td>\n",
       "    </tr>\n",
       "    <tr>\n",
       "      <th>3</th>\n",
       "      <td>21</td>\n",
       "      <td>[NN, NNS, IN, JJ, NN, NN, .]</td>\n",
       "      <td>[(potassium, NN), (aids, NNS), (in, IN), (heal...</td>\n",
       "      <td>potassium aids in healthy muscle function.</td>\n",
       "      <td>[39]</td>\n",
       "      <td>1</td>\n",
       "      <td>[40]</td>\n",
       "      <td>1</td>\n",
       "    </tr>\n",
       "    <tr>\n",
       "      <th>4</th>\n",
       "      <td>20</td>\n",
       "      <td>[NN, VBZ, VB, JJ, NN, NN, .]</td>\n",
       "      <td>[(potassium, NN), (helps, VBZ), (support, VB),...</td>\n",
       "      <td>potassium helps support healthy muscle function.</td>\n",
       "      <td>[39]</td>\n",
       "      <td>1</td>\n",
       "      <td>[40]</td>\n",
       "      <td>1</td>\n",
       "    </tr>\n",
       "    <tr>\n",
       "      <th>5</th>\n",
       "      <td>17</td>\n",
       "      <td>[NN, VBZ, TO, DT, NN, IN, JJ, NNS, .]</td>\n",
       "      <td>[(calcium, NN), (contributes, VBZ), (to, TO), ...</td>\n",
       "      <td>calcium contributes to the maintenance of heal...</td>\n",
       "      <td>[34]</td>\n",
       "      <td>1</td>\n",
       "      <td>[39, 41, 90, 117]</td>\n",
       "      <td>4</td>\n",
       "    </tr>\n",
       "    <tr>\n",
       "      <th>6</th>\n",
       "      <td>17</td>\n",
       "      <td>[NN, NN, VBZ, PRP$, NN, VBG, .]</td>\n",
       "      <td>[(vitamin, NN), (b7, NN), (gets, VBZ), (your, ...</td>\n",
       "      <td>vitamin b7 gets your metabolism going.</td>\n",
       "      <td>[]</td>\n",
       "      <td>0</td>\n",
       "      <td>[]</td>\n",
       "      <td>0</td>\n",
       "    </tr>\n",
       "    <tr>\n",
       "      <th>7</th>\n",
       "      <td>17</td>\n",
       "      <td>[NN, VBZ, JJ, IN, DT, NN, IN, JJ, NNS, .]</td>\n",
       "      <td>[(calcium, NN), (is, VBZ), (essential, JJ), (f...</td>\n",
       "      <td>calcium is essential for the maintenance of st...</td>\n",
       "      <td>[34]</td>\n",
       "      <td>1</td>\n",
       "      <td>[39, 41, 90, 117]</td>\n",
       "      <td>4</td>\n",
       "    </tr>\n",
       "    <tr>\n",
       "      <th>8</th>\n",
       "      <td>17</td>\n",
       "      <td>[NN, NN, VBZ, TO, JJ, NN, NNS, .]</td>\n",
       "      <td>[(vitamin, NN), (b7, NN), (contributes, VBZ), ...</td>\n",
       "      <td>vitamin b7 contributes to healthy energy levels.</td>\n",
       "      <td>[5, 23]</td>\n",
       "      <td>2</td>\n",
       "      <td>[5]</td>\n",
       "      <td>1</td>\n",
       "    </tr>\n",
       "    <tr>\n",
       "      <th>9</th>\n",
       "      <td>16</td>\n",
       "      <td>[NN, VBZ, VB, JJ, NNS, .]</td>\n",
       "      <td>[(potassium, NN), (helps, VBZ), (maintain, VB)...</td>\n",
       "      <td>potassium helps maintain healthy muscles.</td>\n",
       "      <td>[39]</td>\n",
       "      <td>1</td>\n",
       "      <td>[40]</td>\n",
       "      <td>1</td>\n",
       "    </tr>\n",
       "  </tbody>\n",
       "</table>\n",
       "</div>"
      ],
      "text/plain": [
       "   counts                                        pos  \\\n",
       "0      52     [NN, NN, VBZ, VB, PRP$, NN, IN, NN, .]   \n",
       "1      37  [NN, VBZ, JJ, IN, DT, NN, IN, JJ, NNS, .]   \n",
       "2      27   [NN, VBZ, TO, DT, NN, IN, JJ, NN, NN, .]   \n",
       "3      21               [NN, NNS, IN, JJ, NN, NN, .]   \n",
       "4      20               [NN, VBZ, VB, JJ, NN, NN, .]   \n",
       "5      17      [NN, VBZ, TO, DT, NN, IN, JJ, NNS, .]   \n",
       "6      17            [NN, NN, VBZ, PRP$, NN, VBG, .]   \n",
       "7      17  [NN, VBZ, JJ, IN, DT, NN, IN, JJ, NNS, .]   \n",
       "8      17          [NN, NN, VBZ, TO, JJ, NN, NNS, .]   \n",
       "9      16                  [NN, VBZ, VB, JJ, NNS, .]   \n",
       "\n",
       "                                           hc_tagged  \\\n",
       "0  [(vitamin, NN), (b7, NN), (helps, VBZ), (turn,...   \n",
       "1  [(calcium, NN), (is, VBZ), (essential, JJ), (f...   \n",
       "2  [(potassium, NN), (contributes, VBZ), (to, TO)...   \n",
       "3  [(potassium, NN), (aids, NNS), (in, IN), (heal...   \n",
       "4  [(potassium, NN), (helps, VBZ), (support, VB),...   \n",
       "5  [(calcium, NN), (contributes, VBZ), (to, TO), ...   \n",
       "6  [(vitamin, NN), (b7, NN), (gets, VBZ), (your, ...   \n",
       "7  [(calcium, NN), (is, VBZ), (essential, JJ), (f...   \n",
       "8  [(vitamin, NN), (b7, NN), (contributes, VBZ), ...   \n",
       "9  [(potassium, NN), (helps, VBZ), (maintain, VB)...   \n",
       "\n",
       "                                                  hc     nutrient  \\\n",
       "0       vitamin b7 helps turn your food into energy.  [5, 23, 98]   \n",
       "1  calcium is essential for the maintenance of he...         [34]   \n",
       "2  potassium contributes to the maintenance of he...         [39]   \n",
       "3         potassium aids in healthy muscle function.         [39]   \n",
       "4   potassium helps support healthy muscle function.         [39]   \n",
       "5  calcium contributes to the maintenance of heal...         [34]   \n",
       "6             vitamin b7 gets your metabolism going.           []   \n",
       "7  calcium is essential for the maintenance of st...         [34]   \n",
       "8   vitamin b7 contributes to healthy energy levels.      [5, 23]   \n",
       "9          potassium helps maintain healthy muscles.         [39]   \n",
       "\n",
       "   nutrient_num        nutrient_uk  nutrient_num_uk  \n",
       "0             3                [5]                1  \n",
       "1             1  [39, 41, 90, 117]                4  \n",
       "2             1  [39, 40, 90, 117]                4  \n",
       "3             1               [40]                1  \n",
       "4             1               [40]                1  \n",
       "5             1  [39, 41, 90, 117]                4  \n",
       "6             0                 []                0  \n",
       "7             1  [39, 41, 90, 117]                4  \n",
       "8             2                [5]                1  \n",
       "9             1               [40]                1  "
      ]
     },
     "execution_count": 102,
     "metadata": {},
     "output_type": "execute_result"
    }
   ],
   "source": [
    "hc_cus_count.loc[:,'nutrient_uk'] = [[cat_index for cat_index in df_uknu.index if hc in df_uknu['hc_ids'][cat_index]] for hc in hc_cus_count.index]\n",
    "hc_cus_count.loc[:,'nutrient_num_uk'] = [len(i) for i in hc_cus_count['nutrient_uk']]\n",
    "hc_cus_count.head(10)"
   ]
  },
  {
   "cell_type": "code",
   "execution_count": 75,
   "metadata": {},
   "outputs": [
    {
     "data": {
      "text/plain": [
       "2    24\n",
       "1    24\n",
       "4    21\n",
       "5    19\n",
       "0     9\n",
       "Name: nutrient_num, dtype: int64"
      ]
     },
     "execution_count": 75,
     "metadata": {},
     "output_type": "execute_result"
    }
   ],
   "source": [
    "hc_cus_count.nutrient_num.value_counts()"
   ]
  },
  {
   "cell_type": "code",
   "execution_count": 76,
   "metadata": {},
   "outputs": [
    {
     "data": {
      "text/plain": [
       "'calcium is essential for the maintenance of strong bones.'"
      ]
     },
     "execution_count": 76,
     "metadata": {},
     "output_type": "execute_result"
    }
   ],
   "source": [
    "hc_cus_count.hc[7]"
   ]
  },
  {
   "cell_type": "code",
   "execution_count": 77,
   "metadata": {},
   "outputs": [
    {
     "data": {
      "text/plain": [
       "39      [potassium, k]\n",
       "41         [sulfur, s]\n",
       "90     [folate, total]\n",
       "117         [tyrosine]\n",
       "Name: nutrients, dtype: object"
      ]
     },
     "execution_count": 77,
     "metadata": {},
     "output_type": "execute_result"
    }
   ],
   "source": [
    "df_nu.nutrients[hc_cus_count.nutrient[7]]"
   ]
  },
  {
   "cell_type": "markdown",
   "metadata": {},
   "source": [
    "## Map to Combined nutrients data"
   ]
  },
  {
   "cell_type": "code",
   "execution_count": 103,
   "metadata": {},
   "outputs": [
    {
     "data": {
      "text/html": [
       "<div>\n",
       "<style scoped>\n",
       "    .dataframe tbody tr th:only-of-type {\n",
       "        vertical-align: middle;\n",
       "    }\n",
       "\n",
       "    .dataframe tbody tr th {\n",
       "        vertical-align: top;\n",
       "    }\n",
       "\n",
       "    .dataframe thead th {\n",
       "        text-align: right;\n",
       "    }\n",
       "</style>\n",
       "<table border=\"1\" class=\"dataframe\">\n",
       "  <thead>\n",
       "    <tr style=\"text-align: right;\">\n",
       "      <th></th>\n",
       "      <th>nutrients</th>\n",
       "      <th>nu_num</th>\n",
       "    </tr>\n",
       "  </thead>\n",
       "  <tbody>\n",
       "    <tr>\n",
       "      <th>0</th>\n",
       "      <td>[water]</td>\n",
       "      <td>1</td>\n",
       "    </tr>\n",
       "    <tr>\n",
       "      <th>1</th>\n",
       "      <td>[total nitrogen, totnit]</td>\n",
       "      <td>2</td>\n",
       "    </tr>\n",
       "    <tr>\n",
       "      <th>2</th>\n",
       "      <td>[protein, prot]</td>\n",
       "      <td>2</td>\n",
       "    </tr>\n",
       "    <tr>\n",
       "      <th>3</th>\n",
       "      <td>[fat]</td>\n",
       "      <td>1</td>\n",
       "    </tr>\n",
       "    <tr>\n",
       "      <th>4</th>\n",
       "      <td>[carbohydrate, cho]</td>\n",
       "      <td>2</td>\n",
       "    </tr>\n",
       "  </tbody>\n",
       "</table>\n",
       "</div>"
      ],
      "text/plain": [
       "                  nutrients  nu_num\n",
       "0                   [water]       1\n",
       "1  [total nitrogen, totnit]       2\n",
       "2           [protein, prot]       2\n",
       "3                     [fat]       1\n",
       "4       [carbohydrate, cho]       2"
      ]
     },
     "execution_count": 103,
     "metadata": {},
     "output_type": "execute_result"
    }
   ],
   "source": [
    "with open('df_comb_nu.pickle', 'rb') as handle:\n",
    "    df_comb_nu = pickle.load(handle)\n",
    "df_comb_nu.head()"
   ]
  },
  {
   "cell_type": "code",
   "execution_count": 7,
   "metadata": {},
   "outputs": [
    {
     "data": {
      "text/plain": [
       "458"
      ]
     },
     "execution_count": 7,
     "metadata": {},
     "output_type": "execute_result"
    }
   ],
   "source": [
    "len(df_comb_nu)"
   ]
  },
  {
   "cell_type": "code",
   "execution_count": 112,
   "metadata": {},
   "outputs": [
    {
     "data": {
      "text/plain": [
       "nutrients                                        [sodium, nan]\n",
       "nu_num                                                       2\n",
       "hc_ids       [1, 2, 5, 7, 11, 13, 14, 16, 17, 19, 22, 23, 2...\n",
       "id_num                                                      40\n",
       "Name: 39, dtype: object"
      ]
     },
     "execution_count": 112,
     "metadata": {},
     "output_type": "execute_result"
    }
   ],
   "source": [
    "df_comb_nu.iloc[39]"
   ]
  },
  {
   "cell_type": "code",
   "execution_count": 105,
   "metadata": {},
   "outputs": [
    {
     "name": "stderr",
     "output_type": "stream",
     "text": [
      "E:\\Anaconda\\envs\\tensorflow\\lib\\site-packages\\ipykernel_launcher.py:6: UserWarning: This pattern has match groups. To actually get the groups, use str.extract.\n",
      "  \n"
     ]
    },
    {
     "data": {
      "text/html": [
       "<div>\n",
       "<style scoped>\n",
       "    .dataframe tbody tr th:only-of-type {\n",
       "        vertical-align: middle;\n",
       "    }\n",
       "\n",
       "    .dataframe tbody tr th {\n",
       "        vertical-align: top;\n",
       "    }\n",
       "\n",
       "    .dataframe thead th {\n",
       "        text-align: right;\n",
       "    }\n",
       "</style>\n",
       "<table border=\"1\" class=\"dataframe\">\n",
       "  <thead>\n",
       "    <tr style=\"text-align: right;\">\n",
       "      <th></th>\n",
       "      <th>nutrients</th>\n",
       "      <th>nu_num</th>\n",
       "      <th>hc_ids</th>\n",
       "      <th>id_num</th>\n",
       "    </tr>\n",
       "  </thead>\n",
       "  <tbody>\n",
       "    <tr>\n",
       "      <th>0</th>\n",
       "      <td>[water]</td>\n",
       "      <td>1</td>\n",
       "      <td>[]</td>\n",
       "      <td>0</td>\n",
       "    </tr>\n",
       "    <tr>\n",
       "      <th>1</th>\n",
       "      <td>[total nitrogen, totnit]</td>\n",
       "      <td>2</td>\n",
       "      <td>[]</td>\n",
       "      <td>0</td>\n",
       "    </tr>\n",
       "    <tr>\n",
       "      <th>2</th>\n",
       "      <td>[protein, prot]</td>\n",
       "      <td>2</td>\n",
       "      <td>[]</td>\n",
       "      <td>0</td>\n",
       "    </tr>\n",
       "    <tr>\n",
       "      <th>3</th>\n",
       "      <td>[fat]</td>\n",
       "      <td>1</td>\n",
       "      <td>[]</td>\n",
       "      <td>0</td>\n",
       "    </tr>\n",
       "    <tr>\n",
       "      <th>4</th>\n",
       "      <td>[carbohydrate, cho]</td>\n",
       "      <td>2</td>\n",
       "      <td>[13, 14, 18, 19, 23, 25, 29, 37, 39, 40, 41, 4...</td>\n",
       "      <td>37</td>\n",
       "    </tr>\n",
       "    <tr>\n",
       "      <th>5</th>\n",
       "      <td>[energy, kcals, kcal]</td>\n",
       "      <td>3</td>\n",
       "      <td>[0, 8, 15, 28, 30, 35, 36, 48, 55, 56, 64, 71,...</td>\n",
       "      <td>16</td>\n",
       "    </tr>\n",
       "    <tr>\n",
       "      <th>6</th>\n",
       "      <td>[starch, star]</td>\n",
       "      <td>2</td>\n",
       "      <td>[]</td>\n",
       "      <td>0</td>\n",
       "    </tr>\n",
       "    <tr>\n",
       "      <th>7</th>\n",
       "      <td>[oligosaccharide, oligo]</td>\n",
       "      <td>2</td>\n",
       "      <td>[]</td>\n",
       "      <td>0</td>\n",
       "    </tr>\n",
       "    <tr>\n",
       "      <th>8</th>\n",
       "      <td>[total sugars, totsug]</td>\n",
       "      <td>2</td>\n",
       "      <td>[]</td>\n",
       "      <td>0</td>\n",
       "    </tr>\n",
       "    <tr>\n",
       "      <th>9</th>\n",
       "      <td>[glucose, gluc]</td>\n",
       "      <td>2</td>\n",
       "      <td>[]</td>\n",
       "      <td>0</td>\n",
       "    </tr>\n",
       "  </tbody>\n",
       "</table>\n",
       "</div>"
      ],
      "text/plain": [
       "                  nutrients  nu_num  \\\n",
       "0                   [water]       1   \n",
       "1  [total nitrogen, totnit]       2   \n",
       "2           [protein, prot]       2   \n",
       "3                     [fat]       1   \n",
       "4       [carbohydrate, cho]       2   \n",
       "5     [energy, kcals, kcal]       3   \n",
       "6            [starch, star]       2   \n",
       "7  [oligosaccharide, oligo]       2   \n",
       "8    [total sugars, totsug]       2   \n",
       "9           [glucose, gluc]       2   \n",
       "\n",
       "                                              hc_ids  id_num  \n",
       "0                                                 []       0  \n",
       "1                                                 []       0  \n",
       "2                                                 []       0  \n",
       "3                                                 []       0  \n",
       "4  [13, 14, 18, 19, 23, 25, 29, 37, 39, 40, 41, 4...      37  \n",
       "5  [0, 8, 15, 28, 30, 35, 36, 48, 55, 56, 64, 71,...      16  \n",
       "6                                                 []       0  \n",
       "7                                                 []       0  \n",
       "8                                                 []       0  \n",
       "9                                                 []       0  "
      ]
     },
     "execution_count": 105,
     "metadata": {},
     "output_type": "execute_result"
    }
   ],
   "source": [
    "hc_ids = []\n",
    "for r in df_comb_nu.nutrients:\n",
    "    hc_id = []\n",
    "    for n in r:\n",
    "        if len(n) > 2:\n",
    "            hc_id.extend(hc_cus_count.index[hc_cus_count['hc'].str.contains(n)])\n",
    "        else:\n",
    "            new_ids = [i for i in list(hc_cus_count.index) if nltk.pos_tag([n])[0] in hc_cus_count['hc_tagged'][i]]\n",
    "            hc_id.extend(new_ids)\n",
    "#             print(n,new_ids)\n",
    "    hc_ids.append(list(hc_id))\n",
    "df_comb_nu.loc[:,'hc_ids'] = list(hc_ids)\n",
    "df_comb_nu.loc[:,'id_num'] = [len(i) for i in df_comb_nu.hc_ids]\n",
    "df_comb_nu.head(10)"
   ]
  },
  {
   "cell_type": "code",
   "execution_count": 106,
   "metadata": {},
   "outputs": [
    {
     "data": {
      "text/plain": [
       "0     446\n",
       "40      3\n",
       "20      2\n",
       "14      2\n",
       "74      1\n",
       "37      1\n",
       "16      1\n",
       "5       1\n",
       "3       1\n",
       "Name: id_num, dtype: int64"
      ]
     },
     "execution_count": 106,
     "metadata": {},
     "output_type": "execute_result"
    }
   ],
   "source": [
    "df_comb_nu.id_num.value_counts()"
   ]
  },
  {
   "cell_type": "code",
   "execution_count": 107,
   "metadata": {},
   "outputs": [
    {
     "data": {
      "text/html": [
       "<div>\n",
       "<style scoped>\n",
       "    .dataframe tbody tr th:only-of-type {\n",
       "        vertical-align: middle;\n",
       "    }\n",
       "\n",
       "    .dataframe tbody tr th {\n",
       "        vertical-align: top;\n",
       "    }\n",
       "\n",
       "    .dataframe thead th {\n",
       "        text-align: right;\n",
       "    }\n",
       "</style>\n",
       "<table border=\"1\" class=\"dataframe\">\n",
       "  <thead>\n",
       "    <tr style=\"text-align: right;\">\n",
       "      <th></th>\n",
       "      <th>counts</th>\n",
       "      <th>pos</th>\n",
       "      <th>hc_tagged</th>\n",
       "      <th>hc</th>\n",
       "      <th>nutrient</th>\n",
       "      <th>nutrient_num</th>\n",
       "      <th>nutrient_uk</th>\n",
       "      <th>nutrient_num_uk</th>\n",
       "    </tr>\n",
       "  </thead>\n",
       "  <tbody>\n",
       "    <tr>\n",
       "      <th>0</th>\n",
       "      <td>52</td>\n",
       "      <td>[NN, NN, VBZ, VB, PRP$, NN, IN, NN, .]</td>\n",
       "      <td>[(vitamin, NN), (b7, NN), (helps, VBZ), (turn,...</td>\n",
       "      <td>vitamin b7 helps turn your food into energy.</td>\n",
       "      <td>[5, 335]</td>\n",
       "      <td>2</td>\n",
       "      <td>[5]</td>\n",
       "      <td>1</td>\n",
       "    </tr>\n",
       "    <tr>\n",
       "      <th>1</th>\n",
       "      <td>37</td>\n",
       "      <td>[NN, VBZ, JJ, IN, DT, NN, IN, JJ, NNS, .]</td>\n",
       "      <td>[(calcium, NN), (is, VBZ), (essential, JJ), (f...</td>\n",
       "      <td>calcium is essential for the maintenance of he...</td>\n",
       "      <td>[39, 41, 90, 117]</td>\n",
       "      <td>4</td>\n",
       "      <td>[39, 41, 90, 117]</td>\n",
       "      <td>4</td>\n",
       "    </tr>\n",
       "    <tr>\n",
       "      <th>2</th>\n",
       "      <td>27</td>\n",
       "      <td>[NN, VBZ, TO, DT, NN, IN, JJ, NN, NN, .]</td>\n",
       "      <td>[(potassium, NN), (contributes, VBZ), (to, TO)...</td>\n",
       "      <td>potassium contributes to the maintenance of he...</td>\n",
       "      <td>[39, 40, 90, 117]</td>\n",
       "      <td>4</td>\n",
       "      <td>[39, 40, 90, 117]</td>\n",
       "      <td>4</td>\n",
       "    </tr>\n",
       "    <tr>\n",
       "      <th>3</th>\n",
       "      <td>21</td>\n",
       "      <td>[NN, NNS, IN, JJ, NN, NN, .]</td>\n",
       "      <td>[(potassium, NN), (aids, NNS), (in, IN), (heal...</td>\n",
       "      <td>potassium aids in healthy muscle function.</td>\n",
       "      <td>[40]</td>\n",
       "      <td>1</td>\n",
       "      <td>[40]</td>\n",
       "      <td>1</td>\n",
       "    </tr>\n",
       "    <tr>\n",
       "      <th>4</th>\n",
       "      <td>20</td>\n",
       "      <td>[NN, VBZ, VB, JJ, NN, NN, .]</td>\n",
       "      <td>[(potassium, NN), (helps, VBZ), (support, VB),...</td>\n",
       "      <td>potassium helps support healthy muscle function.</td>\n",
       "      <td>[40]</td>\n",
       "      <td>1</td>\n",
       "      <td>[40]</td>\n",
       "      <td>1</td>\n",
       "    </tr>\n",
       "    <tr>\n",
       "      <th>5</th>\n",
       "      <td>17</td>\n",
       "      <td>[NN, VBZ, TO, DT, NN, IN, JJ, NNS, .]</td>\n",
       "      <td>[(calcium, NN), (contributes, VBZ), (to, TO), ...</td>\n",
       "      <td>calcium contributes to the maintenance of heal...</td>\n",
       "      <td>[39, 41, 90, 117]</td>\n",
       "      <td>4</td>\n",
       "      <td>[39, 41, 90, 117]</td>\n",
       "      <td>4</td>\n",
       "    </tr>\n",
       "    <tr>\n",
       "      <th>6</th>\n",
       "      <td>17</td>\n",
       "      <td>[NN, NN, VBZ, PRP$, NN, VBG, .]</td>\n",
       "      <td>[(vitamin, NN), (b7, NN), (gets, VBZ), (your, ...</td>\n",
       "      <td>vitamin b7 gets your metabolism going.</td>\n",
       "      <td>[]</td>\n",
       "      <td>0</td>\n",
       "      <td>[]</td>\n",
       "      <td>0</td>\n",
       "    </tr>\n",
       "    <tr>\n",
       "      <th>7</th>\n",
       "      <td>17</td>\n",
       "      <td>[NN, VBZ, JJ, IN, DT, NN, IN, JJ, NNS, .]</td>\n",
       "      <td>[(calcium, NN), (is, VBZ), (essential, JJ), (f...</td>\n",
       "      <td>calcium is essential for the maintenance of st...</td>\n",
       "      <td>[39, 41, 90, 117]</td>\n",
       "      <td>4</td>\n",
       "      <td>[39, 41, 90, 117]</td>\n",
       "      <td>4</td>\n",
       "    </tr>\n",
       "    <tr>\n",
       "      <th>8</th>\n",
       "      <td>17</td>\n",
       "      <td>[NN, NN, VBZ, TO, JJ, NN, NNS, .]</td>\n",
       "      <td>[(vitamin, NN), (b7, NN), (contributes, VBZ), ...</td>\n",
       "      <td>vitamin b7 contributes to healthy energy levels.</td>\n",
       "      <td>[5]</td>\n",
       "      <td>1</td>\n",
       "      <td>[5]</td>\n",
       "      <td>1</td>\n",
       "    </tr>\n",
       "    <tr>\n",
       "      <th>9</th>\n",
       "      <td>16</td>\n",
       "      <td>[NN, VBZ, VB, JJ, NNS, .]</td>\n",
       "      <td>[(potassium, NN), (helps, VBZ), (maintain, VB)...</td>\n",
       "      <td>potassium helps maintain healthy muscles.</td>\n",
       "      <td>[40]</td>\n",
       "      <td>1</td>\n",
       "      <td>[40]</td>\n",
       "      <td>1</td>\n",
       "    </tr>\n",
       "  </tbody>\n",
       "</table>\n",
       "</div>"
      ],
      "text/plain": [
       "   counts                                        pos  \\\n",
       "0      52     [NN, NN, VBZ, VB, PRP$, NN, IN, NN, .]   \n",
       "1      37  [NN, VBZ, JJ, IN, DT, NN, IN, JJ, NNS, .]   \n",
       "2      27   [NN, VBZ, TO, DT, NN, IN, JJ, NN, NN, .]   \n",
       "3      21               [NN, NNS, IN, JJ, NN, NN, .]   \n",
       "4      20               [NN, VBZ, VB, JJ, NN, NN, .]   \n",
       "5      17      [NN, VBZ, TO, DT, NN, IN, JJ, NNS, .]   \n",
       "6      17            [NN, NN, VBZ, PRP$, NN, VBG, .]   \n",
       "7      17  [NN, VBZ, JJ, IN, DT, NN, IN, JJ, NNS, .]   \n",
       "8      17          [NN, NN, VBZ, TO, JJ, NN, NNS, .]   \n",
       "9      16                  [NN, VBZ, VB, JJ, NNS, .]   \n",
       "\n",
       "                                           hc_tagged  \\\n",
       "0  [(vitamin, NN), (b7, NN), (helps, VBZ), (turn,...   \n",
       "1  [(calcium, NN), (is, VBZ), (essential, JJ), (f...   \n",
       "2  [(potassium, NN), (contributes, VBZ), (to, TO)...   \n",
       "3  [(potassium, NN), (aids, NNS), (in, IN), (heal...   \n",
       "4  [(potassium, NN), (helps, VBZ), (support, VB),...   \n",
       "5  [(calcium, NN), (contributes, VBZ), (to, TO), ...   \n",
       "6  [(vitamin, NN), (b7, NN), (gets, VBZ), (your, ...   \n",
       "7  [(calcium, NN), (is, VBZ), (essential, JJ), (f...   \n",
       "8  [(vitamin, NN), (b7, NN), (contributes, VBZ), ...   \n",
       "9  [(potassium, NN), (helps, VBZ), (maintain, VB)...   \n",
       "\n",
       "                                                  hc           nutrient  \\\n",
       "0       vitamin b7 helps turn your food into energy.           [5, 335]   \n",
       "1  calcium is essential for the maintenance of he...  [39, 41, 90, 117]   \n",
       "2  potassium contributes to the maintenance of he...  [39, 40, 90, 117]   \n",
       "3         potassium aids in healthy muscle function.               [40]   \n",
       "4   potassium helps support healthy muscle function.               [40]   \n",
       "5  calcium contributes to the maintenance of heal...  [39, 41, 90, 117]   \n",
       "6             vitamin b7 gets your metabolism going.                 []   \n",
       "7  calcium is essential for the maintenance of st...  [39, 41, 90, 117]   \n",
       "8   vitamin b7 contributes to healthy energy levels.                [5]   \n",
       "9          potassium helps maintain healthy muscles.               [40]   \n",
       "\n",
       "   nutrient_num        nutrient_uk  nutrient_num_uk  \n",
       "0             2                [5]                1  \n",
       "1             4  [39, 41, 90, 117]                4  \n",
       "2             4  [39, 40, 90, 117]                4  \n",
       "3             1               [40]                1  \n",
       "4             1               [40]                1  \n",
       "5             4  [39, 41, 90, 117]                4  \n",
       "6             0                 []                0  \n",
       "7             4  [39, 41, 90, 117]                4  \n",
       "8             1                [5]                1  \n",
       "9             1               [40]                1  "
      ]
     },
     "execution_count": 107,
     "metadata": {},
     "output_type": "execute_result"
    }
   ],
   "source": [
    "hc_cus_count.loc[:,'nutrient'] = [[cat_index for cat_index in df_comb_nu.index if hc in df_comb_nu['hc_ids'][cat_index]] for hc in hc_cus_count.index]\n",
    "hc_cus_count.loc[:,'nutrient_num'] = [len(i) for i in hc_cus_count['nutrient']]\n",
    "hc_cus_count.head(10)"
   ]
  },
  {
   "cell_type": "code",
   "execution_count": 108,
   "metadata": {},
   "outputs": [
    {
     "data": {
      "text/plain": [
       "1    24\n",
       "4    21\n",
       "2    15\n",
       "3    12\n",
       "6    10\n",
       "5     9\n",
       "0     6\n",
       "Name: nutrient_num, dtype: int64"
      ]
     },
     "execution_count": 108,
     "metadata": {},
     "output_type": "execute_result"
    }
   ],
   "source": [
    "hc_cus_count.nutrient_num.value_counts()"
   ]
  },
  {
   "cell_type": "code",
   "execution_count": 110,
   "metadata": {},
   "outputs": [
    {
     "data": {
      "text/plain": [
       "39                                [sodium, nan]\n",
       "41                                [calcium, ca]\n",
       "90       [c11:0 ex br /100g fa, fac11:0xb, nan]\n",
       "117    [c11:0 ex br /100g food, fod11:0xb, nan]\n",
       "Name: nutrients, dtype: object"
      ]
     },
     "execution_count": 110,
     "metadata": {},
     "output_type": "execute_result"
    }
   ],
   "source": [
    "df_comb_nu.nutrients[hc_cus_count.nutrient[7]]"
   ]
  },
  {
   "cell_type": "code",
   "execution_count": 111,
   "metadata": {},
   "outputs": [
    {
     "data": {
      "text/plain": [
       "'calcium is essential for the maintenance of strong bones.'"
      ]
     },
     "execution_count": 111,
     "metadata": {},
     "output_type": "execute_result"
    }
   ],
   "source": [
    "hc_cus_count.hc[7]"
   ]
  },
  {
   "cell_type": "markdown",
   "metadata": {},
   "source": [
    "# Topic Modelling"
   ]
  },
  {
   "cell_type": "code",
   "execution_count": 13,
   "metadata": {},
   "outputs": [],
   "source": [
    "#removing stop words\n",
    "def get_lemma(word):\n",
    "    lemma = wordnet.morphy(word)\n",
    "    if lemma is None:\n",
    "        return word\n",
    "    else:\n",
    "        return lemma\n",
    "\n",
    "def getTokens(hc):\n",
    "    tokens = word_tokenize(hc)\n",
    "    tokens = [get_lemma(w).lower() for w in tokens if w not in stopwordEn and w.isalpha()]\n",
    "    return tokens"
   ]
  },
  {
   "cell_type": "code",
   "execution_count": 210,
   "metadata": {},
   "outputs": [
    {
     "data": {
      "text/plain": [
       "526"
      ]
     },
     "execution_count": 210,
     "metadata": {},
     "output_type": "execute_result"
    }
   ],
   "source": [
    "text_data = []\n",
    "for hc in df_hc_cus.hc:\n",
    "    tokens = getTokens(hc)\n",
    "    text_data.append(tokens)\n",
    "len(text_data)"
   ]
  },
  {
   "cell_type": "code",
   "execution_count": 211,
   "metadata": {},
   "outputs": [],
   "source": [
    "from gensim import corpora\n",
    "dictionary = corpora.Dictionary(text_data)\n",
    "corpus = [dictionary.doc2bow(text) for text in text_data]"
   ]
  },
  {
   "cell_type": "code",
   "execution_count": 214,
   "metadata": {},
   "outputs": [
    {
     "name": "stdout",
     "output_type": "stream",
     "text": [
      "(0, '0.264*\"keep\" + 0.169*\"muscle\" + 0.169*\"potassium\" + 0.169*\"functioning\" + 0.121*\"properly\"')\n",
      "(1, '0.199*\"calcium\" + 0.199*\"bones\" + 0.196*\"maintenance\" + 0.120*\"healthy\" + 0.097*\"essential\"')\n",
      "(2, '0.041*\"maintenance\" + 0.039*\"bones\" + 0.039*\"calcium\" + 0.028*\"strong\" + 0.028*\"healthy\"')\n",
      "(3, '0.206*\"metabolism\" + 0.171*\"vitamin\" + 0.128*\"contribute\" + 0.108*\"healthy\" + 0.101*\"going\"')\n",
      "(4, '0.190*\"help\" + 0.168*\"potassium\" + 0.168*\"muscle\" + 0.141*\"healthy\" + 0.093*\"function\"')\n",
      "(5, '0.330*\"normal\" + 0.124*\"contribute\" + 0.115*\"potassium\" + 0.115*\"muscle\" + 0.114*\"function\"')\n",
      "(6, '0.233*\"healthy\" + 0.205*\"great\" + 0.179*\"heart\" + 0.085*\"cholesterol\" + 0.082*\"maintenance\"')\n",
      "(7, '0.168*\"level\" + 0.134*\"cholesterol\" + 0.125*\"maintenance\" + 0.115*\"healthy\" + 0.104*\"contribute\"')\n",
      "(8, '0.208*\"necessary\" + 0.204*\"bones\" + 0.204*\"calcium\" + 0.177*\"maintenance\" + 0.146*\"healthy\"')\n",
      "(9, '0.179*\"muscle\" + 0.179*\"potassium\" + 0.179*\"function\" + 0.147*\"healthy\" + 0.095*\"maintenance\"')\n",
      "(10, '0.266*\"cholesterol\" + 0.168*\"lower\" + 0.148*\"help\" + 0.101*\"ala\" + 0.078*\"healthy\"')\n",
      "(11, '0.199*\"energy\" + 0.190*\"vitamin\" + 0.187*\"food\" + 0.160*\"help\" + 0.160*\"turn\"')\n"
     ]
    }
   ],
   "source": [
    "import gensim\n",
    "NUM_TOPICS = 12\n",
    "ldamodel = gensim.models.ldamodel.LdaModel(corpus, num_topics = NUM_TOPICS, id2word=dictionary, passes=15)\n",
    "# ldamodel.save('model5.gensim')\n",
    "topics = ldamodel.print_topics(num_words=5)\n",
    "for topic in topics:\n",
    "    print(topic)"
   ]
  },
  {
   "cell_type": "code",
   "execution_count": 215,
   "metadata": {},
   "outputs": [
    {
     "data": {
      "text/html": [
       "\n",
       "<link rel=\"stylesheet\" type=\"text/css\" href=\"https://cdn.rawgit.com/bmabey/pyLDAvis/files/ldavis.v1.0.0.css\">\n",
       "\n",
       "\n",
       "<div id=\"ldavis_el2048825833040196646014696956\"></div>\n",
       "<script type=\"text/javascript\">\n",
       "\n",
       "var ldavis_el2048825833040196646014696956_data = {\"mdsDat\": {\"x\": [0.3719605375094026, -0.10048536316741388, -0.01934054523440132, -0.11804592355415851, 0.19995643112701825, 0.21974638801081645, -0.17431444788447298, -0.20007093188182762, -0.09357361057217603, 0.2198470295824309, -0.17472935925131136, -0.13095020468390664], \"y\": [-0.07671345829978275, 0.2987927075950943, -0.002021870036049111, -0.1387420378585802, -0.08465454781699495, 0.04359287879892965, 0.04288026795792143, -0.0033522860120593283, 0.2884658359899872, 0.08138168450342909, -0.1488304535008718, -0.3007987213210232], \"topics\": [1, 2, 3, 4, 5, 6, 7, 8, 9, 10, 11, 12], \"cluster\": [1, 1, 1, 1, 1, 1, 1, 1, 1, 1, 1, 1], \"Freq\": [5.229283809661865, 19.811080932617188, 1.3917176723480225, 8.276445388793945, 9.977924346923828, 2.828526020050049, 6.037604331970215, 12.756482124328613, 4.305832862854004, 12.012306213378906, 5.83525276184082, 11.53754997253418]}, \"tinfo\": {\"Category\": [\"Default\", \"Default\", \"Default\", \"Default\", \"Default\", \"Default\", \"Default\", \"Default\", \"Default\", \"Default\", \"Default\", \"Default\", \"Default\", \"Default\", \"Default\", \"Default\", \"Default\", \"Default\", \"Default\", \"Default\", \"Default\", \"Default\", \"Default\", \"Default\", \"Default\", \"Default\", \"Default\", \"Default\", \"Default\", \"Default\", \"Topic1\", \"Topic1\", \"Topic1\", \"Topic1\", \"Topic1\", \"Topic1\", \"Topic1\", \"Topic1\", \"Topic1\", \"Topic1\", \"Topic1\", \"Topic1\", \"Topic1\", \"Topic1\", \"Topic1\", \"Topic1\", \"Topic1\", \"Topic1\", \"Topic1\", \"Topic1\", \"Topic1\", \"Topic1\", \"Topic1\", \"Topic1\", \"Topic1\", \"Topic1\", \"Topic1\", \"Topic1\", \"Topic1\", \"Topic1\", \"Topic1\", \"Topic1\", \"Topic1\", \"Topic1\", \"Topic1\", \"Topic1\", \"Topic1\", \"Topic1\", \"Topic1\", \"Topic1\", \"Topic1\", \"Topic1\", \"Topic1\", \"Topic1\", \"Topic1\", \"Topic1\", \"Topic2\", \"Topic2\", \"Topic2\", \"Topic2\", \"Topic2\", \"Topic2\", \"Topic2\", \"Topic2\", \"Topic2\", \"Topic2\", \"Topic2\", \"Topic2\", \"Topic2\", \"Topic2\", \"Topic2\", \"Topic2\", \"Topic2\", \"Topic2\", \"Topic2\", \"Topic2\", \"Topic2\", \"Topic2\", \"Topic2\", \"Topic2\", \"Topic2\", \"Topic2\", \"Topic2\", \"Topic2\", \"Topic2\", \"Topic2\", \"Topic2\", \"Topic2\", \"Topic2\", \"Topic2\", \"Topic2\", \"Topic2\", \"Topic2\", \"Topic2\", \"Topic2\", \"Topic2\", \"Topic2\", \"Topic2\", \"Topic2\", \"Topic3\", \"Topic3\", \"Topic3\", \"Topic3\", \"Topic3\", \"Topic3\", \"Topic3\", \"Topic3\", \"Topic3\", \"Topic3\", \"Topic3\", \"Topic3\", \"Topic3\", \"Topic3\", \"Topic3\", \"Topic3\", \"Topic3\", \"Topic3\", \"Topic3\", \"Topic3\", \"Topic3\", \"Topic3\", \"Topic3\", \"Topic3\", \"Topic3\", \"Topic3\", \"Topic3\", \"Topic3\", \"Topic3\", \"Topic3\", \"Topic3\", \"Topic3\", \"Topic3\", \"Topic3\", \"Topic3\", \"Topic3\", \"Topic3\", \"Topic3\", \"Topic3\", \"Topic3\", \"Topic3\", \"Topic3\", \"Topic3\", \"Topic3\", \"Topic3\", \"Topic4\", \"Topic4\", \"Topic4\", \"Topic4\", \"Topic4\", \"Topic4\", \"Topic4\", \"Topic4\", \"Topic4\", \"Topic4\", \"Topic4\", \"Topic4\", \"Topic4\", \"Topic4\", \"Topic4\", \"Topic4\", \"Topic4\", \"Topic4\", \"Topic4\", \"Topic4\", \"Topic4\", \"Topic4\", \"Topic4\", \"Topic4\", \"Topic4\", \"Topic4\", \"Topic4\", \"Topic4\", \"Topic4\", \"Topic4\", \"Topic4\", \"Topic4\", \"Topic4\", \"Topic4\", \"Topic4\", \"Topic4\", \"Topic4\", \"Topic4\", \"Topic4\", \"Topic4\", \"Topic4\", \"Topic4\", \"Topic4\", \"Topic5\", \"Topic5\", \"Topic5\", \"Topic5\", \"Topic5\", \"Topic5\", \"Topic5\", \"Topic5\", \"Topic5\", \"Topic5\", \"Topic5\", \"Topic5\", \"Topic5\", \"Topic5\", \"Topic5\", \"Topic5\", \"Topic5\", \"Topic5\", \"Topic5\", \"Topic5\", \"Topic5\", \"Topic5\", \"Topic5\", \"Topic5\", \"Topic5\", \"Topic5\", \"Topic5\", \"Topic5\", \"Topic5\", \"Topic5\", \"Topic5\", \"Topic5\", \"Topic5\", \"Topic5\", \"Topic5\", \"Topic5\", \"Topic5\", \"Topic5\", \"Topic5\", \"Topic5\", \"Topic5\", \"Topic5\", \"Topic6\", \"Topic6\", \"Topic6\", \"Topic6\", \"Topic6\", \"Topic6\", \"Topic6\", \"Topic6\", \"Topic6\", \"Topic6\", \"Topic6\", \"Topic6\", \"Topic6\", \"Topic6\", \"Topic6\", \"Topic6\", \"Topic6\", \"Topic6\", \"Topic6\", \"Topic6\", \"Topic6\", \"Topic6\", \"Topic6\", \"Topic6\", \"Topic6\", \"Topic6\", \"Topic6\", \"Topic6\", \"Topic6\", \"Topic6\", \"Topic6\", \"Topic6\", \"Topic6\", \"Topic6\", \"Topic6\", \"Topic6\", \"Topic6\", \"Topic6\", \"Topic6\", \"Topic6\", \"Topic6\", \"Topic6\", \"Topic6\", \"Topic6\", \"Topic6\", \"Topic7\", \"Topic7\", \"Topic7\", \"Topic7\", \"Topic7\", \"Topic7\", \"Topic7\", \"Topic7\", \"Topic7\", \"Topic7\", \"Topic7\", \"Topic7\", \"Topic7\", \"Topic7\", \"Topic7\", \"Topic7\", \"Topic7\", \"Topic7\", \"Topic7\", \"Topic7\", \"Topic7\", \"Topic7\", \"Topic7\", \"Topic7\", \"Topic7\", \"Topic7\", \"Topic7\", \"Topic7\", \"Topic7\", \"Topic7\", \"Topic7\", \"Topic7\", \"Topic7\", \"Topic7\", \"Topic7\", \"Topic7\", \"Topic7\", \"Topic7\", \"Topic7\", \"Topic7\", \"Topic7\", \"Topic7\", \"Topic7\", \"Topic7\", \"Topic8\", \"Topic8\", \"Topic8\", \"Topic8\", \"Topic8\", \"Topic8\", \"Topic8\", \"Topic8\", \"Topic8\", \"Topic8\", \"Topic8\", \"Topic8\", \"Topic8\", \"Topic8\", \"Topic8\", \"Topic8\", \"Topic8\", \"Topic8\", \"Topic8\", \"Topic8\", \"Topic8\", \"Topic8\", \"Topic8\", \"Topic8\", \"Topic8\", \"Topic8\", \"Topic8\", \"Topic8\", \"Topic8\", \"Topic8\", \"Topic8\", \"Topic8\", \"Topic8\", \"Topic8\", \"Topic8\", \"Topic8\", \"Topic8\", \"Topic8\", \"Topic8\", \"Topic8\", \"Topic8\", \"Topic8\", \"Topic9\", \"Topic9\", \"Topic9\", \"Topic9\", \"Topic9\", \"Topic9\", \"Topic9\", \"Topic9\", \"Topic9\", \"Topic9\", \"Topic9\", \"Topic9\", \"Topic9\", \"Topic9\", \"Topic9\", \"Topic9\", \"Topic9\", \"Topic9\", \"Topic9\", \"Topic9\", \"Topic9\", \"Topic9\", \"Topic9\", \"Topic9\", \"Topic9\", \"Topic9\", \"Topic9\", \"Topic9\", \"Topic9\", \"Topic9\", \"Topic9\", \"Topic9\", \"Topic9\", \"Topic9\", \"Topic9\", \"Topic9\", \"Topic9\", \"Topic9\", \"Topic9\", \"Topic9\", \"Topic9\", \"Topic9\", \"Topic9\", \"Topic9\", \"Topic9\", \"Topic10\", \"Topic10\", \"Topic10\", \"Topic10\", \"Topic10\", \"Topic10\", \"Topic10\", \"Topic10\", \"Topic10\", \"Topic10\", \"Topic10\", \"Topic10\", \"Topic10\", \"Topic10\", \"Topic10\", \"Topic10\", \"Topic10\", \"Topic10\", \"Topic10\", \"Topic10\", \"Topic10\", \"Topic10\", \"Topic10\", \"Topic10\", \"Topic10\", \"Topic10\", \"Topic10\", \"Topic10\", \"Topic10\", \"Topic10\", \"Topic10\", \"Topic10\", \"Topic10\", \"Topic10\", \"Topic10\", \"Topic10\", \"Topic10\", \"Topic10\", \"Topic10\", \"Topic10\", \"Topic10\", \"Topic10\", \"Topic10\", \"Topic10\", \"Topic11\", \"Topic11\", \"Topic11\", \"Topic11\", \"Topic11\", \"Topic11\", \"Topic11\", \"Topic11\", \"Topic11\", \"Topic11\", \"Topic11\", \"Topic11\", \"Topic11\", \"Topic11\", \"Topic11\", \"Topic11\", \"Topic11\", \"Topic11\", \"Topic11\", \"Topic11\", \"Topic11\", \"Topic11\", \"Topic11\", \"Topic11\", \"Topic11\", \"Topic11\", \"Topic11\", \"Topic11\", \"Topic11\", \"Topic11\", \"Topic11\", \"Topic11\", \"Topic11\", \"Topic11\", \"Topic11\", \"Topic11\", \"Topic11\", \"Topic11\", \"Topic11\", \"Topic11\", \"Topic11\", \"Topic11\", \"Topic12\", \"Topic12\", \"Topic12\", \"Topic12\", \"Topic12\", \"Topic12\", \"Topic12\", \"Topic12\", \"Topic12\", \"Topic12\", \"Topic12\", \"Topic12\", \"Topic12\", \"Topic12\", \"Topic12\", \"Topic12\", \"Topic12\", \"Topic12\", \"Topic12\", \"Topic12\", \"Topic12\", \"Topic12\", \"Topic12\", \"Topic12\", \"Topic12\", \"Topic12\", \"Topic12\", \"Topic12\", \"Topic12\", \"Topic12\", \"Topic12\", \"Topic12\", \"Topic12\", \"Topic12\", \"Topic12\", \"Topic12\", \"Topic12\", \"Topic12\", \"Topic12\", \"Topic12\", \"Topic12\", \"Topic12\", \"Topic12\"], \"Freq\": [128.0, 128.0, 132.0, 132.0, 99.0, 213.0, 128.0, 114.0, 65.0, 90.0, 96.0, 58.0, 81.0, 46.0, 128.0, 37.0, 49.0, 278.0, 33.0, 51.0, 29.0, 24.0, 27.0, 24.0, 37.0, 38.0, 36.0, 36.0, 30.0, 23.0, 36.043312072753906, 22.998512268066406, 16.448301315307617, 6.641220569610596, 2.273719310760498, 2.273719310760498, 22.998580932617188, 22.998580932617188, 0.09103142470121384, 0.09103143215179443, 0.09103143215179443, 0.09103143215179443, 0.09103143960237503, 0.09103289991617203, 0.09103143215179443, 0.21574267745018005, 0.09103144705295563, 0.09103144705295563, 0.09103146195411682, 0.09103145450353622, 0.09103145450353622, 0.09103146195411682, 0.09103146940469742, 0.11360959708690643, 0.09103146195411682, 0.09305747598409653, 0.09305746853351593, 0.09103148430585861, 0.09103147685527802, 0.09103146195411682, 0.1448170244693756, 0.09508354216814041, 0.09721267223358154, 0.09721256047487259, 0.09573528915643692, 0.09710997343063354, 0.09508374333381653, 0.0930575281381607, 0.09305761754512787, 0.09305766224861145, 0.09341167658567429, 0.0910317450761795, 0.09103157371282578, 0.0910315066576004, 0.0910315066576004, 0.0910315066576004, 50.10165786743164, 34.293426513671875, 103.05550384521484, 103.05516815185547, 5.340463638305664, 5.340463638305664, 101.51709747314453, 13.220844268798828, 12.36016845703125, 62.225486755371094, 18.087190628051758, 5.521602630615234, 0.07435392588376999, 0.07324744015932083, 0.07324744015932083, 0.07324744760990143, 0.07324744760990143, 0.07324744760990143, 0.07873464375734329, 0.07324744760990143, 0.07324744760990143, 0.07324744760990143, 0.07324746251106262, 0.07324746996164322, 0.07324746996164322, 0.07324746251106262, 0.07324763387441635, 0.07324746996164322, 0.07487761974334717, 0.07430446147918701, 0.07976827770471573, 0.07976824045181274, 0.08302882313728333, 0.08139850199222565, 0.08256956934928894, 0.08024050295352936, 0.07650784403085709, 0.07517664134502411, 0.07487767189741135, 0.07445111125707626, 0.07324759662151337, 0.07324758917093277, 0.07324753701686859, 0.6947912573814392, 0.6600407361984253, 0.6600407361984253, 0.7094855308532715, 0.7041102051734924, 0.7041102051734924, 0.6600407361984253, 0.6600407361984253, 0.6747304797172546, 0.6600407958030701, 0.6600409150123596, 0.6600409150123596, 0.6600409150123596, 0.7643094658851624, 0.6600409150123596, 0.6600409150123596, 1.0054410696029663, 0.749697744846344, 0.704110324382782, 0.6600409150123596, 0.9625558257102966, 0.6914668083190918, 0.660041093826294, 0.6894205808639526, 0.7334913611412048, 0.6747305393218994, 0.6753085255622864, 0.6600412130355835, 0.9097784757614136, 0.8657028079032898, 1.4213025569915771, 1.421234130859375, 0.8657007217407227, 1.4955767393112183, 0.8418645262718201, 0.9924892783164978, 0.8657112121582031, 0.8657119870185852, 0.9988753199577332, 0.8091594576835632, 0.7481858134269714, 0.7041114568710327, 0.7041112780570984, 0.7041113972663879, 0.7041113972663879, 44.550804138183594, 21.826513290405273, 21.826513290405273, 12.38963508605957, 5.0158162117004395, 36.84795379638672, 27.565414428710938, 15.874954223632812, 23.288516998291016, 3.285374164581299, 0.08244743198156357, 0.08244743943214417, 0.08244743198156357, 0.08244743943214417, 0.08244743943214417, 0.08244743943214417, 0.08244743943214417, 0.08244744688272476, 0.08244743943214417, 0.08431360125541687, 0.1345963180065155, 0.08244744688272476, 0.08611731976270676, 0.08244745433330536, 0.2567555606365204, 0.08244752138853073, 0.08244752883911133, 0.09712708741426468, 0.08244748413562775, 0.08244751393795013, 0.08611738681793213, 0.1174532100558281, 0.14522503316402435, 0.09162221103906631, 0.10630203038454056, 0.1063019409775734, 0.08428243547677994, 0.08428240567445755, 0.08428918570280075, 0.0824476107954979, 0.08244756609201431, 0.08244756609201431, 0.08244755864143372, 24.236738204956055, 24.297576904296875, 2.0141677856445312, 49.321189880371094, 43.64548873901367, 43.6453971862793, 24.302213668823242, 8.793771743774414, 36.72761535644531, 0.08078856766223907, 0.08078856766223907, 0.08504265546798706, 0.08078857511281967, 0.08078857511281967, 0.08258657157421112, 0.08078857511281967, 0.08078858256340027, 0.08078858256340027, 0.18059387803077698, 0.0825866088271141, 0.08078859001398087, 0.08438461273908615, 0.10056684166193008, 0.1005668193101883, 0.08438459038734436, 0.08078860491514206, 0.0825866311788559, 0.08078863471746445, 0.09583090245723724, 0.08180151134729385, 0.10056662559509277, 0.08622407168149948, 0.10236524045467377, 0.08977916091680527, 0.08438463509082794, 0.0861828550696373, 0.08438467234373093, 0.0843847393989563, 0.08260554820299149, 0.0826055258512497, 0.08258673548698425, 0.08258665353059769, 24.372970581054688, 3.0841736793518066, 8.430401802062988, 9.146441459655762, 8.465211868286133, 8.465210914611816, 0.14623576402664185, 0.14623576402664185, 0.14623576402664185, 5.830103397369385, 0.14623577892780304, 0.14623600244522095, 0.14623600244522095, 0.14623579382896423, 0.14623577892780304, 0.14623580873012543, 0.15599960088729858, 0.15275713801383972, 0.14623580873012543, 0.14623579382896423, 0.14623583853244781, 0.14623580873012543, 0.15599963068962097, 0.14623580873012543, 0.14623583853244781, 0.1462358981370926, 0.146235853433609, 0.17191515862941742, 0.1462358832359314, 0.1527450680732727, 0.14949995279312134, 0.22704212367534637, 0.1791733205318451, 0.17917309701442719, 0.17264407873153687, 0.1560049206018448, 0.15274786949157715, 0.1560058742761612, 0.14949138462543488, 0.14949087798595428, 0.1494908332824707, 0.146236851811409, 0.14623640477657318, 0.14623622596263885, 0.1462358981370926, 32.34285354614258, 28.119413375854492, 6.139209747314453, 12.595231056213379, 5.495876312255859, 13.330351829528809, 36.6683464050293, 12.979074478149414, 6.240208148956299, 0.08412692695856094, 0.08412636816501617, 0.08412636816501617, 0.08412879705429077, 0.08412478119134903, 0.08412478119134903, 0.08412478119134903, 0.23494496941566467, 0.08412537723779678, 0.08412478864192963, 0.08412478864192963, 0.08412481099367142, 0.08412480354309082, 0.23905602097511292, 0.08412481844425201, 0.08412480354309082, 0.0859970822930336, 0.08412481099367142, 0.11627969890832901, 0.08412483334541321, 0.09161389619112015, 0.08804482221603394, 0.08974169939756393, 0.09348627924919128, 0.09535869210958481, 0.09535858780145645, 0.09348631650209427, 0.09348631650209427, 0.09161416441202164, 0.08974173665046692, 0.08974184095859528, 0.08786939829587936, 0.08786938339471817, 0.08655373007059097, 0.08599711954593658, 8.5128755569458, 56.004329681396484, 22.584083557128906, 14.920132637023926, 44.45866012573242, 13.806122779846191, 34.515846252441406, 17.393762588500977, 19.043664932250977, 41.570072174072266, 18.703590393066406, 38.202781677246094, 0.07829969376325607, 0.07829970121383667, 0.07829970121383667, 0.08089083433151245, 0.07829970121383667, 0.07829970121383667, 0.07829970121383667, 0.0817849263548851, 0.07829970866441727, 0.08527021110057831, 0.0782998651266098, 0.0817849263548851, 0.0852702409029007, 0.08004233986139297, 0.08004232496023178, 0.0922405868768692, 0.08178497105836868, 0.11864175647497177, 0.11247929185628891, 0.1344342976808548, 0.0904981940984726, 0.09398339688777924, 0.10095410794019699, 0.10095395892858505, 0.09049812704324722, 0.08583560585975647, 0.09049836546182632, 0.09049804508686066, 0.0870128870010376, 0.08352760970592499, 23.310699462890625, 22.893264770507812, 22.893217086791992, 19.911827087402344, 16.44923973083496, 2.549539089202881, 0.10198284685611725, 0.10198284685611725, 0.10198283940553665, 0.10198284685611725, 0.10198284685611725, 0.10198284685611725, 0.10198285430669785, 0.10198284685611725, 0.10198285430669785, 0.10652227699756622, 0.10198285430669785, 0.10198286920785904, 0.10198287665843964, 0.10198288410902023, 0.10198288410902023, 0.13236308097839355, 0.10198286920785904, 0.10198289155960083, 0.10198290646076202, 0.10198289155960083, 0.10198292881250381, 0.11189266294240952, 0.10198289155960083, 0.10198649764060974, 0.14095377922058105, 0.1156013235449791, 0.14083868265151978, 0.14083734154701233, 0.10652235150337219, 0.11560197919607162, 0.10882936418056488, 0.10652253031730652, 0.10652255266904831, 0.10198390483856201, 0.10198337584733963, 0.10198301076889038, 0.10198294371366501, 0.10198294371366501, 0.10198289901018143, 9.684774398803711, 26.310916900634766, 56.05261993408203, 56.05927276611328, 56.05916213989258, 29.858491897583008, 46.174041748046875, 29.87680435180664, 0.08011351525783539, 0.08011351525783539, 0.08011351525783539, 0.08011352270841599, 0.08011352270841599, 0.08011352270841599, 0.08011353015899658, 0.08011352270841599, 0.0927693322300911, 0.08189653605222702, 0.08189652860164642, 0.08724553138017654, 0.08724547177553177, 0.08011355251073837, 0.08011355251073837, 0.08367954194545746, 0.08011355251073837, 0.08367954194545746, 0.08011356741189957, 0.09363637864589691, 0.09324727952480316, 0.08011357486248016, 0.08797186613082886, 0.08902860432863235, 0.09777595102787018, 0.09259466826915741, 0.0925946906208992, 0.08546259254217148, 0.08546267449855804, 0.08546271920204163, 0.08546265214681625, 0.08367956429719925, 0.08367960900068283, 0.08367957919836044, 0.08189657330513, 0.08189653605222702, 25.608417510986328, 15.397261619567871, 40.48578643798828, 9.273839950561523, 11.322211265563965, 22.57117462158203, 11.16097640991211, 11.865190505981445, 0.0851857140660286, 0.08708149939775467, 0.08708149939775467, 1.2624865770339966, 0.08519113808870316, 0.08708151429891586, 0.08708149939775467, 0.08518562465906143, 0.08518562465906143, 0.08518566191196442, 0.08518563210964203, 0.08518564701080322, 0.08518565446138382, 0.08708152920007706, 0.08518566191196442, 0.08518566191196442, 0.08708151429891586, 0.08518565446138382, 0.08766743540763855, 0.08518566936254501, 0.09727238118648529, 0.08518568426370621, 0.08708157390356064, 0.09946233034133911, 0.09911392629146576, 0.09248889237642288, 0.09248877316713333, 0.09024256467819214, 0.08708160370588303, 0.08708157390356064, 0.08708169311285019, 0.08708164095878601, 0.08636758476495743, 0.08518578857183456, 56.28110122680664, 48.12162399291992, 12.767695426940918, 59.78303909301758, 57.19029998779297, 48.15077590942383, 8.182393074035645, 0.5809428691864014, 0.07562877982854843, 5.790764808654785, 0.07562877237796783, 0.07562877237796783, 0.9477458596229553, 0.07562877982854843, 0.07562877982854843, 0.07562877982854843, 0.07562877982854843, 0.07562877982854843, 0.07731197029352188, 0.07562877982854843, 0.0840446725487709, 0.08404461294412613, 0.08236148208379745, 0.07562881708145142, 0.07562879472970963, 0.07731197029352188, 0.10317608714103699, 0.07562883198261261, 0.08236151188611984, 0.08980876952409744, 0.1310092806816101, 0.0874110609292984, 0.08572790771722794, 0.09077741205692291, 0.10830822587013245, 0.11495835334062576, 0.11495830863714218, 0.11675102263689041, 0.09077750891447067, 0.09246081113815308, 0.09246069192886353, 0.08067832887172699, 0.08067832887172699], \"Term\": [\"calcium\", \"bones\", \"potassium\", \"muscle\", \"cholesterol\", \"maintenance\", \"help\", \"vitamin\", \"normal\", \"function\", \"energy\", \"food\", \"level\", \"metabolism\", \"contribute\", \"keep\", \"turn\", \"healthy\", \"great\", \"essential\", \"heart\", \"necessary\", \"lower\", \"functioning\", \"maintain\", \"support\", \"strong\", \"ala\", \"aids\", \"get\", \"keep\", \"functioning\", \"properly\", \"mean\", \"normally\", \"working\", \"potassium\", \"muscle\", \"health\", \"acid\", \"role\", \"play\", \"stay\", \"low\", \"proper\", \"heart\", \"release\", \"biotin\", \"get\", \"going\", \"necessary\", \"blood\", \"lower\", \"ala\", \"aids\", \"great\", \"strong\", \"maintain\", \"need\", \"support\", \"normal\", \"essential\", \"bones\", \"calcium\", \"cholesterol\", \"maintenance\", \"contribute\", \"level\", \"energy\", \"vitamin\", \"healthy\", \"help\", \"function\", \"metabolism\", \"food\", \"turn\", \"essential\", \"strong\", \"calcium\", \"bones\", \"role\", \"play\", \"maintenance\", \"need\", \"support\", \"healthy\", \"contribute\", \"normal\", \"health\", \"working\", \"normally\", \"acid\", \"stay\", \"mean\", \"low\", \"proper\", \"release\", \"biotin\", \"properly\", \"get\", \"going\", \"functioning\", \"necessary\", \"blood\", \"lower\", \"heart\", \"turn\", \"food\", \"vitamin\", \"energy\", \"help\", \"cholesterol\", \"metabolism\", \"keep\", \"ala\", \"maintain\", \"potassium\", \"muscle\", \"function\", \"health\", \"normally\", \"working\", \"acid\", \"play\", \"role\", \"stay\", \"mean\", \"low\", \"proper\", \"release\", \"biotin\", \"properly\", \"necessary\", \"get\", \"going\", \"strong\", \"lower\", \"blood\", \"functioning\", \"need\", \"heart\", \"aids\", \"great\", \"support\", \"ala\", \"maintain\", \"keep\", \"essential\", \"turn\", \"bones\", \"calcium\", \"food\", \"maintenance\", \"normal\", \"help\", \"energy\", \"vitamin\", \"healthy\", \"cholesterol\", \"contribute\", \"level\", \"function\", \"potassium\", \"muscle\", \"metabolism\", \"get\", \"going\", \"biotin\", \"acid\", \"vitamin\", \"contribute\", \"energy\", \"healthy\", \"normal\", \"health\", \"normally\", \"working\", \"play\", \"role\", \"stay\", \"mean\", \"low\", \"proper\", \"release\", \"blood\", \"properly\", \"necessary\", \"functioning\", \"level\", \"lower\", \"heart\", \"strong\", \"aids\", \"great\", \"need\", \"cholesterol\", \"maintenance\", \"essential\", \"bones\", \"calcium\", \"maintain\", \"support\", \"help\", \"food\", \"potassium\", \"muscle\", \"function\", \"maintain\", \"support\", \"health\", \"help\", \"potassium\", \"muscle\", \"function\", \"normal\", \"healthy\", \"normally\", \"working\", \"acid\", \"role\", \"play\", \"stay\", \"mean\", \"low\", \"proper\", \"heart\", \"biotin\", \"release\", \"properly\", \"going\", \"get\", \"functioning\", \"necessary\", \"blood\", \"lower\", \"great\", \"aids\", \"metabolism\", \"keep\", \"vitamin\", \"maintenance\", \"turn\", \"contribute\", \"food\", \"energy\", \"calcium\", \"bones\", \"cholesterol\", \"level\", \"normal\", \"aids\", \"function\", \"contribute\", \"potassium\", \"muscle\", \"health\", \"normally\", \"working\", \"maintenance\", \"acid\", \"role\", \"play\", \"stay\", \"mean\", \"low\", \"proper\", \"release\", \"biotin\", \"properly\", \"get\", \"going\", \"necessary\", \"functioning\", \"blood\", \"lower\", \"heart\", \"maintain\", \"great\", \"strong\", \"keep\", \"healthy\", \"calcium\", \"bones\", \"help\", \"energy\", \"food\", \"vitamin\", \"support\", \"metabolism\", \"essential\", \"cholesterol\", \"ala\", \"need\", \"turn\", \"great\", \"heart\", \"stay\", \"level\", \"ala\", \"cholesterol\", \"healthy\", \"maintenance\", \"help\", \"health\", \"working\", \"normally\", \"acid\", \"role\", \"play\", \"mean\", \"blood\", \"low\", \"proper\", \"release\", \"biotin\", \"properly\", \"normal\", \"get\", \"going\", \"necessary\", \"functioning\", \"need\", \"lower\", \"aids\", \"maintain\", \"essential\", \"function\", \"muscle\", \"potassium\", \"calcium\", \"bones\", \"contribute\", \"energy\", \"vitamin\", \"turn\", \"food\", \"keep\", \"strong\", \"low\", \"level\", \"need\", \"blood\", \"cholesterol\", \"ala\", \"contribute\", \"normal\", \"energy\", \"maintenance\", \"vitamin\", \"healthy\", \"health\", \"working\", \"normally\", \"acid\", \"play\", \"role\", \"stay\", \"mean\", \"proper\", \"release\", \"biotin\", \"properly\", \"functioning\", \"get\", \"going\", \"lower\", \"necessary\", \"keep\", \"maintain\", \"help\", \"support\", \"food\", \"potassium\", \"muscle\", \"turn\", \"great\", \"calcium\", \"bones\", \"function\", \"metabolism\", \"necessary\", \"bones\", \"calcium\", \"maintenance\", \"healthy\", \"normal\", \"health\", \"working\", \"normally\", \"acid\", \"play\", \"role\", \"stay\", \"mean\", \"low\", \"proper\", \"release\", \"biotin\", \"properly\", \"going\", \"get\", \"aids\", \"functioning\", \"blood\", \"lower\", \"heart\", \"great\", \"support\", \"ala\", \"strong\", \"function\", \"essential\", \"potassium\", \"muscle\", \"metabolism\", \"contribute\", \"help\", \"energy\", \"vitamin\", \"maintain\", \"keep\", \"cholesterol\", \"level\", \"food\", \"need\", \"proper\", \"aids\", \"function\", \"muscle\", \"potassium\", \"contribute\", \"healthy\", \"maintenance\", \"health\", \"normally\", \"working\", \"acid\", \"role\", \"play\", \"stay\", \"mean\", \"low\", \"release\", \"biotin\", \"properly\", \"functioning\", \"get\", \"going\", \"blood\", \"necessary\", \"lower\", \"heart\", \"ala\", \"need\", \"great\", \"keep\", \"essential\", \"cholesterol\", \"bones\", \"calcium\", \"food\", \"energy\", \"vitamin\", \"help\", \"turn\", \"normal\", \"level\", \"metabolism\", \"strong\", \"lower\", \"ala\", \"cholesterol\", \"blood\", \"maintain\", \"help\", \"level\", \"healthy\", \"health\", \"normally\", \"working\", \"normal\", \"acid\", \"role\", \"play\", \"stay\", \"mean\", \"low\", \"proper\", \"release\", \"biotin\", \"properly\", \"going\", \"get\", \"functioning\", \"necessary\", \"heart\", \"aids\", \"keep\", \"great\", \"need\", \"bones\", \"calcium\", \"potassium\", \"muscle\", \"maintenance\", \"turn\", \"food\", \"vitamin\", \"energy\", \"essential\", \"contribute\", \"food\", \"turn\", \"release\", \"energy\", \"vitamin\", \"help\", \"contribute\", \"biotin\", \"health\", \"healthy\", \"working\", \"normally\", \"normal\", \"acid\", \"role\", \"play\", \"stay\", \"mean\", \"low\", \"proper\", \"properly\", \"functioning\", \"necessary\", \"get\", \"going\", \"blood\", \"maintain\", \"lower\", \"aids\", \"great\", \"level\", \"keep\", \"ala\", \"metabolism\", \"cholesterol\", \"potassium\", \"muscle\", \"maintenance\", \"function\", \"bones\", \"calcium\", \"support\", \"essential\"], \"Total\": [128.0, 128.0, 132.0, 132.0, 99.0, 213.0, 128.0, 114.0, 65.0, 90.0, 96.0, 58.0, 81.0, 46.0, 128.0, 37.0, 49.0, 278.0, 33.0, 51.0, 29.0, 24.0, 27.0, 24.0, 37.0, 38.0, 36.0, 36.0, 30.0, 23.0, 37.67653274536133, 24.574621200561523, 18.020925521850586, 8.192802429199219, 3.823712110519409, 3.823712110519409, 132.57284545898438, 132.57286071777344, 3.608365058898926, 6.628795146942139, 6.952308177947998, 6.952308177947998, 7.696009635925293, 10.108221054077148, 11.258091926574707, 29.93732261657715, 14.348334312438965, 14.455209732055664, 23.404714584350586, 23.404714584350586, 24.977638244628906, 25.9237003326416, 27.27115249633789, 36.153297424316406, 30.853483200073242, 33.96601867675781, 36.2315788269043, 37.14173889160156, 37.645877838134766, 38.25032043457031, 65.4366683959961, 51.97161865234375, 128.30352783203125, 128.30340576171875, 99.91427612304688, 213.7196502685547, 128.57762145996094, 81.43319702148438, 96.35102844238281, 114.41082000732422, 278.7113342285156, 128.03509521484375, 90.23348236083984, 46.16047668457031, 58.093563079833984, 49.922306060791016, 51.97161865234375, 36.2315788269043, 128.30340576171875, 128.30352783203125, 6.952308177947998, 6.952308177947998, 213.7196502685547, 37.645877838134766, 38.25032043457031, 278.7113342285156, 128.57762145996094, 65.4366683959961, 3.608365058898926, 3.823712110519409, 3.823712110519409, 6.628795146942139, 7.696009635925293, 8.192802429199219, 10.108221054077148, 11.258091926574707, 14.348334312438965, 14.455209732055664, 18.020925521850586, 23.404714584350586, 23.404714584350586, 24.574621200561523, 24.977638244628906, 25.9237003326416, 27.27115249633789, 29.93732261657715, 49.922306060791016, 58.093563079833984, 114.41082000732422, 96.35102844238281, 128.03509521484375, 99.91427612304688, 46.16047668457031, 37.67653274536133, 36.153297424316406, 37.14173889160156, 132.57284545898438, 132.57286071777344, 90.23348236083984, 3.608365058898926, 3.823712110519409, 3.823712110519409, 6.628795146942139, 6.952308177947998, 6.952308177947998, 7.696009635925293, 8.192802429199219, 10.108221054077148, 11.258091926574707, 14.348334312438965, 14.455209732055664, 18.020925521850586, 24.977638244628906, 23.404714584350586, 23.404714584350586, 36.2315788269043, 27.27115249633789, 25.9237003326416, 24.574621200561523, 37.645877838134766, 29.93732261657715, 30.853483200073242, 33.96601867675781, 38.25032043457031, 36.153297424316406, 37.14173889160156, 37.67653274536133, 51.97161865234375, 49.922306060791016, 128.30352783203125, 128.30340576171875, 58.093563079833984, 213.7196502685547, 65.4366683959961, 128.03509521484375, 96.35102844238281, 114.41082000732422, 278.7113342285156, 99.91427612304688, 128.57762145996094, 81.43319702148438, 90.23348236083984, 132.57284545898438, 132.57286071777344, 46.16047668457031, 23.404714584350586, 23.404714584350586, 14.455209732055664, 6.628795146942139, 114.41082000732422, 128.57762145996094, 96.35102844238281, 278.7113342285156, 65.4366683959961, 3.608365058898926, 3.823712110519409, 3.823712110519409, 6.952308177947998, 6.952308177947998, 7.696009635925293, 8.192802429199219, 10.108221054077148, 11.258091926574707, 14.348334312438965, 25.9237003326416, 18.020925521850586, 24.977638244628906, 24.574621200561523, 81.43319702148438, 27.27115249633789, 29.93732261657715, 36.2315788269043, 30.853483200073242, 33.96601867675781, 37.645877838134766, 99.91427612304688, 213.7196502685547, 51.97161865234375, 128.30352783203125, 128.30340576171875, 37.14173889160156, 38.25032043457031, 128.03509521484375, 58.093563079833984, 132.57284545898438, 132.57286071777344, 90.23348236083984, 37.14173889160156, 38.25032043457031, 3.608365058898926, 128.03509521484375, 132.57284545898438, 132.57286071777344, 90.23348236083984, 65.4366683959961, 278.7113342285156, 3.823712110519409, 3.823712110519409, 6.628795146942139, 6.952308177947998, 6.952308177947998, 7.696009635925293, 8.192802429199219, 10.108221054077148, 11.258091926574707, 29.93732261657715, 14.455209732055664, 14.348334312438965, 18.020925521850586, 23.404714584350586, 23.404714584350586, 24.574621200561523, 24.977638244628906, 25.9237003326416, 27.27115249633789, 33.96601867675781, 30.853483200073242, 46.16047668457031, 37.67653274536133, 114.41082000732422, 213.7196502685547, 49.922306060791016, 128.57762145996094, 58.093563079833984, 96.35102844238281, 128.30340576171875, 128.30352783203125, 99.91427612304688, 81.43319702148438, 65.4366683959961, 30.853483200073242, 90.23348236083984, 128.57762145996094, 132.57284545898438, 132.57286071777344, 3.608365058898926, 3.823712110519409, 3.823712110519409, 213.7196502685547, 6.628795146942139, 6.952308177947998, 6.952308177947998, 7.696009635925293, 8.192802429199219, 10.108221054077148, 11.258091926574707, 14.348334312438965, 14.455209732055664, 18.020925521850586, 23.404714584350586, 23.404714584350586, 24.977638244628906, 24.574621200561523, 25.9237003326416, 27.27115249633789, 29.93732261657715, 37.14173889160156, 33.96601867675781, 36.2315788269043, 37.67653274536133, 278.7113342285156, 128.30340576171875, 128.30352783203125, 128.03509521484375, 96.35102844238281, 58.093563079833984, 114.41082000732422, 38.25032043457031, 46.16047668457031, 51.97161865234375, 99.91427612304688, 36.153297424316406, 37.645877838134766, 49.922306060791016, 33.96601867675781, 29.93732261657715, 7.696009635925293, 81.43319702148438, 36.153297424316406, 99.91427612304688, 278.7113342285156, 213.7196502685547, 128.03509521484375, 3.608365058898926, 3.823712110519409, 3.823712110519409, 6.628795146942139, 6.952308177947998, 6.952308177947998, 8.192802429199219, 25.9237003326416, 10.108221054077148, 11.258091926574707, 14.348334312438965, 14.455209732055664, 18.020925521850586, 65.4366683959961, 23.404714584350586, 23.404714584350586, 24.977638244628906, 24.574621200561523, 37.645877838134766, 27.27115249633789, 30.853483200073242, 37.14173889160156, 51.97161865234375, 90.23348236083984, 132.57286071777344, 132.57284545898438, 128.30340576171875, 128.30352783203125, 128.57762145996094, 96.35102844238281, 114.41082000732422, 49.922306060791016, 58.093563079833984, 37.67653274536133, 36.2315788269043, 10.108221054077148, 81.43319702148438, 37.645877838134766, 25.9237003326416, 99.91427612304688, 36.153297424316406, 128.57762145996094, 65.4366683959961, 96.35102844238281, 213.7196502685547, 114.41082000732422, 278.7113342285156, 3.608365058898926, 3.823712110519409, 3.823712110519409, 6.628795146942139, 6.952308177947998, 6.952308177947998, 7.696009635925293, 8.192802429199219, 11.258091926574707, 14.348334312438965, 14.455209732055664, 18.020925521850586, 24.574621200561523, 23.404714584350586, 23.404714584350586, 27.27115249633789, 24.977638244628906, 37.67653274536133, 37.14173889160156, 128.03509521484375, 38.25032043457031, 58.093563079833984, 132.57284545898438, 132.57286071777344, 49.922306060791016, 33.96601867675781, 128.30340576171875, 128.30352783203125, 90.23348236083984, 46.16047668457031, 24.977638244628906, 128.30352783203125, 128.30340576171875, 213.7196502685547, 278.7113342285156, 65.4366683959961, 3.608365058898926, 3.823712110519409, 3.823712110519409, 6.628795146942139, 6.952308177947998, 6.952308177947998, 7.696009635925293, 8.192802429199219, 10.108221054077148, 11.258091926574707, 14.348334312438965, 14.455209732055664, 18.020925521850586, 23.404714584350586, 23.404714584350586, 30.853483200073242, 24.574621200561523, 25.9237003326416, 27.27115249633789, 29.93732261657715, 33.96601867675781, 38.25032043457031, 36.153297424316406, 36.2315788269043, 90.23348236083984, 51.97161865234375, 132.57284545898438, 132.57286071777344, 46.16047668457031, 128.57762145996094, 128.03509521484375, 96.35102844238281, 114.41082000732422, 37.14173889160156, 37.67653274536133, 99.91427612304688, 81.43319702148438, 58.093563079833984, 37.645877838134766, 11.258091926574707, 30.853483200073242, 90.23348236083984, 132.57286071777344, 132.57284545898438, 128.57762145996094, 278.7113342285156, 213.7196502685547, 3.608365058898926, 3.823712110519409, 3.823712110519409, 6.628795146942139, 6.952308177947998, 6.952308177947998, 7.696009635925293, 8.192802429199219, 10.108221054077148, 14.348334312438965, 14.455209732055664, 18.020925521850586, 24.574621200561523, 23.404714584350586, 23.404714584350586, 25.9237003326416, 24.977638244628906, 27.27115249633789, 29.93732261657715, 36.153297424316406, 37.645877838134766, 33.96601867675781, 37.67653274536133, 51.97161865234375, 99.91427612304688, 128.30352783203125, 128.30340576171875, 58.093563079833984, 96.35102844238281, 114.41082000732422, 128.03509521484375, 49.922306060791016, 65.4366683959961, 81.43319702148438, 46.16047668457031, 36.2315788269043, 27.27115249633789, 36.153297424316406, 99.91427612304688, 25.9237003326416, 37.14173889160156, 128.03509521484375, 81.43319702148438, 278.7113342285156, 3.608365058898926, 3.823712110519409, 3.823712110519409, 65.4366683959961, 6.628795146942139, 6.952308177947998, 6.952308177947998, 7.696009635925293, 8.192802429199219, 10.108221054077148, 11.258091926574707, 14.348334312438965, 14.455209732055664, 18.020925521850586, 23.404714584350586, 23.404714584350586, 24.574621200561523, 24.977638244628906, 29.93732261657715, 30.853483200073242, 37.67653274536133, 33.96601867675781, 37.645877838134766, 128.30352783203125, 128.30340576171875, 132.57284545898438, 132.57286071777344, 213.7196502685547, 49.922306060791016, 58.093563079833984, 114.41082000732422, 96.35102844238281, 51.97161865234375, 128.57762145996094, 58.093563079833984, 49.922306060791016, 14.348334312438965, 96.35102844238281, 114.41082000732422, 128.03509521484375, 128.57762145996094, 14.455209732055664, 3.608365058898926, 278.7113342285156, 3.823712110519409, 3.823712110519409, 65.4366683959961, 6.628795146942139, 6.952308177947998, 6.952308177947998, 7.696009635925293, 8.192802429199219, 10.108221054077148, 11.258091926574707, 18.020925521850586, 24.574621200561523, 24.977638244628906, 23.404714584350586, 23.404714584350586, 25.9237003326416, 37.14173889160156, 27.27115249633789, 30.853483200073242, 33.96601867675781, 81.43319702148438, 37.67653274536133, 36.153297424316406, 46.16047668457031, 99.91427612304688, 132.57284545898438, 132.57286071777344, 213.7196502685547, 90.23348236083984, 128.30352783203125, 128.30340576171875, 38.25032043457031, 51.97161865234375], \"loglift\": [30.0, 29.0, 28.0, 27.0, 26.0, 25.0, 24.0, 23.0, 22.0, 21.0, 20.0, 19.0, 18.0, 17.0, 16.0, 15.0, 14.0, 13.0, 12.0, 11.0, 10.0, 9.0, 8.0, 7.0, 6.0, 5.0, 4.0, 3.0, 2.0, 1.0, 2.906599998474121, 2.8845999240875244, 2.859600067138672, 2.7409000396728516, 2.4310998916625977, 2.4310998916625977, 1.1992000341415405, 1.1992000341415405, -0.7289000153541565, -1.3371000289916992, -1.3846999406814575, -1.3846999406814575, -1.4864000082015991, -1.7589999437332153, -1.8667000532150269, -1.9818999767303467, -2.109299898147583, -2.1166999340057373, -2.598599910736084, -2.598599910736084, -2.663599967956543, -2.7007999420166016, -2.751499891281128, -2.8118999004364014, -2.8749001026153564, -2.9489998817443848, -3.0136001110076904, -3.0604000091552734, -3.073899984359741, -3.0897998809814453, -3.1624999046325684, -3.352799892425537, -4.234399795532227, -4.234399795532227, -3.9995999336242676, -4.745699882507324, -4.258600234985352, -3.8234000205993652, -3.9916000366210938, -4.163400173187256, -5.050000190734863, -4.297999858856201, -3.9481000900268555, -3.2778000831604004, -3.507699966430664, -3.356100082397461, 1.5822999477386475, 1.5640000104904175, 1.3997999429702759, 1.3997999429702759, 1.3552000522613525, 1.3552000522613525, 0.8744999766349792, 0.5724999904632568, 0.489300012588501, 0.11949999630451202, -0.3424000144004822, -0.8535000085830688, -2.263200044631958, -2.336199998855591, -2.336199998855591, -2.886399984359741, -3.0357000827789307, -3.0982000827789307, -3.2360999584198, -3.416100025177002, -3.658600091934204, -3.6659998893737793, -3.8864998817443848, -4.147900104522705, -4.147900104522705, -4.196700096130371, -4.2129998207092285, -4.250100135803223, -4.278800010681152, -4.379799842834473, -4.820199966430664, -4.971799850463867, -5.609399795532227, -5.457499980926514, -5.727499961853027, -5.5081000328063965, -4.783599853515625, -4.5980000495910645, -4.560699939727783, -4.593400001525879, -5.8821001052856445, -5.8821001052856445, -5.497399806976318, 2.62719988822937, 2.5179998874664307, 2.5179998874664307, 2.0399999618530273, 1.9846999645233154, 1.9846999645233154, 1.81850004196167, 1.7559000253677368, 1.5678000450134277, 1.438099980354309, 1.1955000162124634, 1.188099980354309, 0.9675999879837036, 0.7878999710083008, 0.7062000036239624, 0.7062000036239624, 0.6901000142097473, 0.6807000041007996, 0.6686999797821045, 0.6575000286102295, 0.6082000136375427, 0.506600022315979, 0.42989999055862427, 0.3774000108242035, 0.320499986410141, 0.29339998960494995, 0.267300009727478, 0.23010000586509705, 0.22939999401569366, 0.2198999971151352, -0.2282000035047531, -0.2282000035047531, 0.06840000301599503, -0.6875, -0.07859999686479568, -0.5852000117301941, -0.4375999867916107, -0.6093999743461609, -1.3566999435424805, -0.5414000153541565, -0.871999979019165, -0.47600001096725464, -0.5785999894142151, -0.9632999897003174, -0.9632999897003174, 2.4563000202178955, 2.4219000339508057, 2.4219000339508057, 2.337599992752075, 2.212899923324585, 1.3588000535964966, 0.9517999887466431, 0.6884999871253967, 0.009499999694526196, -0.4997999966144562, -1.2870999574661255, -1.3451000452041626, -1.3451000452041626, -1.9428999423980713, -1.9428999423980713, -2.0445001125335693, -2.107100009918213, -2.317199945449829, -2.4249000549316406, -2.6451001167297363, -2.768899917602539, -2.895400047302246, -3.178299903869629, -3.2056000232696533, -3.267699956893921, -3.3097000122070312, -3.402899980545044, -3.4298999309539795, -3.4330999851226807, -3.5292000770568848, -3.5885000228881836, -4.254300117492676, -4.8024001121521, -3.8489999771118164, -4.604100227355957, -4.604100227355957, -3.59660005569458, -3.625999927520752, -4.834000110626221, -4.065899848937988, -4.890999794006348, -4.890999794006348, -4.506199836730957, 1.8779000043869019, 1.8509999513626099, 1.7216999530792236, 1.3508000373840332, 1.1937999725341797, 1.1937999725341797, 0.9929999709129333, 0.2978000044822693, 0.27810001373291016, -1.552299976348877, -1.552299976348877, -2.0511999130249023, -2.1501998901367188, -2.1501998901367188, -2.22979998588562, -2.3143999576568604, -2.5244998931884766, -2.632200002670288, -2.805799961090088, -2.8601999282836914, -2.874799966812134, -3.0590999126434326, -3.1451001167297363, -3.1451001167297363, -3.36929988861084, -3.4291000366210938, -3.4442999362945557, -3.5169999599456787, -3.565700054168701, -3.6278998851776123, -3.8243000507354736, -3.7750000953674316, -4.714200019836426, -5.470300197601318, -4.078000068664551, -5.002999782562256, -4.229599952697754, -4.735599994659424, -5.043300151824951, -5.043300151824951, -4.793399810791016, -4.588900089263916, 2.5778000354766846, 1.2624000310897827, 1.1949000358581543, 0.9222000241279602, 0.8141999840736389, 0.8141999840736389, 0.3596000075340271, 0.30169999599456787, 0.30169999599456787, -0.03620000183582306, -0.2485000044107437, -0.2962000072002411, -0.2962000072002411, -0.3977999985218048, -0.4603999853134155, -0.6704999804496765, -0.7135999798774719, -0.9771000146865845, -1.0282000303268433, -1.2487000226974487, -1.51010000705719, -1.51010000705719, -1.5104999542236328, -1.5587999820709229, -1.6123000383377075, -1.6628999710083008, -1.7561999559402466, -1.8100999593734741, -1.8825000524520874, -1.903499960899353, -1.9641000032424927, -3.5473999977111816, -3.0083999633789062, -3.0083999633789062, -3.0434000492095947, -2.8605000972747803, -2.3756000995635986, -3.0322000980377197, -1.9793000221252441, -2.1672000885009766, -2.285799980163574, -2.961400032043457, -1.9449000358581543, -1.9852999448776245, -2.2676000595092773, 2.75819993019104, 2.744499921798706, 2.581199884414673, 0.9406999945640564, 0.9233999848365784, 0.792900025844574, 0.7789000272750854, 0.005799999926239252, -0.21410000324249268, -0.9514999985694885, -1.0095000267028809, -1.0095000267028809, -1.5597000122070312, -1.6073999404907227, -1.6073999404907227, -1.7714999914169312, -1.896399974822998, -1.981600046157837, -2.089400053024292, -2.331899881362915, -2.3392999172210693, -2.559799909591675, -2.805000066757202, -2.821199893951416, -2.821199893951416, -2.864300012588501, -2.869999885559082, -2.9728000164031982, -2.974100112915039, -3.0123000144958496, -3.237499952316284, -3.5543999671936035, -4.065199851989746, -4.430099964141846, -4.430099964141846, -4.417200088500977, -4.417200088500977, -4.439499855041504, -4.1717000007629395, -4.343500137329102, -3.5352001190185547, -3.686800003051758, -3.268899917602539, -3.2362000942230225, 1.8874000310897827, 1.6848000288009644, 1.548200011253357, 1.506700038909912, 1.249400019645691, 1.096500039100647, 0.7440000176429749, 0.7342000007629395, 0.43790000677108765, 0.42179998755455017, 0.24809999763965607, 0.07190000265836716, -1.771299958229065, -1.829300045967102, -1.829300045967102, -2.34689998626709, -2.4272000789642334, -2.4272000789642334, -2.5288000106811523, -2.547800064086914, -2.9091999530792236, -3.0664000511169434, -3.15910005569458, -3.3361001014709473, -3.6045000553131104, -3.61899995803833, -3.61899995803833, -3.6301000118255615, -3.6624999046325684, -3.7016000747680664, -3.740600109100342, -4.799900054931641, -3.9874000549316406, -4.367599964141846, -5.121099948883057, -5.121099948883057, -4.253799915313721, -3.921600103378296, -5.197700023651123, -5.197700023651123, -4.885000228881836, -4.2555999755859375, 3.0761001110076904, 1.4215999841690063, 1.4215999841690063, 0.7717999815940857, 0.31529998779296875, -0.10000000149011612, -0.42100000381469727, -0.4790000021457672, -0.4790000021457672, -1.0291999578475952, -1.076799988746643, -1.076799988746643, -1.1785000562667847, -1.2410000562667847, -1.4510999917984009, -1.5153000354766846, -1.8013999462127686, -1.8087999820709229, -2.0292999744415283, -2.2906999588012695, -2.2906999588012695, -2.306299924850464, -2.3394999504089355, -2.392899990081787, -2.4435999393463135, -2.536900043487549, -2.663100004196167, -2.689199924468994, -2.7255001068115234, -2.72760009765625, -3.316499948501587, -2.963099956512451, -3.7021000385284424, -3.7021000385284424, -2.926300048828125, -3.8689000606536865, -3.925100088119507, -3.6621999740600586, -3.8340001106262207, -2.752500057220459, -2.7667999267578125, -3.7421000003814697, -3.5374999046325684, -3.1998000144958496, -2.7660000324249268, 1.9687000513076782, 1.9600000381469727, 1.6431000232696533, 1.2584999799728394, 1.2584999799728394, 0.6592000126838684, 0.3215000033378601, 0.1517000049352646, -1.6883000135421753, -1.7462999820709229, -1.7462999820709229, -2.2964999675750732, -2.344099998474121, -2.344099998474121, -2.4458000659942627, -2.5083000659942627, -2.571700096130371, -3.0467000007629395, -3.0541000366210938, -3.2112998962402344, -3.5215001106262207, -3.558000087738037, -3.558000087738037, -3.6166999340057373, -3.6231000423431396, -3.6673998832702637, -3.8041999340057373, -3.836899995803833, -3.881500005722046, -3.9303998947143555, -3.940500020980835, -4.25029993057251, -4.810200214385986, -5.114699840545654, -5.114699840545654, -4.402500152587891, -4.908400058746338, -5.0802001953125, -5.192699909210205, -4.271999835968018, -4.542600154876709, -4.761300086975098, -4.215199947357178, -3.9730000495910645, 2.7783000469207764, 1.9876999855041504, 1.9378999471664429, 1.8133000135421753, 1.6533000469207764, 1.1055999994277954, 0.8539000153541565, -0.31529998779296875, -0.9049000144004822, -0.9409000277519226, -0.9409000277519226, -1.1066999435424805, -1.5130000114440918, -1.538699984550476, -1.538699984550476, -1.6624000072479248, -1.7249000072479248, -1.934999942779541, -2.042799949645996, -2.2853000164031982, -2.2927000522613525, -2.4911999702453613, -2.774600028991699, -2.774600028991699, -2.8013999462127686, -2.8396999835968018, -2.9921000003814697, -3.0508999824523926, -3.118000030517578, -3.1470000743865967, -3.2279000282287598, -4.321100234985352, -4.3246002197265625, -4.426499843597412, -4.426499843597412, -4.928699970245361, -3.5100998878479004, -3.6617000102996826, -4.3394999504089355, -4.167699813842773, -3.5585999488830566, -4.4781999588012695, 2.1278998851776123, 2.12280011177063, 2.042799949645996, 1.6822999715805054, 1.4661999940872192, 1.1815999746322632, -0.5950000286102295, -1.0546000003814697, -1.7056000232696533, -1.7143000364303589, -1.7635999917984009, -1.7635999917984009, -2.075200080871582, -2.313800096511841, -2.3613998889923096, -2.3613998889923096, -2.463099956512451, -2.525599956512451, -2.71370005607605, -2.843400001525879, -3.208400011062622, -3.5185999870300293, -3.5550999641418457, -3.5752999782562256, -3.5752999782562256, -3.6554999351501465, -3.7265000343322754, -3.7281999588012695, -3.7662999629974365, -3.775899887084961, -4.27269983291626, -3.906599998474121, -3.8847999572753906, -4.071899890899658, -4.667500019073486, -4.8907999992370605, -4.8907999992370605, -5.352799892425537, -4.742199897766113, -5.075799942016602, -5.075799942016602, -4.0019001960754395, -4.3084001541137695], \"logprob\": [30.0, 29.0, 28.0, 27.0, 26.0, 25.0, 24.0, 23.0, 22.0, 21.0, 20.0, 19.0, 18.0, 17.0, 16.0, 15.0, 14.0, 13.0, 12.0, 11.0, 10.0, 9.0, 8.0, 7.0, 6.0, 5.0, 4.0, 3.0, 2.0, 1.0, -1.3307000398635864, -1.7799999713897705, -2.1152000427246094, -3.0220999717712402, -4.093999862670898, -4.093999862670898, -1.7799999713897705, -1.7799999713897705, -7.311999797821045, -7.311999797821045, -7.311999797821045, -7.311999797821045, -7.311999797821045, -7.311999797821045, -7.311999797821045, -6.449100017547607, -7.311999797821045, -7.311999797821045, -7.311999797821045, -7.311999797821045, -7.311999797821045, -7.311999797821045, -7.311999797821045, -7.090400218963623, -7.311999797821045, -7.289999961853027, -7.289999961853027, -7.311999797821045, -7.311999797821045, -7.311999797821045, -6.847700119018555, -7.268400192260742, -7.246300220489502, -7.246300220489502, -7.261600017547607, -7.247399806976318, -7.268400192260742, -7.289999961853027, -7.289999961853027, -7.289999961853027, -7.286200046539307, -7.311999797821045, -7.311999797821045, -7.311999797821045, -7.311999797821045, -7.311999797821045, -2.333400011062622, -2.7125000953674316, -1.6121000051498413, -1.6121000051498413, -4.5721001625061035, -4.5721001625061035, -1.6272000074386597, -3.665600061416626, -3.7328999042510986, -2.1166000366210938, -3.3522000312805176, -4.538700103759766, -8.84630012512207, -8.861300468444824, -8.861300468444824, -8.861300468444824, -8.861300468444824, -8.861300468444824, -8.78909969329834, -8.861300468444824, -8.861300468444824, -8.861300468444824, -8.861300468444824, -8.861300468444824, -8.861300468444824, -8.861300468444824, -8.861300468444824, -8.861300468444824, -8.839300155639648, -8.847000122070312, -8.776000022888184, -8.776000022888184, -8.736000061035156, -8.755800247192383, -8.741499900817871, -8.770099639892578, -8.81779956817627, -8.83530044555664, -8.839300155639648, -8.845000267028809, -8.861300468444824, -8.861300468444824, -8.861300468444824, -3.955899953842163, -4.007199764251709, -4.007199764251709, -3.9349000453948975, -3.942500114440918, -3.942500114440918, -4.007199764251709, -4.007199764251709, -3.9851999282836914, -4.007199764251709, -4.007199764251709, -4.007199764251709, -4.007199764251709, -3.8605000972747803, -4.007199764251709, -4.007199764251709, -3.5862998962402344, -3.8798000812530518, -3.942500114440918, -4.007199764251709, -3.6298999786376953, -3.960599899291992, -4.007199764251709, -3.963599920272827, -3.901599884033203, -3.9851999282836914, -3.984299898147583, -4.007199764251709, -3.686300039291382, -3.7358999252319336, -3.2400999069213867, -3.2402000427246094, -3.7358999252319336, -3.189199924468994, -3.7637999057769775, -3.5992000102996826, -3.7358999252319336, -3.7358999252319336, -3.5927999019622803, -3.803499937057495, -3.8817999362945557, -3.942500114440918, -3.942500114440918, -3.942500114440918, -3.942500114440918, -1.5779999494552612, -2.2915000915527344, -2.2915000915527344, -2.8577001094818115, -3.76200008392334, -1.767799973487854, -2.058000087738037, -2.609800100326538, -2.226599931716919, -4.185100078582764, -7.870200157165527, -7.870200157165527, -7.870200157165527, -7.870200157165527, -7.870200157165527, -7.870200157165527, -7.870200157165527, -7.870200157165527, -7.870200157165527, -7.847799777984619, -7.380099773406982, -7.870200157165527, -7.826600074768066, -7.870200157165527, -6.7342000007629395, -7.870200157165527, -7.870200157165527, -7.706299781799316, -7.870200157165527, -7.870200157165527, -7.826600074768066, -7.516300201416016, -7.304100036621094, -7.764699935913086, -7.616099834442139, -7.616099834442139, -7.848199844360352, -7.848199844360352, -7.848100185394287, -7.870200157165527, -7.870200157165527, -7.870200157165527, -7.870200157165527, -2.373699903488159, -2.3712000846862793, -4.861299991607666, -1.6632000207901, -1.7854000329971313, -1.7854000329971313, -2.371000051498413, -3.387500047683716, -1.9579999446868896, -8.077500343322754, -8.077500343322754, -8.026100158691406, -8.077500343322754, -8.077500343322754, -8.055500030517578, -8.077500343322754, -8.077500343322754, -8.077500343322754, -7.2729997634887695, -8.055500030517578, -8.077500343322754, -8.033900260925293, -7.858500003814697, -7.858500003814697, -8.033900260925293, -8.077500343322754, -8.055500030517578, -8.077500343322754, -7.906700134277344, -8.0649995803833, -7.858500003814697, -8.012399673461914, -7.840799808502197, -7.97189998626709, -8.033900260925293, -8.012800216674805, -8.033900260925293, -8.033900260925293, -8.05519962310791, -8.05519962310791, -8.055500030517578, -8.055500030517578, -1.1074999570846558, -3.1745998859405518, -2.169100046157837, -2.087599992752075, -2.1649999618530273, -2.1649999618530273, -6.223499774932861, -6.223499774932861, -6.223499774932861, -2.537899971008301, -6.223499774932861, -6.223499774932861, -6.223499774932861, -6.223499774932861, -6.223499774932861, -6.223499774932861, -6.15880012512207, -6.179800033569336, -6.223499774932861, -6.223499774932861, -6.223499774932861, -6.223499774932861, -6.15880012512207, -6.223499774932861, -6.223499774932861, -6.223499774932861, -6.223499774932861, -6.061699867248535, -6.223499774932861, -6.179900169372559, -6.201399803161621, -5.7835001945495605, -6.020299911499023, -6.020299911499023, -6.057400226593018, -6.15880012512207, -6.179900169372559, -6.15880012512207, -6.201399803161621, -6.201399803161621, -6.201399803161621, -6.223499774932861, -6.223499774932861, -6.223499774932861, -6.223499774932861, -1.582800030708313, -1.7226999998092651, -3.244499921798706, -2.525899887084961, -3.3552000522613525, -2.469099998474121, -1.4572999477386475, -2.495800018310547, -3.2281999588012695, -7.534599781036377, -7.534599781036377, -7.534599781036377, -7.534599781036377, -7.534599781036377, -7.534599781036377, -7.534599781036377, -6.507599830627441, -7.534599781036377, -7.534599781036377, -7.534599781036377, -7.534599781036377, -7.534599781036377, -6.490200042724609, -7.534599781036377, -7.534599781036377, -7.512599945068359, -7.534599781036377, -7.210899829864502, -7.534599781036377, -7.449399948120117, -7.489099979400635, -7.46999979019165, -7.429100036621094, -7.409299850463867, -7.409299850463867, -7.429100036621094, -7.429100036621094, -7.4492998123168945, -7.46999979019165, -7.46999979019165, -7.491099834442139, -7.491099834442139, -7.506199836730957, -7.512599945068359, -3.665600061416626, -1.7818000316619873, -2.690000057220459, -3.1045000553131104, -2.012700080871582, -3.1821000576019287, -2.2657999992370605, -2.9511001110076904, -2.8605000972747803, -2.0797998905181885, -2.878499984741211, -2.164299964904785, -8.354399681091309, -8.354399681091309, -8.354399681091309, -8.321900367736816, -8.354399681091309, -8.354399681091309, -8.354399681091309, -8.31089973449707, -8.354399681091309, -8.269100189208984, -8.354399681091309, -8.31089973449707, -8.269100189208984, -8.33240032196045, -8.33240032196045, -8.190600395202637, -8.31089973449707, -7.938899993896484, -7.992199897766113, -7.813899993896484, -8.209600448608398, -8.171799659729004, -8.100299835205078, -8.100299835205078, -8.209600448608398, -8.262499809265137, -8.209600448608398, -8.209600448608398, -8.248900413513184, -8.289799690246582, -1.5721999406814575, -1.5902999639511108, -1.5902999639511108, -1.7297999858856201, -1.9208999872207642, -3.7852001190185547, -7.0040998458862305, -7.0040998458862305, -7.0040998458862305, -7.0040998458862305, -7.0040998458862305, -7.0040998458862305, -7.0040998458862305, -7.0040998458862305, -7.0040998458862305, -6.9604997634887695, -7.0040998458862305, -7.0040998458862305, -7.0040998458862305, -7.0040998458862305, -7.0040998458862305, -6.743299961090088, -7.0040998458862305, -7.0040998458862305, -7.0040998458862305, -7.0040998458862305, -7.0040998458862305, -6.911399841308594, -7.0040998458862305, -7.0040998458862305, -6.680500030517578, -6.878699779510498, -6.681300163269043, -6.681300163269043, -6.9604997634887695, -6.878699779510498, -6.9390997886657715, -6.9604997634887695, -6.9604997634887695, -7.0040998458862305, -7.0040998458862305, -7.0040998458862305, -7.0040998458862305, -7.0040998458862305, -7.0040998458862305, -3.4765000343322754, -2.477099895477295, -1.7208000421524048, -1.7207000255584717, -1.7207000255584717, -2.350600004196167, -1.9147000312805176, -2.3499999046325684, -8.271400451660156, -8.271400451660156, -8.271400451660156, -8.271400451660156, -8.271400451660156, -8.271400451660156, -8.271400451660156, -8.271400451660156, -8.124699592590332, -8.24940013885498, -8.24940013885498, -8.186100006103516, -8.186100006103516, -8.271400451660156, -8.271400451660156, -8.227899551391602, -8.271400451660156, -8.227899551391602, -8.271400451660156, -8.115400314331055, -8.119600296020508, -8.271400451660156, -8.177800178527832, -8.165900230407715, -8.072199821472168, -8.12660026550293, -8.12660026550293, -8.20680046081543, -8.20680046081543, -8.20680046081543, -8.20680046081543, -8.227899551391602, -8.227899551391602, -8.227899551391602, -8.24940013885498, -8.24940013885498, -1.7821999788284302, -2.2908999919891357, -1.3241000175476074, -2.7978999614715576, -2.598299980163574, -1.908400058746338, -2.6126999855041504, -2.551500082015991, -7.48799991607666, -7.466000080108643, -7.466000080108643, -4.791999816894531, -7.4878997802734375, -7.466000080108643, -7.466000080108643, -7.48799991607666, -7.48799991607666, -7.48799991607666, -7.48799991607666, -7.48799991607666, -7.48799991607666, -7.466000080108643, -7.48799991607666, -7.48799991607666, -7.466000080108643, -7.48799991607666, -7.4593000411987305, -7.48799991607666, -7.355299949645996, -7.48799991607666, -7.466000080108643, -7.333099842071533, -7.336599826812744, -7.405799865722656, -7.405799865722656, -7.430300235748291, -7.466000080108643, -7.466000080108643, -7.466000080108643, -7.466000080108643, -7.4741997718811035, -7.48799991607666, -1.6763999462127686, -1.8329999446868896, -3.159899950027466, -1.6160999536514282, -1.6604000329971313, -1.8323999643325806, -3.60479998588562, -6.249899864196777, -8.288700103759766, -3.950500011444092, -8.288700103759766, -8.288700103759766, -5.76039981842041, -8.288700103759766, -8.288700103759766, -8.288700103759766, -8.288700103759766, -8.288700103759766, -8.26669979095459, -8.288700103759766, -8.183199882507324, -8.183199882507324, -8.203399658203125, -8.288700103759766, -8.288700103759766, -8.26669979095459, -7.978099822998047, -8.288700103759766, -8.203399658203125, -8.116800308227539, -7.739299774169922, -8.143899917602539, -8.163399696350098, -8.106100082397461, -7.929599761962891, -7.869999885559082, -7.869999885559082, -7.854499816894531, -8.106100082397461, -8.087699890136719, -8.087699890136719, -8.224100112915039, -8.224100112915039]}, \"token.table\": {\"Topic\": [3, 4, 3, 6, 10, 3, 7, 8, 11, 3, 4, 12, 3, 8, 11, 2, 3, 9, 2, 3, 9, 3, 7, 8, 11, 2, 3, 4, 6, 8, 10, 12, 3, 4, 8, 12, 2, 3, 3, 12, 3, 5, 6, 10, 1, 3, 3, 4, 3, 4, 3, 7, 3, 5, 2, 3, 4, 5, 7, 8, 9, 10, 11, 12, 3, 7, 3, 5, 7, 11, 12, 1, 3, 3, 7, 8, 11, 3, 8, 3, 11, 3, 5, 11, 2, 3, 6, 7, 8, 9, 10, 1, 3, 3, 4, 1, 3, 5, 6, 10, 3, 9, 2, 3, 8, 2, 3, 4, 5, 6, 8, 9, 11, 12, 1, 3, 2, 3, 1, 3, 5, 6, 10, 3, 10, 1, 3, 3, 12, 2, 3, 3, 7, 2, 3, 2, 3, 5, 3, 12, 3, 4, 8, 12, 1, 3], \"Freq\": [0.15085697174072266, 0.7542848587036133, 0.032411251217126846, 0.09723375737667084, 0.8426925539970398, 0.02765999361872673, 0.13829997181892395, 0.387239933013916, 0.41489991545677185, 0.06917920708656311, 0.8301505446434021, 0.06917920708656311, 0.038574740290641785, 0.5786210894584656, 0.34717264771461487, 0.8027838468551636, 0.007794017903506756, 0.1792624145746231, 0.8027846217155457, 0.007794025354087353, 0.17926257848739624, 0.010008580051362514, 0.13011153042316437, 0.44037750363349915, 0.4003431797027588, 0.13999325037002563, 0.007777403108775616, 0.21776728332042694, 0.06999662518501282, 0.272209107875824, 0.23332209885120392, 0.062219224870204926, 0.010378716513514519, 0.1660594642162323, 0.1971956044435501, 0.6227229833602905, 0.9620635509490967, 0.019241271540522575, 0.01721361093223095, 0.963962197303772, 0.0110823605209589, 0.2659766674041748, 0.0886588841676712, 0.6206122040748596, 0.9359248876571655, 0.04069238901138306, 0.042726434767246246, 0.9399815797805786, 0.042726434767246246, 0.9399815797805786, 0.029441189020872116, 0.9421180486679077, 0.2771338224411011, 0.5542676448822021, 0.22245238721370697, 0.003587941639125347, 0.08252266049385071, 0.13275383412837982, 0.13275383412837982, 0.13634178042411804, 0.057407066226005554, 0.16504532098770142, 0.043055299669504166, 0.021527649834752083, 0.033403120934963226, 0.935287356376648, 0.007810358423739672, 0.3827075660228729, 0.046862151473760605, 0.17963825166225433, 0.37489721179008484, 0.955501914024353, 0.02654172107577324, 0.012280004099011421, 0.15964005887508392, 0.6876802444458008, 0.13508003950119019, 0.09892937541007996, 0.890364408493042, 0.03666878491640091, 0.9533883929252625, 0.02692388743162155, 0.6461732983589172, 0.29616275429725647, 0.4772607386112213, 0.004679027013480663, 0.02807416208088398, 0.0608273483812809, 0.196519136428833, 0.09358053654432297, 0.14037080109119415, 0.8544085025787354, 0.12205835431814194, 0.02166355401277542, 0.9748599529266357, 0.173489511013031, 0.007543021813035011, 0.3318929672241211, 0.06034417450428009, 0.4224092364311218, 0.04003581032156944, 0.9208236336708069, 0.3453233242034912, 0.026563333347439766, 0.6109566688537598, 0.09169171005487442, 0.015281951986253262, 0.04584585502743721, 0.13753756880760193, 0.3667668402194977, 0.2597931921482086, 0.04584585502743721, 0.015281951986253262, 0.015281951986253262, 0.523051917552948, 0.261525958776474, 0.7191855907440186, 0.1438371241092682, 0.1734895259141922, 0.007543022744357586, 0.3318929970264435, 0.06034418195486069, 0.4224092662334442, 0.08882500231266022, 0.8882499933242798, 0.8878567218780518, 0.055491045117378235, 0.06969450414180756, 0.9060285091400146, 0.7191855907440186, 0.1438371241092682, 0.12993746995925903, 0.7796248197555542, 0.9384078979492188, 0.027600232511758804, 0.3137228488922119, 0.026143571361899376, 0.6274456977844238, 0.020031126216053963, 0.9614940285682678, 0.008740431629121304, 0.3233959972858429, 0.1660682111978531, 0.49820461869239807, 0.523051917552948, 0.261525958776474], \"Term\": [\"acid\", \"acid\", \"aids\", \"aids\", \"aids\", \"ala\", \"ala\", \"ala\", \"ala\", \"biotin\", \"biotin\", \"biotin\", \"blood\", \"blood\", \"blood\", \"bones\", \"bones\", \"bones\", \"calcium\", \"calcium\", \"calcium\", \"cholesterol\", \"cholesterol\", \"cholesterol\", \"cholesterol\", \"contribute\", \"contribute\", \"contribute\", \"contribute\", \"contribute\", \"contribute\", \"contribute\", \"energy\", \"energy\", \"energy\", \"energy\", \"essential\", \"essential\", \"food\", \"food\", \"function\", \"function\", \"function\", \"function\", \"functioning\", \"functioning\", \"get\", \"get\", \"going\", \"going\", \"great\", \"great\", \"health\", \"health\", \"healthy\", \"healthy\", \"healthy\", \"healthy\", \"healthy\", \"healthy\", \"healthy\", \"healthy\", \"healthy\", \"healthy\", \"heart\", \"heart\", \"help\", \"help\", \"help\", \"help\", \"help\", \"keep\", \"keep\", \"level\", \"level\", \"level\", \"level\", \"low\", \"low\", \"lower\", \"lower\", \"maintain\", \"maintain\", \"maintain\", \"maintenance\", \"maintenance\", \"maintenance\", \"maintenance\", \"maintenance\", \"maintenance\", \"maintenance\", \"mean\", \"mean\", \"metabolism\", \"metabolism\", \"muscle\", \"muscle\", \"muscle\", \"muscle\", \"muscle\", \"necessary\", \"necessary\", \"need\", \"need\", \"need\", \"normal\", \"normal\", \"normal\", \"normal\", \"normal\", \"normal\", \"normal\", \"normal\", \"normal\", \"normally\", \"normally\", \"play\", \"play\", \"potassium\", \"potassium\", \"potassium\", \"potassium\", \"potassium\", \"proper\", \"proper\", \"properly\", \"properly\", \"release\", \"release\", \"role\", \"role\", \"stay\", \"stay\", \"strong\", \"strong\", \"support\", \"support\", \"support\", \"turn\", \"turn\", \"vitamin\", \"vitamin\", \"vitamin\", \"vitamin\", \"working\", \"working\"]}, \"R\": 30, \"lambda.step\": 0.01, \"plot.opts\": {\"xlab\": \"PC1\", \"ylab\": \"PC2\"}, \"topic.order\": [1, 2, 3, 4, 5, 6, 7, 8, 9, 10, 11, 12]};\n",
       "\n",
       "function LDAvis_load_lib(url, callback){\n",
       "  var s = document.createElement('script');\n",
       "  s.src = url;\n",
       "  s.async = true;\n",
       "  s.onreadystatechange = s.onload = callback;\n",
       "  s.onerror = function(){console.warn(\"failed to load library \" + url);};\n",
       "  document.getElementsByTagName(\"head\")[0].appendChild(s);\n",
       "}\n",
       "\n",
       "if(typeof(LDAvis) !== \"undefined\"){\n",
       "   // already loaded: just create the visualization\n",
       "   !function(LDAvis){\n",
       "       new LDAvis(\"#\" + \"ldavis_el2048825833040196646014696956\", ldavis_el2048825833040196646014696956_data);\n",
       "   }(LDAvis);\n",
       "}else if(typeof define === \"function\" && define.amd){\n",
       "   // require.js is available: use it to load d3/LDAvis\n",
       "   require.config({paths: {d3: \"https://cdnjs.cloudflare.com/ajax/libs/d3/3.5.5/d3.min\"}});\n",
       "   require([\"d3\"], function(d3){\n",
       "      window.d3 = d3;\n",
       "      LDAvis_load_lib(\"https://cdn.rawgit.com/bmabey/pyLDAvis/files/ldavis.v1.0.0.js\", function(){\n",
       "        new LDAvis(\"#\" + \"ldavis_el2048825833040196646014696956\", ldavis_el2048825833040196646014696956_data);\n",
       "      });\n",
       "    });\n",
       "}else{\n",
       "    // require.js not available: dynamically load d3 & LDAvis\n",
       "    LDAvis_load_lib(\"https://cdnjs.cloudflare.com/ajax/libs/d3/3.5.5/d3.min.js\", function(){\n",
       "         LDAvis_load_lib(\"https://cdn.rawgit.com/bmabey/pyLDAvis/files/ldavis.v1.0.0.js\", function(){\n",
       "                 new LDAvis(\"#\" + \"ldavis_el2048825833040196646014696956\", ldavis_el2048825833040196646014696956_data);\n",
       "            })\n",
       "         });\n",
       "}\n",
       "</script>"
      ],
      "text/plain": [
       "<IPython.core.display.HTML object>"
      ]
     },
     "execution_count": 215,
     "metadata": {},
     "output_type": "execute_result"
    }
   ],
   "source": [
    "import pyLDAvis.gensim\n",
    "lda_display = pyLDAvis.gensim.prepare(ldamodel, corpus, dictionary, sort_topics=False)\n",
    "pyLDAvis.display(lda_display)"
   ]
  },
  {
   "cell_type": "markdown",
   "metadata": {},
   "source": [
    "# Similarity"
   ]
  },
  {
   "cell_type": "code",
   "execution_count": 228,
   "metadata": {},
   "outputs": [
    {
     "data": {
      "text/plain": [
       "((2, 0.4), (1, 0.14285714285714285))"
      ]
     },
     "execution_count": 228,
     "metadata": {},
     "output_type": "execute_result"
    }
   ],
   "source": [
    "# the fraction of the same words out of the whole words of two compared hc\n",
    "from nltk.corpus import wordnet\n",
    "def get_lemma(word):\n",
    "    lemma = wordnet.morphy(word)\n",
    "    if lemma is None:\n",
    "        return word\n",
    "    else:\n",
    "        return lemma\n",
    "\n",
    "def getTokens(hc):\n",
    "    tokens = word_tokenize(hc)\n",
    "    tokens = [get_lemma(w).lower() for w in tokens if w not in stopwordEn and w.isalpha()]\n",
    "    return tokens\n",
    "\n",
    "def wordSim(hc, ahc): # input raw health claims text\n",
    "    hc, ahc =  getTokens(hc), getTokens(ahc)\n",
    "    hit = 0\n",
    "    for w in hc: # 不忽略hc中的重复\n",
    "        for aw in ahc:\n",
    "            if w==aw:\n",
    "                hit += 1\n",
    "                break #不用break，max sim != 1，会加强重复的word, 用了break，忽略ahc中重复的word\n",
    "#     return hit,len(hc),len(ahc)\n",
    "    return hit,hit/((len(hc)+len(ahc))/2)\n",
    "\n",
    "wordSim(df_hc_cus.hc[0], df_hc_res.hc[25]), wordSim(df_hc_cus.hc[0], df_hc_manu.hc[25])"
   ]
  },
  {
   "cell_type": "code",
   "execution_count": 224,
   "metadata": {},
   "outputs": [
    {
     "data": {
      "text/plain": [
       "'vitamin b7 contributes to healthy energy metabolism.'"
      ]
     },
     "execution_count": 224,
     "metadata": {},
     "output_type": "execute_result"
    }
   ],
   "source": [
    "df_hc_cus.hc[0]"
   ]
  },
  {
   "cell_type": "code",
   "execution_count": 227,
   "metadata": {},
   "outputs": [
    {
     "data": {
      "text/plain": [
       "'choline contributes to normal homocysteine metabolism.'"
      ]
     },
     "execution_count": 227,
     "metadata": {},
     "output_type": "execute_result"
    }
   ],
   "source": [
    "df_hc_res.hc[25]"
   ]
  },
  {
   "cell_type": "code",
   "execution_count": 223,
   "metadata": {},
   "outputs": [
    {
     "data": {
      "text/plain": [
       "'100% nrv of sunshine vitamin d: essential for the normal growth and development of bones in children.'"
      ]
     },
     "execution_count": 223,
     "metadata": {},
     "output_type": "execute_result"
    }
   ],
   "source": [
    "df_hc_manu.hc[25]"
   ]
  },
  {
   "cell_type": "code",
   "execution_count": 238,
   "metadata": {},
   "outputs": [
    {
     "data": {
      "text/plain": [
       "((5, 0.7692307692307693), (2, 0.15384615384615385))"
      ]
     },
     "execution_count": 238,
     "metadata": {},
     "output_type": "execute_result"
    }
   ],
   "source": [
    "# the number of the same two-gram pos tagging \n",
    "def pos2Sim(hc_tag, ahc_tag): #input pos tag sequence\n",
    "    # 2-gram\n",
    "    hit = 0\n",
    "    dic_at2={}\n",
    "    for i in range(len(hc_tag)-1):\n",
    "        t2 = (hc_tag[i], hc_tag[i+1])\n",
    "        for p in range(len(ahc_tag)-1):\n",
    "            at2 = (ahc_tag[p], ahc_tag[p+1])\n",
    "            # del duplicate t2 in ahc\n",
    "            if t2 == at2 and at2 not in dic_at2:\n",
    "                dic_at2[at2] = True\n",
    "                hit += 1\n",
    "                break\n",
    "    return hit, hit/((len(hc_tag)+len(ahc_tag)-2)/2)\n",
    "pos2Sim(df_hc_cus.pos[0], df_hc_res.pos[25]), pos2Sim(df_hc_cus.pos[0], df_hc_manu.pos[25])"
   ]
  },
  {
   "cell_type": "code",
   "execution_count": 247,
   "metadata": {},
   "outputs": [],
   "source": [
    "# Average Similarity 遍历所有approved hc计算相似度，而非是通过nutrients查找\n",
    "def avgSim(hc_ID):  #find similar approved hc, calculate avg sim, using pos tags in the df\n",
    "    res_wordSim, res_pos2Sim = [],[]\n",
    "    hc = df_hc_cus.hc[hc_ID]\n",
    "    hc_pos = df_hc_cus.pos[hc_ID]\n",
    "    for row in range(len(df_hc_res)):\n",
    "        ahc = df_hc_res.hc[row]\n",
    "        ahc_pos = df_hc_res.pos[row]\n",
    "        res_wordSim.append(wordSim(hc, ahc)[1])\n",
    "        res_pos2Sim.append(pos2Sim(hc_pos, ahc_pos)[1])\n",
    "    res = pd.DataFrame({'wordSim':res_wordSim,'pos2Sim':res_pos2Sim,'avgSim':None}, index=range(len(df_hc_res)))\n",
    "    res['avgSim'] = res.iloc[:,:2].mean(axis=1)\n",
    "    return res.sort_values(by=['avgSim'], ascending=False)"
   ]
  },
  {
   "cell_type": "code",
   "execution_count": 279,
   "metadata": {},
   "outputs": [
    {
     "name": "stdout",
     "output_type": "stream",
     "text": [
      "Query: 510 omega-3 contributes to the maintenance of normal blood cholesterol levels.\n",
      "23 chitosan contributes to the maintenance of normal blood cholesterol levels.\n",
      "0 ala contributes to the maintenance of normal blood cholesterol levels.\n",
      "64 glucomannan contributes to the maintenance of normal blood cholesterol levels.\n",
      "3 beta-glucans contribute to the maintenance of normal blood cholesterol levels.\n",
      "115 pectins contribute to the maintenance of normal blood cholesterol levels.\n",
      "67 hydroxypropyl methylcellulose contributes to the maintenance of normal blood cholesterol levels.\n",
      "82 linoleic acid contributes to the maintenance of normal blood cholesterol levels.\n",
      "120 plant sterols/stanols contribute to the maintenance of normal blood cholesterol levels.\n",
      "51 dha contributes to the maintenance of normal blood triglyceride levels.\n",
      "66 guar gum contributes to the maintenance of normal blood cholesterol levels.\n"
     ]
    }
   ],
   "source": [
    "QUERY_ID = 510\n",
    "res = avgSim(QUERY_ID).head(10)\n",
    "print('Query:',QUERY_ID,df_hc_cus.hc[QUERY_ID])\n",
    "for i in res.index[:10]:\n",
    "    print(i, df_hc_res.hc[i])"
   ]
  },
  {
   "cell_type": "code",
   "execution_count": 275,
   "metadata": {},
   "outputs": [
    {
     "data": {
      "text/html": [
       "<div>\n",
       "<style scoped>\n",
       "    .dataframe tbody tr th:only-of-type {\n",
       "        vertical-align: middle;\n",
       "    }\n",
       "\n",
       "    .dataframe tbody tr th {\n",
       "        vertical-align: top;\n",
       "    }\n",
       "\n",
       "    .dataframe thead th {\n",
       "        text-align: right;\n",
       "    }\n",
       "</style>\n",
       "<table border=\"1\" class=\"dataframe\">\n",
       "  <thead>\n",
       "    <tr style=\"text-align: right;\">\n",
       "      <th></th>\n",
       "      <th>wordSim</th>\n",
       "      <th>pos2Sim</th>\n",
       "      <th>avgSim</th>\n",
       "    </tr>\n",
       "  </thead>\n",
       "  <tbody>\n",
       "    <tr>\n",
       "      <th>3</th>\n",
       "      <td>0.833333</td>\n",
       "      <td>0.666667</td>\n",
       "      <td>0.750000</td>\n",
       "    </tr>\n",
       "    <tr>\n",
       "      <th>66</th>\n",
       "      <td>0.714286</td>\n",
       "      <td>0.727273</td>\n",
       "      <td>0.720779</td>\n",
       "    </tr>\n",
       "    <tr>\n",
       "      <th>0</th>\n",
       "      <td>0.769231</td>\n",
       "      <td>0.666667</td>\n",
       "      <td>0.717949</td>\n",
       "    </tr>\n",
       "    <tr>\n",
       "      <th>23</th>\n",
       "      <td>0.769231</td>\n",
       "      <td>0.666667</td>\n",
       "      <td>0.717949</td>\n",
       "    </tr>\n",
       "    <tr>\n",
       "      <th>64</th>\n",
       "      <td>0.769231</td>\n",
       "      <td>0.666667</td>\n",
       "      <td>0.717949</td>\n",
       "    </tr>\n",
       "    <tr>\n",
       "      <th>115</th>\n",
       "      <td>0.769231</td>\n",
       "      <td>0.666667</td>\n",
       "      <td>0.717949</td>\n",
       "    </tr>\n",
       "    <tr>\n",
       "      <th>120</th>\n",
       "      <td>0.769231</td>\n",
       "      <td>0.636364</td>\n",
       "      <td>0.702797</td>\n",
       "    </tr>\n",
       "    <tr>\n",
       "      <th>29</th>\n",
       "      <td>0.615385</td>\n",
       "      <td>0.761905</td>\n",
       "      <td>0.688645</td>\n",
       "    </tr>\n",
       "    <tr>\n",
       "      <th>82</th>\n",
       "      <td>0.714286</td>\n",
       "      <td>0.636364</td>\n",
       "      <td>0.675325</td>\n",
       "    </tr>\n",
       "    <tr>\n",
       "      <th>67</th>\n",
       "      <td>0.714286</td>\n",
       "      <td>0.636364</td>\n",
       "      <td>0.675325</td>\n",
       "    </tr>\n",
       "  </tbody>\n",
       "</table>\n",
       "</div>"
      ],
      "text/plain": [
       "      wordSim   pos2Sim    avgSim\n",
       "3    0.833333  0.666667  0.750000\n",
       "66   0.714286  0.727273  0.720779\n",
       "0    0.769231  0.666667  0.717949\n",
       "23   0.769231  0.666667  0.717949\n",
       "64   0.769231  0.666667  0.717949\n",
       "115  0.769231  0.666667  0.717949\n",
       "120  0.769231  0.636364  0.702797\n",
       "29   0.615385  0.761905  0.688645\n",
       "82   0.714286  0.636364  0.675325\n",
       "67   0.714286  0.636364  0.675325"
      ]
     },
     "execution_count": 275,
     "metadata": {},
     "output_type": "execute_result"
    }
   ],
   "source": [
    "res"
   ]
  },
  {
   "cell_type": "code",
   "execution_count": null,
   "metadata": {},
   "outputs": [],
   "source": []
  }
 ],
 "metadata": {
  "kernelspec": {
   "display_name": "Python 3",
   "language": "python",
   "name": "python3"
  },
  "language_info": {
   "codemirror_mode": {
    "name": "ipython",
    "version": 3
   },
   "file_extension": ".py",
   "mimetype": "text/x-python",
   "name": "python",
   "nbconvert_exporter": "python",
   "pygments_lexer": "ipython3",
   "version": "3.6.7"
  }
 },
 "nbformat": 4,
 "nbformat_minor": 2
}
